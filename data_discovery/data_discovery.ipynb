{
 "cells": [
  {
   "cell_type": "markdown",
   "metadata": {},
   "source": [
    "### Script to acquire ICESat-2 data into your Pangeo workspace for initial tutorial development\n",
    "\n",
    "* Scott Henderson, UW\n",
    "* Anthony Arendt, UW"
   ]
  },
  {
   "cell_type": "code",
   "execution_count": 2,
   "metadata": {},
   "outputs": [],
   "source": [
    "import s3fs\n",
    "import xarray as xr\n",
    "import h5py"
   ]
  },
  {
   "cell_type": "code",
   "execution_count": 11,
   "metadata": {},
   "outputs": [
    {
     "data": {
      "text/plain": [
       "['pangeo-data-upload-oregon/icesat2/atl03/ATL03_20181017101822_02870106_205_01.h5',\n",
       " 'pangeo-data-upload-oregon/icesat2/atl03/ATL03_20181017101822_02870106_205_01.iso.xml',\n",
       " 'pangeo-data-upload-oregon/icesat2/atl03/readme.txt']"
      ]
     },
     "execution_count": 11,
     "metadata": {},
     "output_type": "execute_result"
    }
   ],
   "source": [
    "# Connect to bucket\n",
    "import s3fs\n",
    "bucket = 'pangeo-data-upload-oregon'\n",
    "fs = s3fs.S3FileSystem()\n",
    "# List contents\n",
    "dataDir = 'pangeo-data-upload-oregon/icesat2/atl03'\n",
    "fs.ls(dataDir)"
   ]
  },
  {
   "cell_type": "code",
   "execution_count": 12,
   "metadata": {},
   "outputs": [],
   "source": [
    "# Download an HDF5 to home directory\n",
    "filename = 'ATL03_20181017101822_02870106_205_01.h5'\n",
    "data = dataDir + '/' + filename\n",
    "fs.get(data, filename)"
   ]
  },
  {
   "cell_type": "markdown",
   "metadata": {},
   "source": [
    "### Try xarray\n",
    "\n",
    "We can look at the data structure, but it is not formatted for use in xarray"
   ]
  },
  {
   "cell_type": "code",
   "execution_count": 19,
   "metadata": {},
   "outputs": [
    {
     "name": "stdout",
     "output_type": "stream",
     "text": [
      "<xarray.Dataset>\n",
      "Dimensions:       (ds_surf_type: 5, ds_xyz: 3)\n",
      "Coordinates:\n",
      "  * ds_surf_type  (ds_surf_type) int32 1 2 3 4 5\n",
      "  * ds_xyz        (ds_xyz) int32 1 2 3\n",
      "Data variables:\n",
      "    *empty*\n",
      "Attributes:\n",
      "    granule_type:                       ATL03\n",
      "    short_name:                         ATL03\n",
      "    level:                              L2\n",
      "    description:                        Photon heights determined by ATBD Alg...\n",
      "    contributor_name:                   Thomas E Neumann (thomas.neumann@nasa...\n",
      "    contributor_role:                   Instrument Engineer, Investigator, Pr...\n",
      "    Conventions:                        CF-1.6\n",
      "    date_type:                          UTC\n",
      "    featureType:                        trajectory\n",
      "    geospatial_lat_units:               degrees_north\n",
      "    geospatial_lon_units:               degrees_east\n",
      "    identifier_product_doi:             10.5067/ATLAS/ATL03.001\n",
      "    identifier_product_doi_authority:   http://dx.doi.org\n",
      "    identifier_product_type:            ATL03\n",
      "    license:                            Data may not be reproduced or distrib...\n",
      "    naming_authority:                   http://dx.doi.org\n",
      "    spatial_coverage_type:              Horizontal\n",
      "    standard_name_vocabulary:           CF-1.6\n",
      "    time_type:                          CCSDS UTC-A\n",
      "    date_created:                       2019-02-22T21:36:26.000000Z\n",
      "    hdfversion:                         HDF5 1.10.3\n",
      "    history:                            2019-02-22T21:36:26.000000Z;7d7d1217-...\n",
      "    identifier_file_uuid:               7d7d1217-0a51-32c7-9668-76f9cb6f5abd\n",
      "    identifier_product_format_version:   3.0\n",
      "    time_coverage_duration:             511.0\n",
      "    time_coverage_end:                  2018-10-17T10:26:53.000000Z\n",
      "    time_coverage_start:                2018-10-17T10:18:22.000000Z\n",
      "    geospatial_lat_min:                 27.165281074967876\n",
      "    geospatial_lon_min:                 -104.25776485626916\n",
      "    geospatial_lat_max:                 59.45914367107108\n",
      "    geospatial_lon_max:                 -99.71800465595649\n",
      "    publisher_name:                     NSIDC DAAC > NASA National Snow and I...\n",
      "    publisher_email:                    nsidc@nsidc.org\n",
      "    publisher_url:                      http://nsidc.org/daac/\n",
      "    title:                              ATLAS/ICESat-2 L2A Global Geolocated ...\n",
      "    identifier_file_product_type:       ATL03\n",
      "    institution:                        National Aeronautics and Space Admini...\n",
      "    creator_name:                       GSFC I-SIPS > ICESat-2 Science Invest...\n",
      "    summary:                            The purpose of ATL03 is to provide al...\n",
      "    keywords:                           EARTH SCIENCE > CRYOSPHERE > SEA ICE ...\n",
      "    keywords_vocabulary:                NASA/GCMD Science Keywords\n",
      "    citation:                           Cite these data in publications as fo...\n",
      "    processing_level:                   2A\n",
      "    references:                         http://nsidc.org/data/icesat2/data.html\n",
      "    project:                            ICESat-2 > Ice, Cloud, and land Eleva...\n",
      "    instrument:                         ATLAS > Advanced Topographic Laser Al...\n",
      "    platform:                           ICESat-2 > Ice, Cloud, and land Eleva...\n",
      "    source:                             Spacecraft\n"
     ]
    }
   ],
   "source": [
    "ds = xr.open_dataset('ATL03_20181017101822_02870106_205_01.h5')\n",
    "print(ds)"
   ]
  },
  {
   "cell_type": "markdown",
   "metadata": {},
   "source": [
    "### Using h5py to look at the dataset structure"
   ]
  },
  {
   "cell_type": "code",
   "execution_count": 3,
   "metadata": {},
   "outputs": [],
   "source": [
    "f = h5py.File('ATL03_20181017101822_02870106_205_01.h5','r')"
   ]
  },
  {
   "cell_type": "code",
   "execution_count": 6,
   "metadata": {},
   "outputs": [
    {
     "name": "stdout",
     "output_type": "stream",
     "text": [
      "---\n",
      "Group: METADATA\n",
      "---\n",
      "<HDF5 group \"/METADATA/AcquisitionInformation\" (4 members)>\n",
      "<HDF5 group \"/METADATA/DataQuality\" (2 members)>\n",
      "<HDF5 group \"/METADATA/DatasetIdentification\" (0 members)>\n",
      "<HDF5 group \"/METADATA/Extent\" (0 members)>\n",
      "<HDF5 group \"/METADATA/Lineage\" (20 members)>\n",
      "<HDF5 group \"/METADATA/ProcessStep\" (4 members)>\n",
      "<HDF5 group \"/METADATA/ProductSpecificationDocument\" (0 members)>\n",
      "<HDF5 group \"/METADATA/QADatasetIdentification\" (0 members)>\n",
      "<HDF5 group \"/METADATA/SeriesIdentification\" (0 members)>\n",
      "---\n",
      "Group: ancillary_data\n",
      "---\n",
      "<HDF5 dataset \"atl03_pad\": shape (1,), type \"<f8\">\n",
      "<HDF5 dataset \"atlas_sdp_gps_epoch\": shape (1,), type \"<f8\">\n",
      "<HDF5 dataset \"control\": shape (1,), type \"|S10000\">\n",
      "<HDF5 dataset \"data_end_utc\": shape (1,), type \"|S27\">\n",
      "<HDF5 dataset \"data_start_utc\": shape (1,), type \"|S27\">\n",
      "<HDF5 dataset \"end_cycle\": shape (1,), type \"<i4\">\n",
      "<HDF5 dataset \"end_delta_time\": shape (1,), type \"<f8\">\n",
      "<HDF5 dataset \"end_geoseg\": shape (1,), type \"<i4\">\n",
      "<HDF5 dataset \"end_gpssow\": shape (1,), type \"<f8\">\n",
      "<HDF5 dataset \"end_gpsweek\": shape (1,), type \"<i4\">\n",
      "<HDF5 dataset \"end_orbit\": shape (1,), type \"<i4\">\n",
      "<HDF5 dataset \"end_region\": shape (1,), type \"<i4\">\n",
      "<HDF5 dataset \"end_rgt\": shape (1,), type \"<i4\">\n",
      "<HDF5 dataset \"granule_end_utc\": shape (1,), type \"|S27\">\n",
      "<HDF5 dataset \"granule_start_utc\": shape (1,), type \"|S27\">\n",
      "<HDF5 dataset \"podppd_pad\": shape (1,), type \"<f8\">\n",
      "<HDF5 dataset \"release\": shape (1,), type \"|S80\">\n",
      "<HDF5 dataset \"start_cycle\": shape (1,), type \"<i4\">\n",
      "<HDF5 dataset \"start_delta_time\": shape (1,), type \"<f8\">\n",
      "<HDF5 dataset \"start_geoseg\": shape (1,), type \"<i4\">\n",
      "<HDF5 dataset \"start_gpssow\": shape (1,), type \"<f8\">\n",
      "<HDF5 dataset \"start_gpsweek\": shape (1,), type \"<i4\">\n",
      "<HDF5 dataset \"start_orbit\": shape (1,), type \"<i4\">\n",
      "<HDF5 dataset \"start_region\": shape (1,), type \"<i4\">\n",
      "<HDF5 dataset \"start_rgt\": shape (1,), type \"<i4\">\n",
      "<HDF5 dataset \"version\": shape (1,), type \"|S80\">\n",
      "<HDF5 group \"/ancillary_data/atlas_engineering\" (5 members)>\n",
      "<HDF5 group \"/ancillary_data/calibrations\" (5 members)>\n",
      "<HDF5 group \"/ancillary_data/tep\" (14 members)>\n",
      "<HDF5 group \"/ancillary_data/gt2r\" (1 members)>\n",
      "<HDF5 group \"/ancillary_data/gt2l\" (1 members)>\n",
      "<HDF5 group \"/ancillary_data/gt3r\" (1 members)>\n",
      "<HDF5 group \"/ancillary_data/gt3l\" (1 members)>\n",
      "<HDF5 group \"/ancillary_data/gt1r\" (1 members)>\n",
      "<HDF5 group \"/ancillary_data/gt1l\" (1 members)>\n",
      "---\n",
      "Group: atlas_impulse_response\n",
      "---\n",
      "<HDF5 group \"/atlas_impulse_response/pce1_spot1\" (1 members)>\n",
      "<HDF5 group \"/atlas_impulse_response/pce2_spot3\" (1 members)>\n",
      "---\n",
      "Group: ds_surf_type\n",
      "---\n"
     ]
    },
    {
     "ename": "AttributeError",
     "evalue": "'Dataset' object has no attribute 'keys'",
     "output_type": "error",
     "traceback": [
      "\u001b[0;31m---------------------------------------------------------------------------\u001b[0m",
      "\u001b[0;31mAttributeError\u001b[0m                            Traceback (most recent call last)",
      "\u001b[0;32m<ipython-input-6-0c6950a26914>\u001b[0m in \u001b[0;36m<module>\u001b[0;34m\u001b[0m\n\u001b[1;32m      7\u001b[0m         \u001b[0mprint\u001b[0m\u001b[0;34m(\u001b[0m\u001b[0;34m'Group: {}'\u001b[0m\u001b[0;34m.\u001b[0m\u001b[0mformat\u001b[0m\u001b[0;34m(\u001b[0m\u001b[0mg\u001b[0m\u001b[0;34m)\u001b[0m\u001b[0;34m)\u001b[0m\u001b[0;34m\u001b[0m\u001b[0;34m\u001b[0m\u001b[0m\n\u001b[1;32m      8\u001b[0m         \u001b[0mprint\u001b[0m\u001b[0;34m(\u001b[0m\u001b[0;34m'---'\u001b[0m\u001b[0;34m)\u001b[0m\u001b[0;34m\u001b[0m\u001b[0;34m\u001b[0m\u001b[0m\n\u001b[0;32m----> 9\u001b[0;31m         \u001b[0;32mfor\u001b[0m \u001b[0md\u001b[0m \u001b[0;32min\u001b[0m \u001b[0mgroup\u001b[0m\u001b[0;34m.\u001b[0m\u001b[0mkeys\u001b[0m\u001b[0;34m(\u001b[0m\u001b[0;34m)\u001b[0m\u001b[0;34m:\u001b[0m\u001b[0;34m\u001b[0m\u001b[0;34m\u001b[0m\u001b[0m\n\u001b[0m\u001b[1;32m     10\u001b[0m             \u001b[0mprint\u001b[0m\u001b[0;34m(\u001b[0m\u001b[0mgroup\u001b[0m\u001b[0;34m[\u001b[0m\u001b[0md\u001b[0m\u001b[0;34m]\u001b[0m\u001b[0;34m)\u001b[0m\u001b[0;34m\u001b[0m\u001b[0;34m\u001b[0m\u001b[0m\n",
      "\u001b[0;31mAttributeError\u001b[0m: 'Dataset' object has no attribute 'keys'"
     ]
    }
   ],
   "source": [
    "printGroups = True\n",
    "groups = list(f.keys())\n",
    "for g in groups:\n",
    "    group = f[g]\n",
    "    if printGroups:\n",
    "        print('---')\n",
    "        print('Group: {}'.format(g))\n",
    "        print('---')\n",
    "        for d in group.keys():\n",
    "            print(group[d])"
   ]
  }
 ],
 "metadata": {
  "kernelspec": {
   "display_name": "Python 3",
   "language": "python",
   "name": "python3"
  },
  "language_info": {
   "codemirror_mode": {
    "name": "ipython",
    "version": 3
   },
   "file_extension": ".py",
   "mimetype": "text/x-python",
   "name": "python",
   "nbconvert_exporter": "python",
   "pygments_lexer": "ipython3",
   "version": "3.6.7"
  }
 },
 "nbformat": 4,
 "nbformat_minor": 2
}
