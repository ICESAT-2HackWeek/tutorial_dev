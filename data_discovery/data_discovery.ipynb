{
 "cells": [
  {
   "cell_type": "markdown",
   "metadata": {},
   "source": [
    "### Script to acquire ICESat-2 data into your Pangeo workspace for initial tutorial development\n",
    "\n",
    "* Scott Henderson, Anthony Arendt, David Shean, University of Washington"
   ]
  },
  {
   "cell_type": "code",
   "execution_count": 10,
   "metadata": {},
   "outputs": [],
   "source": [
    "%matplotlib inline\n",
    "import os\n",
    "import s3fs\n",
    "import xarray as xr\n",
    "import h5py\n",
    "import matplotlib.pyplot as plt\n",
    "import geopandas as gpd\n",
    "from shapely.geometry import Point, Polygon\n",
    "import fiona\n",
    "import cartopy.crs as ccrs\n",
    "from mpl_toolkits.mplot3d import Axes3D"
   ]
  },
  {
   "cell_type": "markdown",
   "metadata": {},
   "source": [
    "## Connect to S3 bucket containing sample ICESat-2 data"
   ]
  },
  {
   "cell_type": "code",
   "execution_count": 11,
   "metadata": {},
   "outputs": [],
   "source": [
    "bucket = 'pangeo-data-upload-oregon'\n",
    "fs = s3fs.S3FileSystem()"
   ]
  },
  {
   "cell_type": "markdown",
   "metadata": {},
   "source": [
    "## List contents of the bucket"
   ]
  },
  {
   "cell_type": "code",
   "execution_count": 12,
   "metadata": {},
   "outputs": [
    {
     "name": "stdout",
     "output_type": "stream",
     "text": [
      "['pangeo-data-upload-oregon/icesat2/atl06/ATL06_20181015231931_02650102_205_01.h5', 'pangeo-data-upload-oregon/icesat2/atl06/ATL06_20181018112700_03030106_205_01.h5', 'pangeo-data-upload-oregon/icesat2/atl06/ATL06_20181019231110_03260102_205_01.h5', 'pangeo-data-upload-oregon/icesat2/atl06/ATL06_20181023230252_03870102_205_01.h5', 'pangeo-data-upload-oregon/icesat2/atl06/ATL06_20181026111023_04250106_205_01.h5', 'pangeo-data-upload-oregon/icesat2/atl06/ATL06_20181027225434_04480102_205_01.h5', 'pangeo-data-upload-oregon/icesat2/atl06/ATL06_20181030110205_04860106_205_01.h5', 'pangeo-data-upload-oregon/icesat2/atl06/ATL06_20181031224616_05090102_205_01.h5', 'pangeo-data-upload-oregon/icesat2/atl06/ATL06_20181103105350_05470106_205_01.h5', 'pangeo-data-upload-oregon/icesat2/atl06/ATL06_20181109220409_06460102_205_01.h5', 'pangeo-data-upload-oregon/icesat2/atl06/ATL06_20181113215548_07070102_205_01.h5', 'pangeo-data-upload-oregon/icesat2/atl06/ATL06_20181116100316_07450106_205_01.h5', 'pangeo-data-upload-oregon/icesat2/atl06/ATL06_20181117214724_07680102_205_01.h5', 'pangeo-data-upload-oregon/icesat2/atl06/ATL06_20181120095451_08060106_205_01.h5', 'pangeo-data-upload-oregon/icesat2/atl06/ATL06_20181121213859_08290102_205_01.h5', 'pangeo-data-upload-oregon/icesat2/atl06/ATL06_20181124094624_08670106_205_01.h5', 'pangeo-data-upload-oregon/icesat2/atl06/ATL06_20181125213032_08900102_205_01.h5', 'pangeo-data-upload-oregon/icesat2/atl06/ATL06_20181129212211_09510102_205_01.h5', 'pangeo-data-upload-oregon/icesat2/atl06/ATL06_20181206092124_10500106_205_01.h5', 'pangeo-data-upload-oregon/icesat2/atl06/ATL06_20181212203135_11490102_205_01.h5', 'pangeo-data-upload-oregon/icesat2/atl06/ATL06_20181215083906_11870106_205_01.h5', 'pangeo-data-upload-oregon/icesat2/atl06/ATL06_20181216202317_12100102_205_01.h5', 'pangeo-data-upload-oregon/icesat2/atl06/ATL06_20181219083048_12480106_205_01.h5', 'pangeo-data-upload-oregon/icesat2/atl06/ATL06_20181220201458_12710102_205_01.h5', 'pangeo-data-upload-oregon/icesat2/atl06/ATL06_20181224200639_13320102_205_01.h5', 'pangeo-data-upload-oregon/icesat2/atl06/ATL06_20181228195820_00060202_205_01.h5', 'pangeo-data-upload-oregon/icesat2/atl06/ATL06_20181228195820_00060202_205_02.h5', 'pangeo-data-upload-oregon/icesat2/atl06/ATL06_20190104075733_01050206_205_01.h5', 'pangeo-data-upload-oregon/icesat2/atl06/ATL06_20190106191603_01430202_205_01.h5', 'pangeo-data-upload-oregon/icesat2/atl06/ATL06_20190110190741_02040202_205_01.h5', 'pangeo-data-upload-oregon/icesat2/atl06/ATL06_20190114185917_02650202_205_01.h5', 'pangeo-data-upload-oregon/icesat2/atl06/ATL06_20190118185056_03260202_205_01.h5', 'pangeo-data-upload-oregon/icesat2/atl06/ATL06_20190121065832_03640206_205_01.h5', 'pangeo-data-upload-oregon/icesat2/atl06/ATL06_20190122184244_03870202_205_01.h5', 'pangeo-data-upload-oregon/icesat2/atl06/ATL06_20190126183429_04480202_205_01.h5', 'pangeo-data-upload-oregon/icesat2/atl06/ATL06_20190129064202_04860206_205_01.h5', 'pangeo-data-upload-oregon/icesat2/atl06/ATL06_20190130182613_05090202_205_01.h5', 'pangeo-data-upload-oregon/icesat2/atl06/ATL06_20190208174354_06460202_205_01.h5', 'pangeo-data-upload-oregon/icesat2/atl06/ATL06_20190212173531_07070202_205_01.h5', 'pangeo-data-upload-oregon/icesat2/atl06/ATL06_20190215054302_07450206_205_01.h5', 'pangeo-data-upload-oregon/icesat2/atl06/ATL06_20190216172712_07680202_205_01.h5', 'pangeo-data-upload-oregon/icesat2/atl06/ATL06_20190220171851_08290202_205_01.h5', 'pangeo-data-upload-oregon/icesat2/atl06/ATL06_20190223052623_08670206_205_01.h5']\n"
     ]
    }
   ],
   "source": [
    "dataDir = 'pangeo-data-upload-oregon/icesat2/atl06'\n",
    "s3List = fs.ls(dataDir)\n",
    "print(s3List)"
   ]
  },
  {
   "cell_type": "markdown",
   "metadata": {},
   "source": [
    "## Pick some data to work with\n",
    "Just choosing the first one, arbitrarily"
   ]
  },
  {
   "cell_type": "code",
   "execution_count": 13,
   "metadata": {},
   "outputs": [],
   "source": [
    "s3File = s3List[0]\n",
    "dataFile = format(s3File.split('/')[3])"
   ]
  },
  {
   "cell_type": "markdown",
   "metadata": {},
   "source": [
    "## Download an HDF5 to home directory\n",
    "Data will be in your git directory. Be sure to .gitignore .h5 files so they are not pushed to GitHub."
   ]
  },
  {
   "cell_type": "code",
   "execution_count": 14,
   "metadata": {},
   "outputs": [],
   "source": [
    "fs.get(s3File, dataFile)"
   ]
  },
  {
   "cell_type": "markdown",
   "metadata": {},
   "source": [
    "### Using h5py to look at the dataset structure\n",
    "\n",
    "ICESat-2 data are structured in h5 files with multiple group levels. To find what you need it helps to view these groups. "
   ]
  },
  {
   "cell_type": "code",
   "execution_count": 15,
   "metadata": {},
   "outputs": [],
   "source": [
    "f = h5py.File(dataFile,'r')"
   ]
  },
  {
   "cell_type": "code",
   "execution_count": 16,
   "metadata": {},
   "outputs": [
    {
     "name": "stdout",
     "output_type": "stream",
     "text": [
      "---\n",
      "Group: METADATA\n",
      "---\n",
      "<HDF5 group \"/METADATA/AcquisitionInformation\" (4 members)>\n",
      "<HDF5 group \"/METADATA/DataQuality\" (2 members)>\n",
      "<HDF5 group \"/METADATA/DatasetIdentification\" (0 members)>\n",
      "<HDF5 group \"/METADATA/Extent\" (0 members)>\n",
      "<HDF5 group \"/METADATA/Lineage\" (13 members)>\n",
      "<HDF5 group \"/METADATA/ProcessStep\" (4 members)>\n",
      "<HDF5 group \"/METADATA/ProductSpecificationDocument\" (0 members)>\n",
      "<HDF5 group \"/METADATA/QADatasetIdentification\" (0 members)>\n",
      "<HDF5 group \"/METADATA/SeriesIdentification\" (0 members)>\n",
      "---\n",
      "Group: ancillary_data\n",
      "---\n",
      "<HDF5 dataset \"atlas_sdp_gps_epoch\": shape (1,), type \"<f8\">\n",
      "<HDF5 dataset \"control\": shape (1,), type \"|S10000\">\n",
      "<HDF5 dataset \"data_end_utc\": shape (1,), type \"|S27\">\n",
      "<HDF5 dataset \"data_start_utc\": shape (1,), type \"|S27\">\n",
      "<HDF5 dataset \"end_cycle\": shape (1,), type \"<i4\">\n",
      "<HDF5 dataset \"end_delta_time\": shape (1,), type \"<f8\">\n",
      "<HDF5 dataset \"end_geoseg\": shape (1,), type \"<i4\">\n",
      "<HDF5 dataset \"end_gpssow\": shape (1,), type \"<f8\">\n",
      "<HDF5 dataset \"end_gpsweek\": shape (1,), type \"<i4\">\n",
      "<HDF5 dataset \"end_orbit\": shape (1,), type \"<i4\">\n",
      "<HDF5 dataset \"end_region\": shape (1,), type \"<i4\">\n",
      "<HDF5 dataset \"end_rgt\": shape (1,), type \"<i4\">\n",
      "<HDF5 dataset \"granule_end_utc\": shape (1,), type \"|S27\">\n",
      "<HDF5 dataset \"granule_start_utc\": shape (1,), type \"|S27\">\n",
      "<HDF5 dataset \"qa_at_interval\": shape (1,), type \"<f8\">\n",
      "<HDF5 dataset \"release\": shape (1,), type \"|S80\">\n",
      "<HDF5 dataset \"start_cycle\": shape (1,), type \"<i4\">\n",
      "<HDF5 dataset \"start_delta_time\": shape (1,), type \"<f8\">\n",
      "<HDF5 dataset \"start_geoseg\": shape (1,), type \"<i4\">\n",
      "<HDF5 dataset \"start_gpssow\": shape (1,), type \"<f8\">\n",
      "<HDF5 dataset \"start_gpsweek\": shape (1,), type \"<i4\">\n",
      "<HDF5 dataset \"start_orbit\": shape (1,), type \"<i4\">\n",
      "<HDF5 dataset \"start_region\": shape (1,), type \"<i4\">\n",
      "<HDF5 dataset \"start_rgt\": shape (1,), type \"<i4\">\n",
      "<HDF5 dataset \"version\": shape (1,), type \"|S80\">\n",
      "<HDF5 group \"/ancillary_data/land_ice\" (19 members)>\n",
      "---\n",
      "Group: gt1l\n",
      "---\n",
      "<HDF5 group \"/gt1l/land_ice_segments\" (13 members)>\n",
      "<HDF5 group \"/gt1l/residual_histogram\" (10 members)>\n",
      "<HDF5 group \"/gt1l/segment_quality\" (7 members)>\n",
      "---\n",
      "Group: gt1r\n",
      "---\n",
      "<HDF5 group \"/gt1r/land_ice_segments\" (13 members)>\n",
      "<HDF5 group \"/gt1r/residual_histogram\" (10 members)>\n",
      "<HDF5 group \"/gt1r/segment_quality\" (7 members)>\n",
      "---\n",
      "Group: gt2l\n",
      "---\n",
      "<HDF5 group \"/gt2l/land_ice_segments\" (13 members)>\n",
      "<HDF5 group \"/gt2l/residual_histogram\" (10 members)>\n",
      "<HDF5 group \"/gt2l/segment_quality\" (7 members)>\n",
      "---\n",
      "Group: gt2r\n",
      "---\n",
      "<HDF5 group \"/gt2r/land_ice_segments\" (13 members)>\n",
      "<HDF5 group \"/gt2r/residual_histogram\" (10 members)>\n",
      "<HDF5 group \"/gt2r/segment_quality\" (7 members)>\n",
      "---\n",
      "Group: gt3l\n",
      "---\n",
      "<HDF5 group \"/gt3l/land_ice_segments\" (13 members)>\n",
      "<HDF5 group \"/gt3l/residual_histogram\" (10 members)>\n",
      "<HDF5 group \"/gt3l/segment_quality\" (7 members)>\n",
      "---\n",
      "Group: gt3r\n",
      "---\n",
      "<HDF5 group \"/gt3r/land_ice_segments\" (13 members)>\n",
      "<HDF5 group \"/gt3r/residual_histogram\" (10 members)>\n",
      "<HDF5 group \"/gt3r/segment_quality\" (7 members)>\n",
      "---\n",
      "Group: orbit_info\n",
      "---\n",
      "<HDF5 dataset \"crossing_time\": shape (1,), type \"<f8\">\n",
      "<HDF5 dataset \"cycle_number\": shape (1,), type \"|i1\">\n",
      "<HDF5 dataset \"lan\": shape (1,), type \"<f8\">\n",
      "<HDF5 dataset \"orbit_number\": shape (1,), type \"<u2\">\n",
      "<HDF5 dataset \"rgt\": shape (1,), type \"<i2\">\n",
      "<HDF5 dataset \"sc_orient\": shape (1,), type \"|i1\">\n",
      "<HDF5 dataset \"sc_orient_time\": shape (1,), type \"<f8\">\n",
      "---\n",
      "Group: quality_assessment\n",
      "---\n",
      "<HDF5 dataset \"qa_granule_fail_reason\": shape (1,), type \"<i4\">\n",
      "<HDF5 dataset \"qa_granule_pass_fail\": shape (1,), type \"<i4\">\n",
      "<HDF5 group \"/quality_assessment/gt1l\" (7 members)>\n",
      "<HDF5 group \"/quality_assessment/gt1r\" (7 members)>\n",
      "<HDF5 group \"/quality_assessment/gt2l\" (7 members)>\n",
      "<HDF5 group \"/quality_assessment/gt2r\" (7 members)>\n",
      "<HDF5 group \"/quality_assessment/gt3l\" (7 members)>\n",
      "<HDF5 group \"/quality_assessment/gt3r\" (7 members)>\n"
     ]
    }
   ],
   "source": [
    "printGroups = True\n",
    "groups = list(f.keys())\n",
    "for g in groups:\n",
    "    group = f[g]\n",
    "    if printGroups:\n",
    "        print('---')\n",
    "        print('Group: {}'.format(g))\n",
    "        print('---')\n",
    "        for d in group.keys():\n",
    "            print(group[d])"
   ]
  },
  {
   "cell_type": "code",
   "execution_count": 17,
   "metadata": {},
   "outputs": [],
   "source": [
    "f.close()"
   ]
  },
  {
   "cell_type": "markdown",
   "metadata": {},
   "source": [
    "### Open the data using xarray\n",
    "\n",
    "From above we decided to work with gt3r/land_ice_segments.\n",
    "\n",
    "Xarray provides simple tools for accessing the data."
   ]
  },
  {
   "cell_type": "code",
   "execution_count": 18,
   "metadata": {},
   "outputs": [
    {
     "name": "stdout",
     "output_type": "stream",
     "text": [
      "<xarray.Dataset>\n",
      "Dimensions:                (delta_time: 129956)\n",
      "Coordinates:\n",
      "  * delta_time             (delta_time) datetime64[ns] 2018-10-15T23:19:31.016431836 ... 2018-10-15T23:27:59.967560224\n",
      "    latitude               (delta_time) float64 ...\n",
      "    longitude              (delta_time) float64 ...\n",
      "Data variables:\n",
      "    atl06_quality_summary  (delta_time) int8 ...\n",
      "    h_li                   (delta_time) float32 ...\n",
      "    h_li_sigma             (delta_time) float32 ...\n",
      "    segment_id             (delta_time) float64 ...\n",
      "    sigma_geo_h            (delta_time) float32 ...\n",
      "Attributes:\n",
      "    Description:  The land_ice_height group contains the primary set of deriv...\n",
      "    data_rate:    Data within this group are sparse.  Data values are provide...\n"
     ]
    }
   ],
   "source": [
    "ds = xr.open_dataset(dataFile,group='/gt3r/land_ice_segments')\n",
    "print(ds)"
   ]
  },
  {
   "cell_type": "markdown",
   "metadata": {},
   "source": [
    "### Convert to Pandas dataframe"
    "### Axel: It would be good to say something here why you are doing the conversion to Pandas dataframe and then Geopandas"
    "###       So a reader has a sense of knowing what is going on"
    
   ]
  },
  {
   "cell_type": "code",
   "execution_count": 19,
   "metadata": {},
   "outputs": [
    {
     "data": {
      "text/html": [
       "<div>\n",
       "<style scoped>\n",
       "    .dataframe tbody tr th:only-of-type {\n",
       "        vertical-align: middle;\n",
       "    }\n",
       "\n",
       "    .dataframe tbody tr th {\n",
       "        vertical-align: top;\n",
       "    }\n",
       "\n",
       "    .dataframe thead th {\n",
       "        text-align: right;\n",
       "    }\n",
       "</style>\n",
       "<table border=\"1\" class=\"dataframe\">\n",
       "  <thead>\n",
       "    <tr style=\"text-align: right;\">\n",
       "      <th></th>\n",
       "      <th>atl06_quality_summary</th>\n",
       "      <th>h_li</th>\n",
       "      <th>h_li_sigma</th>\n",
       "      <th>latitude</th>\n",
       "      <th>longitude</th>\n",
       "      <th>segment_id</th>\n",
       "      <th>sigma_geo_h</th>\n",
       "    </tr>\n",
       "    <tr>\n",
       "      <th>delta_time</th>\n",
       "      <th></th>\n",
       "      <th></th>\n",
       "      <th></th>\n",
       "      <th></th>\n",
       "      <th></th>\n",
       "      <th></th>\n",
       "      <th></th>\n",
       "    </tr>\n",
       "  </thead>\n",
       "  <tbody>\n",
       "    <tr>\n",
       "      <th>2018-10-15 23:19:31.016431836</th>\n",
       "      <td>0</td>\n",
       "      <td>-43.933125</td>\n",
       "      <td>0.054461</td>\n",
       "      <td>27.079911</td>\n",
       "      <td>-118.351686</td>\n",
       "      <td>150112.0</td>\n",
       "      <td>NaN</td>\n",
       "    </tr>\n",
       "    <tr>\n",
       "      <th>2018-10-15 23:19:31.019243112</th>\n",
       "      <td>0</td>\n",
       "      <td>-43.446869</td>\n",
       "      <td>0.045082</td>\n",
       "      <td>27.080091</td>\n",
       "      <td>-118.351706</td>\n",
       "      <td>150113.0</td>\n",
       "      <td>NaN</td>\n",
       "    </tr>\n",
       "    <tr>\n",
       "      <th>2018-10-15 23:19:31.022053636</th>\n",
       "      <td>0</td>\n",
       "      <td>-43.510166</td>\n",
       "      <td>0.083044</td>\n",
       "      <td>27.080271</td>\n",
       "      <td>-118.351727</td>\n",
       "      <td>150114.0</td>\n",
       "      <td>NaN</td>\n",
       "    </tr>\n",
       "    <tr>\n",
       "      <th>2018-10-15 23:19:31.024860496</th>\n",
       "      <td>0</td>\n",
       "      <td>-43.351440</td>\n",
       "      <td>0.041241</td>\n",
       "      <td>27.080451</td>\n",
       "      <td>-118.351747</td>\n",
       "      <td>150115.0</td>\n",
       "      <td>NaN</td>\n",
       "    </tr>\n",
       "    <tr>\n",
       "      <th>2018-10-15 23:19:31.027664688</th>\n",
       "      <td>0</td>\n",
       "      <td>-43.542355</td>\n",
       "      <td>0.057661</td>\n",
       "      <td>27.080631</td>\n",
       "      <td>-118.351767</td>\n",
       "      <td>150116.0</td>\n",
       "      <td>NaN</td>\n",
       "    </tr>\n",
       "  </tbody>\n",
       "</table>\n",
       "</div>"
      ],
      "text/plain": [
       "                               atl06_quality_summary       h_li  h_li_sigma  \\\n",
       "delta_time                                                                    \n",
       "2018-10-15 23:19:31.016431836                      0 -43.933125    0.054461   \n",
       "2018-10-15 23:19:31.019243112                      0 -43.446869    0.045082   \n",
       "2018-10-15 23:19:31.022053636                      0 -43.510166    0.083044   \n",
       "2018-10-15 23:19:31.024860496                      0 -43.351440    0.041241   \n",
       "2018-10-15 23:19:31.027664688                      0 -43.542355    0.057661   \n",
       "\n",
       "                                latitude   longitude  segment_id  sigma_geo_h  \n",
       "delta_time                                                                     \n",
       "2018-10-15 23:19:31.016431836  27.079911 -118.351686    150112.0          NaN  \n",
       "2018-10-15 23:19:31.019243112  27.080091 -118.351706    150113.0          NaN  \n",
       "2018-10-15 23:19:31.022053636  27.080271 -118.351727    150114.0          NaN  \n",
       "2018-10-15 23:19:31.024860496  27.080451 -118.351747    150115.0          NaN  \n",
       "2018-10-15 23:19:31.027664688  27.080631 -118.351767    150116.0          NaN  "
      ]
     },
     "execution_count": 19,
     "metadata": {},
     "output_type": "execute_result"
    }
   ],
   "source": [
    "df = ds.to_dataframe()\n",
    "df.head()"
   ]
  },
  {
   "cell_type": "markdown",
   "metadata": {},
   "source": [
    "## Make a simple 3D scatter plot"
   ]
  },
  {
   "cell_type": "code",
   "execution_count": 21,
   "metadata": {},
   "outputs": [
    {
     "data": {
      "image/png": "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\n",
      "text/plain": [
       "<Figure size 432x288 with 1 Axes>"
      ]
     },
     "metadata": {
      "needs_background": "light"
     },
     "output_type": "display_data"
    }
   ],
   "source": [
    "f = plt.figure()\n",
    "ax3D = f.add_subplot(111, projection='3d')\n",
    "sc = ax3D.scatter(df['latitude'], df['longitude'], df['h_li'], c=df['h_li'], marker='.')"
   ]
  },
  {
   "cell_type": "markdown",
   "metadata": {},
   "source": [
    "## Convert the Pandas dataframe to a Geopandas dataframe\n",
    "\n",
    "This mean the latitude and longitude columns are converted from just numbers into a geometry so Python knows where the data are in space."
   ]
  },
  {
   "cell_type": "code",
   "execution_count": 22,
   "metadata": {},
   "outputs": [
    {
     "data": {
      "text/html": [
       "<div>\n",
       "<style scoped>\n",
       "    .dataframe tbody tr th:only-of-type {\n",
       "        vertical-align: middle;\n",
       "    }\n",
       "\n",
       "    .dataframe tbody tr th {\n",
       "        vertical-align: top;\n",
       "    }\n",
       "\n",
       "    .dataframe thead th {\n",
       "        text-align: right;\n",
       "    }\n",
       "</style>\n",
       "<table border=\"1\" class=\"dataframe\">\n",
       "  <thead>\n",
       "    <tr style=\"text-align: right;\">\n",
       "      <th></th>\n",
       "      <th>atl06_quality_summary</th>\n",
       "      <th>h_li</th>\n",
       "      <th>h_li_sigma</th>\n",
       "      <th>latitude</th>\n",
       "      <th>longitude</th>\n",
       "      <th>segment_id</th>\n",
       "      <th>sigma_geo_h</th>\n",
       "      <th>geometry</th>\n",
       "    </tr>\n",
       "    <tr>\n",
       "      <th>delta_time</th>\n",
       "      <th></th>\n",
       "      <th></th>\n",
       "      <th></th>\n",
       "      <th></th>\n",
       "      <th></th>\n",
       "      <th></th>\n",
       "      <th></th>\n",
       "      <th></th>\n",
       "    </tr>\n",
       "  </thead>\n",
       "  <tbody>\n",
       "    <tr>\n",
       "      <th>2018-10-15 23:19:31.016431836</th>\n",
       "      <td>0</td>\n",
       "      <td>-43.933125</td>\n",
       "      <td>0.054461</td>\n",
       "      <td>27.079911</td>\n",
       "      <td>-118.351686</td>\n",
       "      <td>150112.0</td>\n",
       "      <td>NaN</td>\n",
       "      <td>POINT (-118.3516858591192 27.07991059793561)</td>\n",
       "    </tr>\n",
       "    <tr>\n",
       "      <th>2018-10-15 23:19:31.019243112</th>\n",
       "      <td>0</td>\n",
       "      <td>-43.446869</td>\n",
       "      <td>0.045082</td>\n",
       "      <td>27.080091</td>\n",
       "      <td>-118.351706</td>\n",
       "      <td>150113.0</td>\n",
       "      <td>NaN</td>\n",
       "      <td>POINT (-118.3517062769835 27.08009066370657)</td>\n",
       "    </tr>\n",
       "    <tr>\n",
       "      <th>2018-10-15 23:19:31.022053636</th>\n",
       "      <td>0</td>\n",
       "      <td>-43.510166</td>\n",
       "      <td>0.083044</td>\n",
       "      <td>27.080271</td>\n",
       "      <td>-118.351727</td>\n",
       "      <td>150114.0</td>\n",
       "      <td>NaN</td>\n",
       "      <td>POINT (-118.3517265637323 27.0802707385402)</td>\n",
       "    </tr>\n",
       "    <tr>\n",
       "      <th>2018-10-15 23:19:31.024860496</th>\n",
       "      <td>0</td>\n",
       "      <td>-43.351440</td>\n",
       "      <td>0.041241</td>\n",
       "      <td>27.080451</td>\n",
       "      <td>-118.351747</td>\n",
       "      <td>150115.0</td>\n",
       "      <td>NaN</td>\n",
       "      <td>POINT (-118.3517467392143 27.08045082471523)</td>\n",
       "    </tr>\n",
       "    <tr>\n",
       "      <th>2018-10-15 23:19:31.027664688</th>\n",
       "      <td>0</td>\n",
       "      <td>-43.542355</td>\n",
       "      <td>0.057661</td>\n",
       "      <td>27.080631</td>\n",
       "      <td>-118.351767</td>\n",
       "      <td>150116.0</td>\n",
       "      <td>NaN</td>\n",
       "      <td>POINT (-118.3517667052382 27.08063092986018)</td>\n",
       "    </tr>\n",
       "  </tbody>\n",
       "</table>\n",
       "</div>"
      ],
      "text/plain": [
       "                               atl06_quality_summary       h_li  h_li_sigma  \\\n",
       "delta_time                                                                    \n",
       "2018-10-15 23:19:31.016431836                      0 -43.933125    0.054461   \n",
       "2018-10-15 23:19:31.019243112                      0 -43.446869    0.045082   \n",
       "2018-10-15 23:19:31.022053636                      0 -43.510166    0.083044   \n",
       "2018-10-15 23:19:31.024860496                      0 -43.351440    0.041241   \n",
       "2018-10-15 23:19:31.027664688                      0 -43.542355    0.057661   \n",
       "\n",
       "                                latitude   longitude  segment_id  sigma_geo_h  \\\n",
       "delta_time                                                                      \n",
       "2018-10-15 23:19:31.016431836  27.079911 -118.351686    150112.0          NaN   \n",
       "2018-10-15 23:19:31.019243112  27.080091 -118.351706    150113.0          NaN   \n",
       "2018-10-15 23:19:31.022053636  27.080271 -118.351727    150114.0          NaN   \n",
       "2018-10-15 23:19:31.024860496  27.080451 -118.351747    150115.0          NaN   \n",
       "2018-10-15 23:19:31.027664688  27.080631 -118.351767    150116.0          NaN   \n",
       "\n",
       "                                                                   geometry  \n",
       "delta_time                                                                   \n",
       "2018-10-15 23:19:31.016431836  POINT (-118.3516858591192 27.07991059793561)  \n",
       "2018-10-15 23:19:31.019243112  POINT (-118.3517062769835 27.08009066370657)  \n",
       "2018-10-15 23:19:31.022053636   POINT (-118.3517265637323 27.0802707385402)  \n",
       "2018-10-15 23:19:31.024860496  POINT (-118.3517467392143 27.08045082471523)  \n",
       "2018-10-15 23:19:31.027664688  POINT (-118.3517667052382 27.08063092986018)  "
      ]
     },
     "execution_count": 22,
     "metadata": {},
     "output_type": "execute_result"
    }
   ],
   "source": [
    "df['geometry'] = list(zip(df['longitude'], df['latitude']))\n",
    "df['geometry'] = df['geometry'].apply(Point)\n",
    "gdf = gpd.GeoDataFrame(df)\n",
    "df.head()"
   ]
  },
  {
   "cell_type": "markdown",
   "metadata": {},
   "source": [
    "### make a simple map\n",
    "\n",
    "* get a geojson file with US state polygons\n",
    "* use Cartopy to make a very simple map"
   ]
  },
  {
   "cell_type": "code",
   "execution_count": 23,
   "metadata": {},
   "outputs": [],
   "source": [
    "states_url = 'http://eric.clst.org/assets/wiki/uploads/Stuff/gz_2010_us_040_00_5m.json'\n",
    "states_gdf = gpd.read_file(states_url)"
   ]
  },
  {
   "cell_type": "code",
   "execution_count": 24,
   "metadata": {},
   "outputs": [
    {
     "name": "stderr",
     "output_type": "stream",
     "text": [
      "/srv/conda/lib/python3.6/site-packages/numpy/core/_methods.py:32: RuntimeWarning: invalid value encountered in reduce\n",
      "  return umr_minimum(a, axis, None, out, keepdims, initial)\n",
      "/srv/conda/lib/python3.6/site-packages/numpy/core/_methods.py:28: RuntimeWarning: invalid value encountered in reduce\n",
      "  return umr_maximum(a, axis, None, out, keepdims, initial)\n",
      "/srv/conda/lib/python3.6/site-packages/matplotlib/colors.py:512: RuntimeWarning: invalid value encountered in less\n",
      "  xa[xa < 0] = -1\n"
     ]
    },
    {
     "data": {
      "text/plain": [
       "<cartopy.mpl.feature_artist.FeatureArtist at 0x7fe179fe8898>"
      ]
     },
     "execution_count": 24,
     "metadata": {},
     "output_type": "execute_result"
    },
    {
     "data": {
      "image/png": "iVBORw0KGgoAAAANSUhEUgAAAcwAAADPCAYAAAB4OOGcAAAABHNCSVQICAgIfAhkiAAAAAlwSFlzAAALEgAACxIB0t1+/AAAADl0RVh0U29mdHdhcmUAbWF0cGxvdGxpYiB2ZXJzaW9uIDMuMC4zLCBodHRwOi8vbWF0cGxvdGxpYi5vcmcvnQurowAAIABJREFUeJzsvXd8HNd5LvxM216x6L0Qhb2KEkVJVJdl2aqObcV2EpcvLnESO7lJvhQ79r2Oc+M0O/kljuIa20oUWVaJpchSVCxbFEVJFKtIAARRibZYLIDtu9PuH7Moc84hd0mCwJKc55dYnMWZM2fOnP4+7/Nyuq7DggULFixYsHB28KtdAAsWLFiwYOFSgDVhWrBgwYIFC0XAmjAtWLBgwYKFImBNmBYsWLBgwUIRsCZMCxYsWLBgoQiIZ/tjoLJOn5saW6myWLBgwYIFC6WAIV3Xm8kfubO5lXAcp//pTw4v+YGZhvyBTkPcKAisjATTpSJnGfmYyyqINlaByJsoaJp5Y20XzM9SFRkP/e4DuOtXP4Brbr4RAFDjUql8bDCXuTJQY7qOxWPUPems+bcc6Hw1TjM/xyFRaXjBvNZRcxkqDaeb85aJe+666oGFfz+x9z+MNArdHpScYrrWNY1K47E7Tdcu3lw3ks1RMN+cKlNpHILL/By3m0oTzyZN1xPpOSpNa5U5n5aQi0ojE+VRVboueN7cdjidbmCqYq4fqo8wfyOuNfrZ5C+sfDWd/DaMdxCId+AZnYQoj07lC5BjB6s8IOoLjPGGLDNrTBKIMstEvU8kctQ90UTCdF3hoseLLPGtsir9niLxbJ5o2wD9DskMXR7qGzOqK6uY+6zGqAtyPM2qCpWGzJx8lMZoFxrRr1nPVok0dpEemxQijaoxxrjz8GYUybbEKI/CeJZLspuufQ4nlUYgvundu+6DrtOd+6w7TADQl1Qsa3DQiYpndT3yR0abBAfzYCmKBYsGXacrB0QZOYFu3AJPdBKNGMx5B+77nS/h3/7376Nuyx1wef1wJPuofDzEQBOXzI2HbIAAYBPIj0cP3BnZ3NlklX5PjmhwiSyj5on7RDudZB4LaxiJHlRkovOzBrR42jxpiS6PuSiMCd0lmSc/ldGJ53LmyS+t0AORTTR3JAejnWZy5rogJzUA0IleLHAMiwWx2FIVRhsk3oNn5EP2RZ3sFKyORNyjMRZbJESJHtB0ovFojA7JEWnIfp7/0QRyIgbYAxidTeHRk2xyHDFBOQX6HcqIhWa5l+5r5CQfSaSpNDzxbIeDsVAnCuiz02km5swTuMyYNahFB3OBYf7NwZi0yDqViXYqsBZx5GKQUT6e2uww0hB5s6ZzcgHGMfoIWcQcYxwk13oiYzGj6uQETreVZI7eoLFg2TDPgKa1G7Fh98145jv/sNpFsWDBggULJQBrwjwL7vzob6HnrdfQf+zgahfFggULFiysMqwJ8yxwur2451N/gJ984yuQc7R97VLH06/952oXwYIFCxYuGRS2YS4579VZ596EXYU+4waoc24WoYHIW2PZ7SieBMM2RFxrOdrmpXHm167yJKg0Ls4g51x/41YceakWjz7yAu788K+b0ozmzLbPiBI2XTs0s10PAETebG/w5GibScgTMF17JQ+VZmZ2wnStZ+h8yDP/bJZFRDBw97UP4qc/fxg8R6cpc5uNn2mZtgEoinlBkciabZYsO0tOnjFdu220Md4lmX+LJKJUGo/TXD8Bh5dKk0iay5P00ZYVt2i2f2gsmz1h72MR2EhSiKYwyDnEtyFtOCSxAwB0wvbOSiMQxC7SXgkAGtH/eCbph3g2i6VB8pQYtiHSnsWyf1PvwVrGU7Yq83WFh247CZu5zU2n6EUvaUsLMIhBqQxxH8MuKxBtJ2ij84kmCOISw/5NEltYRBfShsmyR5J2Oo4on8oag1mcEAISwQlhcUbJOpUY78ATHBWyTQIs6yjDhkk0DJKUBwBZYmyKZemx0l4EZwYoYsK8UpCcm4XT66NZkByHX/3t38aXP/lJyLKMtvUb0LJ2PVxeelC2YMGCBQuXL6wJE8BsJIwvf+Re2Gx2NHR0obFzPdq7WtDS2YlgRQXKKivxW1/9Go68thcv/vhRDPV2o6yyCo1rN6N53UY0rd2E8tr61X4NCxYsWLBwEWFNmADefOFZ7Lz13XjPx38LI73HMdR9HHuffRY/+vrXwXEcmjs70dDRhdb1G3Dz+94Pu9OJ0VN96DnWi+63XsfPfvCvUGQZHes6sGZ9F9asX4vm9jY4rNq1YMGChcsG1pAOYLjnOJq61sMbCGLdzt1Yt3M3XFwMuq4jGg5jsKcHfd29eOHRRzDU242K2jq0b9qCxvU7cN9n/hfcPj9mpyYR6f4l+o5349//6VsYHzmNptZGdKzrQMf6DnSs64A/4F/tV7VgwYIFC+eJgko/f/KTQ2fNgDTqs0A/g2H4J22HDEID6RjNUh9hOcAWwtRQD773Jx/Hx//q3xCqawIAVLnMhBQvZ5BNFFnGwMl+dB9+Bz1HjqH3nV4Ey4OorK5EWUUFyipCCFWWw+v3IjqTwNT4JAZ6TqK/uxdr1nfhvZ/8PMprahfy9cH8HAAoF83O+i5HFZVG182kFVLsAABcNjNZJ56iyU333fFrC/9+/OWHYZNox99yn890PT5DKxjZBPM3VTkz6SGTog3tAuERLnL0sx2CmcyRU2jiRkI2k6v8DnphkiLIX/VVtPJQjddcZk5jEG9IwoXIUvExt0FNZuVjvhaI9s8kvYmk4gyjrVN+73Qf0Yogd9AKXnSaYhR6KD4Po8yU0lBRYwrxbFYagkjCKl9WMfcjm8TaQ5jLQ4pgAIAokmQdFhHHfD2dovvsTMrsQE+q5gCs9yjcThWKVMNS8SEELRj1xSoPCbIts0ARxFjfhugDKiONjSQhMZ5F1gVJAgIAN6FE9uGbPnR+Sj9XAioa23Djg5/C43//J/jY//0+BAajcx6iJKF9XSfa13XigQ/dDVVVMTo0ikg4gqmpWUSnpnH80DFMT0UQmZzGTGQadqcDD37mE5iNTOPrn/sMrrv7PtzyKw9CYjDpVhqPv/ww7r/pQ6tdDAsWLFgoeVgTZh5XvfsDOHngl3jlkYdw84c/W/R9giCgsbURja2N0IhdVUo2VjfDpwbwjT/7Cj74qY/h9//xITz5r/+Mr33qY7j/07+Nq6/qWO5XOW/cf9OH8PSrj6x2MSxYsGChJGEJF+TBcRzu+e0v4+ALT6L3zV9AVVgKiOeXb9OaVnz+q1/Ef3zzOxjq6cZH/+zLuP8zv4PHv/mP+Kf/8zVMh6eW5VkWLFiwYOHioeAOc+lZM8teSYr8sswYpGM002xKOdrSRSPtKixR62JU8GkbgHEO7g5W4e7f+Qp+9q2/xI+/NoGy2iZUNLajsqkd1c1tqGpqh6+8eqEcFbZJUy4+ziwmUL7kWLy8K4Qvf+338ed/8Dfw8HPYfcMuXLX1r/Cfj/wCf/5bf4CtN9+JPb/yEfjKyjGdDprzkenoG27ebI90SLTjdiRudvJnRSiwwSxIzTPE6sNxs41Qk2khddFpFltIESLWMiOiggDz0TdpZwQAuAjbHuMDe5zmnX2WUT6ecNxOp2mxZc1lbnMS42ie0nbWWMLqxD2kejcAgRC5l4n2rzPuIb8Ne1FX2G5H2gxZfAG2NYgoD9n/GGWm7ZwMG5h61kvjN+I97BIZBYVVQPMly0ZORkHJMiLUOAi7po18NgCFFPNgVKlA8ANIGx3ACLbECgBDZM6y7ZG/CeQ3Z2VMiFyIjJeQzsJ5ORPSMkswgngWw+brI4RMyD4C0IEpRNYcVURUHYZGCRPWkSyBNdt247PffBrZTBaRkX6Eh3oRHjqJ/T99GOGhPsjZDCob16Bt6y488JF72Q3vDGhtb8If/OWf4G/+9C8h5xTsvvV63PLgx7DzjnvwymM/xNc//avYftt7cNO9D8AbLLuIb2nBggULFs4V1oR5Bkh2J2rWrEfNmvUAAIEzVvOp2AzCQ3145l++iraWELZef8M55dvY1ow/+qsv4K//+C8g53LouO2j8JaF8J7f/BxueOBD+PmPf4i//ezHsPO2d2PP/R+A22e5oliwYMFCKcCyYZ4jXL4gmjdehfd+9ot47KFvIpWgXTUKoa6pHn/813+On/7HE9j7X48u/O4LVeDuT/0ePveNbyGbTuGvP/3r+NkPv4NEPL6cr0DhsZcfvqj5W7BgwcLlAGvCPE80rt2KbdffgL/8zCfxzI9+gOjkZOGblqCqrhp//Dd/jtf+61H897f/AbFoZOFvgfIK3Pfpz+F3//5fkIzN4Y8/8Rk88cN/RzJ+7pPzueJLX/rSRX+GBQsWLFyKKChc8P8/emDhWmREVKfuZxjWOZAG8cJ2P4FBPqGcuVnRU6j7ircxmu8iHaNZTuICJvpP4OD/PIZjrzyN+vZ12H77Pei6eg9ESUKFOEHdYlfGTdfJNIfHf/Ao9r28F5t2bMZt97wLLVt2m2yjR0/G8PNHv4vu11/BNe/9AHbd/SBCfrMoQYd3iHoWSZCRGRwRXjCILffteXDhtyd++agpDaeb311QUnQ+BDEiK5u/lcwgU+SIKOcet49KoxAEHpbh32Y31wVLkpDnzWk8Nrp9NYTMBCiXnSb9aAoh0MCIOMGRzZ3VlomIF5mc+T1ZBDuSZEOKfQCM1s7idhB5M/MhCDwqk6BCEknoZ5FEkrONN4v3FPlbAfC8uSEoLGYHIeLAcrony0xGAsknMl+zIogQv52eoaMZpXPmTjr/rOj4HGYm4xBEHv6QG2VVvgUhF41ROTmVjGxjBqt9kUIFrG9FtkGS9AnQYhCsPisR7Dny2iiP+VplEMYUol0yI7eQpB8GwYh89w/t+VWmcIG1w7xAVLeuxZ2f/AI+971XsPmmd2P/Mz/GX//Gu/Hsd76O8eGRgvcHQ0F8/POfxD/8+zfRuXEtvvv1f8WfffRjePGJJ5FOGh0qWF2H+37nC/jNv/keohOj+PvfvA8vPPJvyKToDmfBgoXLD7HpJOLRJOwuG/oOncbkEB3mzsLFh0X6WSZIdge23HQnttx0JyKjw3j7f/4Lf/dHf4JrbrkJD3ziYwXvd3ncuOO+d+P2e+/EkSPDeOmpp/DEd7+Hq268Eetu+yBqWjoQqm3AA5//EqZOD+LVR7+Fr37sV7Dn/gdx3XsfAKxoYxYsXLbgBR5VzSHUtJbD4ZAwNTaLmtby1S7WFQdrwrwIKK9rxO2/8Vnc+4F34a8+9/uoqKnBDXfdWdS9HMeha+sWdG3dgtnpafzimf/Gj778ebRv34V7Pvun4DgOFfXN+PAffgkTQwN4/t+/i7/46Ptw3wduR11DLTo7Ohb89UgtTVXjjJMijgOgAzrA8QJ1mjQ7Obvwbx3mIOEcx4FXs9RBDKnzKxNHQqSOJpAPOr0kIzlpJNIUDYIkIJfOgRd16Jq+kL+q6/mi69B1HUpWgctrPkpN8cifQS0t95KmrgPJee1Pbj4pBy1hPmq2M3R1NeJoWWO9mGb4L4t530/WkaeqqYvvzgFy3ldt/oiL9I3UoYMHv/BK3BnyXfqOCwkJFArErqoqBJE3pWMFhybLSOarmwoCxBMZeD3mo3EmmEeyZzmTPcMxL0cc88UTOQgiD4fpqH3Je+mGzziZHXk0ydJYZZVB03UkEzl4vXajfcF8jD2dpP2Fc4q5nueflU3lYMvbGgKVXvQdPg0lp0C0WUP4SqJgbS9tpqyze9IWIzLEqEn7XzHmCIXhlE33c4a9gTy7Zzn+kkLXrPZP2osYZ/W6Zna0z/HmbV7OsRnv++K38f0/+jC4ym1o3XItbKg1pamUR6l83bzxW6UPeN+DN+P2e2/FV37nj9H/8vdww523AABGcl1w12/GfX/4DUw8+xAOnTiB55/eiy0bN+Dm994HThDhkZILg5qu68hmVWNA1nXMzxScTtdRIhLPz5TG9fy3mB8TeF2jPobLaR4IyY5P2hqgz0+Cixkl54wBJJfOQXJISEaTcPmdEAQeqqJBzNsd5yc4RVaQnE0jGzI7Ros8/bX0Je/DYXEQXBzndIwt2LyMxE4bDz1fP/P/FYm2Y1qU5NchsqxCFAXjvvyzKHtf/n84cAt/X5qGWzrhm/+z8G6aRluvltqU2IIE+TTUsxYzz8kqxPyEyQGMlm8uD86WZknmg0PTqK8LUkLlC4sWZoGwsEAifztjYc6AoaEo/AEnfD7HmeZYLK77zs1oSo0zOjAXyyAaTaK2xg+7XQRpxmfZ//SF/zFg9CMdNpFHVZUfAZcdmqbD43diZjyG5o4qkiECAHARL5gibKPsoBnm75LM0kIiGmmTZuRC2oFFln2SmEuyjOAR5HspGm1HJ3kazLcSzNOcW6Q1vIv92tby5CIjVNuMB/7w7/DYX30em266G51bd6B5/TZIdjpaxplgd9jx6T/7Pfzf3/8iWrvWoL6lyfT36js/iU98UEH3/r34zle/gOvveDcCLS1Y15w1r2ijdMQQPt+xnnzxYdx7iyHC3rWlzZQmRrjOiBrduBtrK03X00kzoSeVoolCkt3ccKfj5vL17etDVXMF3L5FxQ9uSYdNxdM4dXAEtV3mRYiLQeghozWwSCxBh9t0XRekd0N+gggkkwovAARigGCRFcgOSg4qHINgR5IVFIX+DkVFsiAGPVLtxsincCQSsjxMksiSwfM7/7YXN97QDoeDiApD5EOeVrDKoxaxMCZLk1VYU4s5lY317CKGU+q2/KO++/3XAAC33NyFNHk6wdqVEtfRJK1IBQC+oAvTE8aEaWHlYJF+VgDNG3fiI1/5HhxuL15+5Nv4y4/ciu9/8TPY++SPMDY4VBRzsLaxHh/4zV/DN7/yd8ikjYlFlzPQT+2D3rcPY6/+DAFehc1uR8/BtxA5vA9TY7MFcmXjkR88fl73XQycg5CSBQslh4aGIMbG55gnZheCmsYyzE4ncOAXvTi8tw+HXzuFiZEokvEMsmmZWlAAgJxVIOcU6LpeHFvZAgVrh7lCqGruQFVzB2794EeRScbRf+RNnHx7H/7xiz+CqqpYt20r1m/fhrXbNsMdYOex+7Yb0X34HfzoH7+NOz73T4btacY4vlUBSB4frtqxA2+88Qba2trQd+w0KuuC7MzOgu/88w/wwV+7/wLedvlwLtKDFkofxWg9X04oD3kwNBSFomgAwyZ+vgiEPNjznk2ITsWhqhrSyRyGeyehKhpURYOcU7Dh6hZ4gy7MhOMY7JlALiND1xfNCKFaP0I1AThcNrh8xZ94XckoOGEubd/soM6Erxrj+EkHeXxSuOGQ587GfeZrVpBd8giKKbRL+huxjlyKWIGRfl4czEdkDDceZDgP4PagddfdaN11NwK2OCKjw+h+ax/2vrQPP/zGP6O2sR7rr9qBDVftQNu6ddAgID47i+NvH0Amo+HAL17BrR86jurGZsyV1yAbMXw7MzPT2LhxE1544QXMzs6i0lmFmfQSG2GOdkOpDFZSvwGAkl0kJHCq+Ti1poyehDlyRaub7YoSQ7DaQfzmYoQHFUQdgrjELrekzufJTRJxxOi00xlR9g+GX2g8Z37P8RhDrD5kbrvkOwAAiMDTAqMdkLYXwtUVGsM+LxO+miy/aEpYneV7SPykMoTxaf9qRj6EDyrrGJl8lqZqlP2KLKPKsFXRouSF+zkZ9MHJ4jxQR/Ws8YsU76aSgHzR+VxGx2bB8xxsDhvFnWB9mmTW3G8SWVq4fMGOznMIVPmgAQgCqG1f7MvD3RM4tn8AAOD02FFW7UdDR9XCcXcikcXsZAy9Bwz/7ZZN9QhU+03H4WQgdICuU1ZAcNI3mSsisDjLN5K8j/WNSXs4yw+TXKRlGWLwxR61WjvMVYbBem2Cn1fRIKQhx6LwhQIYGxzC23v3YiY8hWBFBaYnw+jcvBnrd+zAfR//BMrqmwEAvq7NyE3XIDE2DHUuAmdlHTZt2oQDBw7g/b/xQSbhxIIFCysDt9sOTYut+HObuqrR1FW9cE1OGg6XDdUt5ZDsIib6Ixg8NorKeAYczyExk4JkF1HZWgE7axV7BcOaMEsFNgeeeeYZ1LR1wgEFgwMDiIyNwxcIoLy6Brfe/wA6N29BqNoILza/J+A4HvbyaujBBui6hvgbz2LHjh34/ve/jz179sDpcaK8kb2LvBRwVtcJC5ccWO4plzNK3VYYqg0gVBvAbDiGk28Zu81gtR9z4ThmxudQ21UNl88Bp89JLbyz6Rxi4ThURUNt+/KSjzTVCEbI2nmuJqwJs0QQHerF0NAQPv53/4YaXxa5eAKpaBQ9r+/HyOgoDvzP83j8Xx8CADS3taG5vQtrNm5BQOLA6TrsLRuhzIYBTUVFRQXKy8tx6tQpVLfUrPKbXRhYRz4WLl2U9vSx/GDFby1FBCp9qGmrBC9wqGwph6ZoGHpnFNHTMxhLZGF329C8pREOlw3ZdA6jJ8YRn07CV+FFbCqOeCQBb8gDQeKNuJ+6sTiyOSR4g66iTrk0RcP0yAwiA9MAgFBzGcpbQhf71c8J1oRZIihv6ULX+g146ZHv4sOf/DDsPi/sPi+ubmrEllQOmixD0zSET5/GqXeOoe94N/a/+gvEZmew7ZrduH2P2b7V1NSEsbExREamYHc7UdFUeJf53P6ncMfV91ysVzwvWPPl5YUS33AtO7Zvb8Tg4DTefnsIO3a0rHZxzoraJS4qvI1H48Z6AMDQkdOYm4yhZ28fAGPXV9FYhuYtDZBsEmbG5xAejGAuHIOu6+BFHqIkgheM412H2w6Hy4bZyRhEu4hApReVeZUiTdOQmE4iMjqLRGSRYxFqDCLUVHoxgQuTfgo0cMrHmCm+XljUl1qBMHk4hXsbdYTHyIda9BWx62dHKKe86YhsGT56BBkmrRikKd1VjXfdcQe++S8P4c67tqCprXkhTUBcJBPVVVRj69ZqpBLXAABiczF86ff+AttuvRGdGzYgdqofciyG6upqHDp0CACQzajgRDdCQdqnKyez/bw+/Zufx9f+4SsAgBqP2T+x0kvr8JFi3T6nWUg9y1hpk/eEfOYI60fQB4/LCXGJsPtserEuOJtRd8MnxtGyuXHh93iKVlAJ2s3fJuD3UGlGZs1+oCmFLvPpqTnTdUctTWnWCPV1lpO4SBCTSLeDXJr2W9UJofCsyiBlENeSyBCQp0S2qSSmOgfYvpEUiYVB+FM1glCkcxBIQh9JQmI5qJNkHK4wIYQnBVNYwRqIIz+BQXQh07COlSkH+vyzAgEXbDYBhw6dxs6d5gmTddzoc5l9f0M5+lnJDDGGMKIqkOLrpOAGy9+UVOdCvg2s2d4MVVahaTpkRYW0pC9ls1m4yhxoLqtf+G1pXcgZGeO9YUROzwAAFFnFHA+Ut4YQPT2LiZNTpm8bqPEh1BCEy++EStQpi+RGtmWeMZiTaVgCPFlGm2PBWr+XCDhRgn/D9bjpxj345//9jaJtPT6/Dw9+/P14/FvfRnzkNOSYQTCoqanB+Pg43AEfGtavOefyDPaMF060ypDsIho31SM+ncCJvb1XnH3sUsSlckS5nNi61VjMvfPO2CqX5PwhSAIku2iaLFnQdR1yRkZsKo7JvimcfmccyWgK3nI3GrfUYd3N7Wi9qgkcxyF6enZhsuQFHmv3rEHDhlq4/M6zPmM1YU2YJQS+ohk7P/x7kDMyXv7pi0Xft2PXNjhdLux77jkAgLO6GoFAALIsQ/SWbuMrCgXGV2/Ii7ZtTZCzCnr3969MmSycN0i3hCsBGzbUwuWyYd++y7d95tI5hPsj6Ht9EP1vDmN2PAZe4FHeVIauPW1o3FwHb8ht2uWvuaYZnde1YsOtnVh/c8cloYtrTZglBsEbwu33vAsvPvV80ffIGQW3XHcdXn75Zag2GzxNjeA4DjU1NThx8MhFLO3FRzF7RnfAjYrGEHLpHJTc8iqqWFheXKkuTvfcsxmapuOtPBP1ckE2lcPIsTH0vzUCVdFQt64aHde1onFTHSpaQvCWeyCIbL97juNgc9ouqTZxTlM6c7FPHrEwpmDK1lFE7jrjeI2n9DaZYQ3Omq+R5Nw/EMt+Sgm9F7H8INuOrNM7wPbr7sJ/fPdhHO1XUFZVjWqxl0oj5+1Amqph5OgYamtrseW6XTh0/Ch+Zdc2TME4lj09OISKvAkykaKflU2f2UfM7zbsKXaRDMRL2z1tktkm5+TN13aGyIRC2OQ8jBWmwHOmDifydBpd1xZs17PhGHxVdCBq0hTECmjNETY4TaVtobJktglOJ2h9XgdZFy7aXpogni8RSwOPj7YTZ4k65BiC1WRzZwWvJuMjsPojZQti9BlFMdvSyEAMAGAnNJPZmq+UVD6Vhhx0WdFcSJxNmH7hN9IGxmCZUUILzMD1ZL7ma5fbaBPpdG6hHCxR8sm4uW/F0vQ3lglhgJxM1zvp0E9u7FkaE2Q22Qzd/ufLrqkapgajiI7OobKpDI0bahc1iUmxiiKCu0iMdqqrCubCcSSiSWRTOXCccXTrq/QiWOs33oP4FhmGPZdsKxdyymHtMEsQdn8A69avx5s/+2nBtHN5Y3rLDVfjrnvvwYuPP4UDTz4LAAgEAhgeHL6oZS0VeMuMVcFY7wTikfgql8bCmXAp7SYuBubm6AXWpQY5q6D/rRFkkzl07WpBVWs5U8D/QhAejOD4L04iOjoLySFB13QkZ9KIR5KIjp6fRvZywJowSxCcKGHnHXfhjZ89XZDI4qnyoXpDHQRJQnYigp07d+LFF1/ExMQEXnnlFdzzgfec07Ofe/VHF1L0VYM74Ma6G7rgKfNg9MQ4ul/tRXhwarWLZcHCAux2EfE4vWu7lJCIptD/5jD8VV40bKyB5KBZ2OcLXdcxOxnDqbeHETk9g45rWlHXVY1sMgs5I6OmqxLrbmpH21VNhTO7SLAmzBLFmuuNuJcDh946azrJIcHuXTz2uvbaazE0NIQf/uhH+F9f+F3c9cAd512GO6778HnfuxoQRQGtW5qw5upWuIMuREdmMHri0mUmWri8wPMcVIYp4FJALi1jtHsSo8cnULeuChXNZczTAk0zWLLnitRcGn1vDmK8Lwx/hQddu9qgKip69/WDF3heZNRKAAAgAElEQVR0XbcGofog071pJVH6tKQrFDzPY/OWLdj344fR7Hk/ypsDsLvOvppr3bML4RMn8av/38cgeN244+7bVqi0pQXRJqJhfT3ikThGT4xj4OAQNm1vBU8GLrZgYQVhswnM+KmlDF3XET09i/DANAI1PrTtbFxgs2qqhsjYHHiBx8g7EwAAp8+OdDyLzbd1FZV/PJJALpXD1FAU1S3lC5OinJUxeHAEoYYgKppC4AUeGsPPd6VRcMIsZHKg1ksscgydiH4O6UDMCgKhmlcuHBkphZE3cz1XjNwIR5IKmBmZL7XCxmVKM0Gnjfpx2XCG37RhAx566CFEx+YQn0ph7S1bFsgP5U7z0Y5dMlQyqq9uwKarGwAAqaw5TTpNk3VkwmG+3GMmaZQ7RHgdROgfBrtJJEIXKYTxnXwOANipfOla9tg5OOyL9TiXpAkOZIQJe97h2l4ThCSJGDwygrdf68WG6xc78WyKrne33ew07mQEoiYJF9EEnY/Xaf7usRxtc5kjyBwuokqrGR0vPGu2zQYZwthOkmRDpQA04h1Y35NoylAZ34/sszaJDhFFRQbSNYocRBJtWEIPVL5FEIXIbs4i9JBCJywTCNmNizHDsiIgVVR40dc3hWxahstloxzzAZrsWOmlv3Eia/4W0wmWEIz5WiBeghVMe2l0EF3XkZnJYPTkJERJwNqrW+EJuGCXJOSyMman4pganUFk3Ny2c2kFLVuawPPSknxhyldTdWiZHMJDEcQiCfjKvWheX49QzaIIyKm3hgCOw/TIDKZHZuALecCJPBxeBwLVPticRr1oBHGQDN5u1AURDYcx8drE4vaO1g6zhFF2/QcQfPRRpIUcOq/eeEZ69mWNC1xU+su9aFhXi5HjY+h+/SRq1lQbBCEGK8/CxceVzPmpqPCgr28KDkdpD7vJWBrH9p6C2+dE49oa+Ms9SMUymDo9g7mpOCL5wPShaj86dzTj1OERKHmKbevGOngqzSz1VCyN0e4xpGNpABx0TYfdbUN5XRBN6+qMHSsx58emEwCA5o0N4AUeHM8hk84iOjqDyb4wyhqCqOtaPp1sVVaRmktDVzXk0mc+Ui7tL3eFg3P6ECqvRP+Rk/DxbqzZvQ4OzyUuRLAKKKsOQOAFDB4bweCRYfACj4qaADKpLFrW1sFhhTBaMVxpWrJLMa9yVKoBBTRNw7G9p5BOGCdROnRMDERw6tAIJLsIp8eBYIUXHVuaIOWPZXsPD0GRVfA8h7atDQhVB5BVdSg5BYmZFOLTRtSTus4a+Lf6oGkaRJsIRwGRgs6drbB7HLA7F/tmJpdDWX0Q2WQWfW8MwOFxIFhHu5CxkI6lkZxOQlN1ZNNZ8LwxCXM8BzktIxPLwOlzQNd0pGbPzGS2JswSRzDgw8zMDCSHDXa3FRX9fOGv9KF9RwtmJ2OIjEYxNW7Ick1PzqGupWK1i2fhCkBVpeFbOzwcRWNj6QmLA0A6kYXTY0fH9iYkZtMQbQJc3sWJy77ED1nXdYwPRAAADrcdA0dGMdY3hWTedcZT5oYn6EbX7nZIduM+AcWd7AQqfGc8XLK77Wjb0YyTr/cjFo6haWs9NFVDOpaB6LSBF3lMD0bhKXcjNZtGMpJALi3DXeaG5BDhrfBC13XomvH/zoATdetrIEgCktEUlJPhM5br3MTXCwdvZxr7SFFmViRvMifW+T5pa+GZVUqeVxch9M5a9RazEi7w8qyVJBWxnGXzXZJxWagcp/pOwu7zIacuiqBrWpq4hyEerJjTJDNJKolORh8XvDhw8CfYvvWB/LUEm8Ns28swbKHZrNkmxxPfyuWhV4JTCfOzlRTtP+kSbXCJiwuFrmp6NzgQJd6TKSYgwudzwedzobG9GlP9kxgejKCxPgRPXgg9SRjucjm6TgPEDn8qRoukZxLmevZ43VSaKrc5nwxhb4ZCHwtVEiL4LPFumRA3YEWgF4jjaDbb0ZwPKcbOBMMGTebDcRzVNki7IVOEoKDYOoMvQBkxqSTUbewdcGGhd/KsWWD0/braAHiew77XB9DUWAadMX75nGZehothR7cR9neJQfiIZwgOAdEuJEbbiefH3K7dhvZ0TRPdbtOEWMbGPV2wOSSIkgA5q2B2KoaBwyPQdR2pWBqdO1vz39Nch7JqLh9LY5gU4V8q0m5ziWjZ3oCBAyPofqUPqqxCtAnQYYyxckbB9OA03EEXQg1l8Fd6F/qLyOw3Rt6criOXZAiC5GHtMEscwbpWzLz5BqrWdSKXTIETeEgkWeYyRDxmTHqxWBou1/K/b2wuDUkS4PFc/nVZSiBVV640bN5cj4MHR/DO8XGsXX9px6oFANcSlzbJLqKivgyh2iBy6RwOv3wCx37Rg/KGIPxV/mU3fbj8Tmy+dS1URTXsnByH8EgUiqyC4zg4fQ64y9wU4els8FV4seaaM4dhsybMEkfQbcPMzAwG9u6HtoR5yos8OnZ3IJ0//nBU+y/K87dvfQCDfT+7KHmfDW6PHTabgH2v9eK++69e1rw1TcPsTBI1tcFlzdeChUK4Zmczensm8eabQ6U3YS6j14bNaUPzxgZMDoQx3jeF0Z5JgDNcvhweOzxBFwKVvguOTMLxnEm0PVh/4X3a4bGf8W/WhFni8O56H7J/+zWkE0m4/T44g344A36ET5xE9yvdC+nG7CIa1tUhUHVxJs6VBs/zaFtTjRPHR5HJ5OBwLN/qdCgvZlDfVL5seVqwUCwaGoLo6Z1c7WJQWO7weBUNZahoKIOqqdA0DfFIEnOROFJzaUwNTWOiz1DisjkkVDSHEGoIrjghKh3PYC4cBwQevgpPQeUia8IscYg2J0IVFVCdNrTs3rnweyDEIR1Lw+13Q9M0jHePof/gELp2t8O1SiG9NE0Dz/Po6ZnEyb5Fw7kO2qYJAHLebsEBhg2I8KlK5W0JmYy8rBOmy+tEdHKODkps4aIjnTZEtOdthRwHyiF93oa5NA3HwWQnnP/Xoh136d+4/P1mu5iwRLjCGJd5CIQSvcG3INuqhvlxfDkG9IpyD7p7SmfCzGZy6H17BHPTyYvm9sPzPPyVXvjzxCdwxniRnEsjPBDBWM8ERrsN8QOO58BxgNPvhDvgRFldENIFuuLkUjnIOQWCJIDXdGTTMlRZxXhfGO6AC6qqYbJvCuAAbzkdLGEeRZB+Fhvd8gkn0wOVrpsbIsvnkOwALOUHkjDAsSz9euFIB8Wwfkh7DFk/rAgnKuEwzDP8AZfav3Vdh9/rRSIxCxu/xBgt6pDKHABUCAKwbVcL3ni5ByNHR7DjhnYAQKyICaG5ynyEIQl0k0gTJAO3x4HJcAyzcym8eWAAmqZB0/QFwz3Hcaiq8sNhX1ytzUeAn381DoCSzS78oOs6HDbzpGizSZiOxPDii0dx402dEEURKsMxWVGIb84gQSz9NuV1AZzum8Dhg4PYukTMwE6IL+iMST46Y47u4mKoB3kIm6vHS3fA6bmEuXxE+88xbH1OiXwWnYaM+qAxBAd4wkk7m6NJDuTEwOz55I6EFemD6ANPPXOYldMVCZElpCCZ60thRPnxEJMHeQ0AXkKejhyK5vKkoH0vdmMmkgDHcwjV+NGytgYe1/yRJD1+xdLm9qSDJqdRhCfWUJpvUG6/Ey1bGpDO5hAZjEJOy8gms1AVDamZNJLRFML90/BVeNCytYGRzWLmqqJC4DmkYxkoOQWxqQRCjUFEJ+MID0Vhd9mRTWWhqTo8ZS7omo7mLfVw+hwQeD4f/FrB9FnE3a0dZomD4ziUV1Zgemq6YNpQpQ+jQ4XTAcbq7lxiR6YzORw+OoLJcAyZrAyOMzpGdZUftbVBlJX5UF0dQCaTg9/vokKxRRnOwIPj5lV2Q3mAShOZnMarv+jF/zx3HF6vA+u3NsHndxVdbhaO7z8FAPCH6BBaFi4uHrhvG4JB4vudByNdJ1iVrJ2fSqrAsBZSBCGENUHN3zZ/ZDk/+SwtgiBI0DQdPM/lF4+Li4n5onHQoes6/uu/jiKRoJnmK43uwyOYiSSwc087yqv9SJEx8FYQPM+jstVsIplneB97sQexqQR69vWjfm013AG6/6fm0ujZP4jGjbU4fXwcWl6zdy6cgCqr2LhnDewuG3RdRzotQ5AEpObSiI7NIvrGHEL1ATSsq4HkECEymMnzsCbMSwAVVZWYOD1aMF15rQ+nByKYm07CGzQfyyqKivBABHPjc8b4lO/sg2+PgOM4BIIu2B0SdEVHImF2cXj0iTeg64AkCmhsKMOOba3wes27KCkvK+d0Li8Tzum04aZb1mHsdBQnT07i4P5TuP7W9Rd0NKapGgSRR+u6OgBALpPDkX0nIdklbLqqzRIyuKi4dJUL5tscKacHAAJxMsOKDdrTPYFf/rIPAHD//ZsvQgmLR3hsFv3dk2jprEL5RSIMLhcaN9ZiaiiKTCKLvjeG0LqtHt7yxcVuNpVDz/5BAMDw0THY3TZk8+Ycm1NC7cZa2PN9muMMkpCSU3DqTSP0IcdzC+QjJatgtPvMx+XWhHkJoKKqEidPniyYzut1wu114NC+fgCGzUayS8hlZGiqBo7n4KvywRN0QXRIkGwi3JqObEZG99FRCAIPl8sGl8uO55//AW6//dcAADde14myoHchKC05WV5siCKPxuZyCBKPI4dOY24mhWDozHaGQpiX8UrG0hjtD2MumoAg8MhlZLz1y25ce9uGklVjudTB8re7UvDWW0MAgI9/fNeqt6/olGESiEzGoMhKcX62qwRfpRe+Sq8xYe4fRGImvTBhaqqG/oMjqFlTgUCVD7KsQJB49OwdgM0poe2qRqaqkGgTUdVWjslTEfgqPAjVGadbp94eWQhOzUIR4utLjixYogSUMDHDCZrSSaYz4nnCDlVEx2IJ7ZKCB+zj83PvtMVYb0l7DWmvBEB/PEZ9iURd8LqOXC4LYPEI1e8wd7iqMuOD33WfoSAyPRVHz8kpxGfjCFYGUFEbgsbYOLXmjzfWrjEo7pV++lh0zy0fwejgzxfLIzEEodPmXWmWONqaS5htdgBQ6TM7Rs/Mxqg088Lqmqbh2JFReHxOCE4bYkvsqhwhJu5kOesvseW1dlRjdHgax98yFhZllT60rq1FNp7G0beHMNI7jo51deAZjvhOgkXnZdTXZDRqug5PzFFpSNuinRBNz87RR9hBl/ket5NeNMQIIQXW8bWmm/NRSTF2ABxBhiEd3wHAbjPXhc7YVXFkn5BVqPLZxdeZID4F+YlZDE/y2FZntAvyJ3Y/J7gKDF4ESSBTGfV1553r8dhjB/Hccydw1VVNKGeQS6iADawADmTMB8Z46iLGmRQhwrFtWyNsAo/eE+PY/1IP7rp3Kyq85mdlGCYbu1BYiT5DBF5QGCHNSH5HKssIhkD0NTUf6aWm2odyt3Gi1ZMfE7o21kFVNUydnoEuq9i8qwWSTUTA70KKaG+z4zGIkoDmjiqUV/ng8Tthz/MnJEkAf5aT6dJdVlgAAOiqgvB4GBXVled0X6jCizaHeUKanp1ZzqKtKI4fOQ0A6NjceMF5VdYEUF5XhunwHLw+J2x5Bm5llR8Oh4TpCD25W7hwcLiyd5jBoAs33LAGr78+gMceO4impjLceef6VSmLzSZiy/ZG9PeFkc0Uz2VYTZw8ZpilDu8bQF1LyOBs9E9h561roWk6hnomMdQzCUHkcdPdm86YT2w6CU3TEazywVdmjJEzU3GMngojPkMrdy2FNWGWOngeMzMzqKytWu2SrBo0TUMkHEdreyVsBUSbzwWhSvropa2jGu8cGcFA3yTa2quX7VkWUNwxzWWOzs4qdHZWoadncsGeuVoYODWFXFbBHe898+RSSli/vRED3ZOIzaRgt0s4/vYQ6lrLoWsa3nyxG6lEFh6/Ext3Np0xD03T0ba5HoBhmomMzUKUBAy+M47Gjmq0b24AwAFfYt9vTZilDh2YnZtF186Nq12SVcOp3klwHNDYUoEMQzJ3OVFdF0QikUH/yUlkMzLWbaSp7BbOE/qlTPlZXrhKgFgWjxlmlNAF8AFWEuXVfmSSOcRmUujvnsCma1pw5PUBnD4VWUizZVfLGUl7kbE59B4Yxtqrm+Erc+PN544DAOrWVMDlcaCutXAQBmvCLHHo8SlMR6ZR21y32kVZFUTCMYwOR7Gmc+V2e2s6a5BMZjE6EkVdYwj+C3RjWYrTA5OYGJnG/NQhzvsbc5xBzOK4BbstN/8/+rz4g77k31xeRJ30TV4aBHjRJsYtSbl0o8cL3JI/LKYFZ/Yy1qFDUTTTb6wYBgsyAvk/LpRGN7ydmXEXrkCUQlzQyFS8JMpxLvDm2fxyTkGoyovyah+yWQXxmRQa2yvPOFlmUjn0HhiG3SkhFc9iYnDR/S4ZyzB95lkoPGEWqFFKTJn1YCIPFjGIiszOMOKTYgasNCRY0dvJIrLesKjqI8tcRCZk5BZwjGgEwuI2SlFSmJubQ1VNCLq66Lvl85ndRpIy/bDpmDn6h4vxtUkSUkpm2zPmlpB6kgSpBaAjYGSJ4qTIaBwA/DbzyjYl04b/mYjRqRubggA0lPnp1fBs0uzTxjHIVuQ4rTCc9e3cooZkdYUfkckYOFmHgxcWiClOu5mIkM7QkVFkggCSzSy+e2QiCjkno7I2AE3VIecJCTzPQxAF6LoOSRIg52RT8+I4wMZzgPF/UFUdvoWIJ/MtWF8gWBjqOBzSipKfZHWjr3LGpKXnf9NUDQ5RXJjQFoQkiO0gBw6STWD2p/nb5qUpFsu9KGahqhpi8QyqKwIUyUcjCDKsvkcSW8hxhzXg0bomhdOwIykVzoesFoEhaMGqOUE4+9jIkaxKgDGAsaJvmNPYiP4pijzq64OYmozBZRfz95i/g53BnA16zO+VzNLktKaQOTJRhOFzOkeIoTQzdrlBIpzhyFAUh/aeQl1jGWw2EYf39iMaScDrd6Cqxodd17Yyo7BEkzI0uw0tHVUYG4nidM8kPH4nquqDmDw9g9lwHPVtlZDEwtOhtcMscaRGTyKTySBQRrMxLzZOnXwBbe23rvhzAcNu2dszhdHRWTSsQuzA+voyDA6Esf8Nw87k8Thw043rziuvybFZqKqK2oYQoAMevxNr1tWb0oiieSKOz9HEIw+xtupsrKfSkMzGcIomMfCEXGaNjw7jRBKE2SGtiJBNdIoFtmgmk8Pw8PSqu1OUCjiOW/Vg2tORBFPMoRSRzcg4+OYg1m2qRyqZxcTYLHwBJzxeO3QN2H71mSOMAMaCStd1uD12bL2uE4LA4+1Xexf+3txVW1Q5Lo3auoIxMx1GeWX5qg8069a+a0WfNzgYNSbLpjK0d6084Ynnedxyy0Zs3tyEq3euQSKRwcGDg+ecz7HDwxg5NYWxwShOHByGSUj1CsJqt99SQykchfp8DiiKhiceO4DcOah+rQYOHRhCZbUPuq5jdDiKW969Adt2tkCWNey+qQPes0Q9yWUVvPDUIUTCcXRsqFtYJKxZXwen244de7pgLyC6Pg9rh1nimD49hFDFlRVVI5dTMDgwjepqL9o7V5cd3NxkEAE8HjtGxwy3nFQqh2QqA7/PBUVX8dJLx5HJ5ODxOKBpOtIZGQ6HhFxWRjarQJQE1DWVYahvCjzPwb3Cwg8WSg+lsGa6elcb1nRU4cmfHMQPvvcaHA4J1bV+7Lm5c7WLZoKu6xjME3vKyt3YtacDkiTgly90o72rCgFSapGAKPIQBB7br22D2+vAvMXGF3Tj+jsNhjDDVZSd17kVvZhl0fktnYpxxoVCRuBmrIqIx0sSY+VAiaQXzIYJSrS9iEonNVZlhhmW0xcPt2YiYVTXVwEg3l03G7cTSdpGSB7n2xnC6jbC+Vw9y5vnFMPuYBfpOlWJh/GEY76bITKhE/bSoMdYJb748x4AHK7Z0QSfz2zbiCt0+XJK0nQdYATY1ghbUMhJr0jJY8dEcjHf9evqsP+Nfjz/4mFEo/QxZ2WFB8mUIZnudtuQzcgIBl1QFA2eMg/WrK2DKNlw6sSoYbckdlykfd5hpwcBByHMLav0IahDNLeLpiDtOnNszCz9lZqjhRW6Gs3sYBZbQNPM349npEpoRp3m8v/tnqaPmmtc5nf3Ouh4hJxG2PaIDStzx0YdNxbmTjBB0TSK4GkwslkqSkCRos4ASsgAxY2VEtGe7DZzPmp+hqip8uHjn9iNE8fHMT2TQvfxcczOpFBXH0T7hlqIhF2PFPNIMGjrfRkzd8LPkMsMEL+57fTYtNSGuuemTsTjaWza0gCe5zA7k0I6ncPWbfWmfjudoLkJyZwCRVahijxSskpOIwAAl624ExBrh1nC0HUdMzMz6NjWsdpFWVEkUzkIAoccazWxSvB5nWhuDGFweBqiyOOG3a3I5RSkMio8LptJUJxcxmUFY3Bo6ahGdCrGVNaxcKVBL4ljWcAQMdi8pQHJrILm1nIcOTiCnu5xvHN0FLtu6EBdU2i1i4iOjiqoSxhagwMRNDSUFRVBKzaTgt1pW2SkXwCsCbOEoefSiM7Moq65OIP05YK6Gj8GhqL47+eOw+2y4a53bYLjAuPhLQfa26vR2LC4Y7PZRITOMeJJqQySFiywUFXtx213Gm38x4+8ibde70dNXRA8g/W7uuCKOh1QFBU9bw+jbePyuOWVWi1YWApFxuzsDKquMJWf7Vsbcf/dm1BX40cylcPJ/nDhm1YIosgviNCfDyg3rCsE1kBjRinYMAth1w2d0HUdj//Hfhw7OLTaxVnA8FAUx4+NIlh2dtulnFNw6PUB+EJuVNQuj5fB6i/bLZwRSiaJ2dlZVNacm47scoLjWf5sFx88z8PpMmyl67suI4m6K3O+tECh9GfMYMiNu9+/A8cODqP72Bh63hlHeZUXe27tWjXWs67reOuNQVyzuw2tbRXM+KXzCI/HMB1OYNe7Nizb889xwjxL6Oz5K9aAQP5W2GZ+BnED4gcGkYS8S2HYi8itPOtZdMw7RhriWiNejGc4QVPqKIy6sOeFC2YmhuByueF0iiBpFzOZwtERSGEHViNPEnRyF2HUP3X8Z2jtMlxKAjaDjKEwPmAqZyYdOTnzs+0ummQj8ETz483vkEjkIIo8PEtEGrQU/Z5Bh5lAwHJeTqfNztNzDBFwgVgZ8BpNKiOjufjL6ffSCEfHyBIigiSKUHIqBIKElFPICB5UtkgmzYSGiE6TdYI+s9O4y0OvwlsqzX6tszN00HGecHRXGKISikySjhjRXfL/zeXrUk0nqTRJmOvLZ6dJP6RgAjVesPwJqb7GiGhCFpmlE1A4CfVbIXGWeUEHgWeTcRauGRFzyJxZYhJkYGxyLGC9g9tu/uaqpgEQsPOaFmzZ1oDTw1G8/uopPP/0MdxwhyEaX+ZmEOyIqDU5hpCIizCxuBhuHWkiwgoPDeHJOBRFRXNzGXRNYxCgFv9dXR9E95FRKFkZDvtiP1UY/dpVZHgz66SkhBEe7kdZVc1qF2MBzZ13rOjzwlNxbFh/GUoCWrvMKx7FkFVKCTabiNY1lbj+9nWIzaZwejBS+KaLBI7jiqs/DnA4JaST9GLvfGFNmCWM4Z53UN3cutrFWFVUVfoKJ7qEwC0VdbVg4RKD1+8Cx61emDabTUA6VdwE2N9tuE+VVZ4bMe9ssGyYJQo5GceB/a/jI1/869UuyurislzSWTPmlYxEIov+/gh0XceRI6Omvy09YtTyR46CyEPT9DMeTBg7LuKaOpJltznzMbH5bxmZNn+kcyp0HRgfiaKxiOgey4039g9iy9biIgjJOQW+gGtZ5f8KT5ikAjT55/Nw3meBElNmRVAnrlk2wqKeRd3HMBxT0eMZ707aVQjDE4v2TNoobBL9DpWuGF559ik4XC5cfVULnAJtY3IQZ+7RDC1c4CCydjJiSerEe7K0ns0JAIFhVwkSwaolu9m2kUrT5ZMJQXa7k7aHKDkd2czi89yMd2gImsUNwjMxKo1bNJfZxXCmVgm/T4eNXpnanObnK6Dt6GTTnVoSuDsry5AVFbJmtv9JRKe2O2h9V50Qg/A4aVsfafxUGaL8asa8Qg96aOFrhXiWptB2H7L/seyIUr498fmGtaYySKWhhhUGN4EUKdeZUgpEvlS2dPnI31hcALJ8LDEBEqy+P3+M+NxzxxEOJ8DzHF57beCseei6fh4Em6VxY5b+xsK5HQ3PiyTEZlPgOB2pHC2eQdplbRL9PYMus81SYwXSIGzOiWQWk5MxXH/DmsUkxGtVeBf7te+qBjz+6EGs31xnkr4LMMYZsYhvClg7zJLE3Ngkfv7Mz3DH+++/5GwdFs6OK/VrWlKyi9iypR7PP9+NXbtasG1bI/FXIlwbY2dYFAmJIxfv5smnMH3TTKCZx+loCu+8PYz+3jDeOTiMzs1k+S8eDr09gvXra+EsMpao3S6hsakM/b1hrN1k+WFethjtPYWh4WHc8O6VJdlYWAFcqTOmNdQsYF5acWCAPjm6FLB2Sz0CITf6e8LsneFFwuRkDPUN9AnF2bB5awMGToYRn6PD8J0PrFZcgnjl+f/BtbfcBIdr+QIXXwgGu59b7SJYsHDZYMeORgSDLoyN0W5BlwIURcPsdBJdm2pX1B/TZhMxO0vrOJ8NHq8dHetrcOzgyLKUwTqSLTHIsQgOvPkmvvSv/7TaRWFClmWItgvXZCwWl4IiioViYHzIh//zjbOm4oCi9QPn0xrE4wINZemfqey5MyRko6rKhzvvXH/eik88z5/zwF+KqKlf2Ti1kiRg7jx2ii3tleg+OoZsRi46jNeZcMETJhUhnJmKjEZbMEVRz2I+7DwGWI5jCCCQEdQFxiShEwQBwm4gM0QTSGUKJ9HpDj39XdQ11qOtpQKA0alSaUZUFs1M3PAxtFZVwgghM4gbabLMjBMW3xIl//aN78HJY/9NpREk843xlLlhp2O0w3oZocMqOWjbRDanILmERq4xvoPLbRYPqKuk82AYV/UAACAASURBVOFE4luwTpKIb84KhqMTK+pEmqa4q0QUEf+S8kmiiBwvQ7KZyxgSzN/KLtGNuz9BkJI0RrR7r5m5mM3SaWwEcUpikDJkojJYwaFtBFGCFvtYdBLX8kSxnTtasehZM//OnClMKMebF0o6dKJfG9e6pkPTdSMtZxAH5/utrgMcQU7jBSNjHTo4cEa+lCDC2SfreDyD48fH8a1vvYrycg82bKxDR0cVXn6pG8lkDg6nBEVWkc0q0HUdwaAbN+fDZc0TZtLpHHQdeef7AmMjozw8McixFpUU6agIDhBFqmQQYYJuG+C2QZR4HHljEO+5dzOVxiYWJj+SWWeVwgN3R2clenvCpm9EfmMWnHYR/oATmWQWXo8dImMMUdTijpatHWaJ4cCrL+H2e25f7WKUDqwd5mWFtZ20EAfpAkFeA6D1GYsi5xOKXiwxIIJ9WwwDdvd1a9DbO4mjR0fx8ks92PtqH3I5FWUhNxKJLHjeEAa32UR0d0+gt3cSbrcNNbV+XHVVMx778dsAgHfl1XIuRWzcXI+Dbw0jOp1EWYhmdF8M1NUHsfeXpzA6Oou6unPThpVsghFW7wJhTZglhkBdK04e7sGNd90Gu4vhNnCl4XIjyVhnzJcFOjqq0NFRhZmZJE4cn0B7RyWqqhYj2XD5yTqXU3D06Ch6esI41RdBb89iIIGJiTnU158biaVUsH5jLXpOTOCnTxyCJAnweO249Y51cLkv3phlt4uQJAGO8zhWVRVtWQIfWBNmieHa938SD3/hE4hHZmFvvLKilFwJ0HT6GNDCpYtg0I1rd7edkfxis4nYvr0J27c3ISereObpIxgfN/yEn3zqCD71yesvKPrNaoHnebzvgzuQTGYx2B/B0UOn8eRjB9HcWm7s0nV9wR10ftduCCoAAs9DFHhwPGf4bHIcNB0QBB469IVjal033GF03Th14AGk0zLKCkQpIaHrOmKzafiDtO7zuaLghGnq26TNDiz7H2MFTVCPdaYoeeFjGXKFUJwJk5FPUULvpLg5bdAqJOLOOrsnHdQV3Vx/1Ws2w+1x4+DRHuysMKJ0BEX6fF0k8vHa6VVXgrAj+hkOuwLx/eJZ2iYXIwybGuO8XyPyUXJmsXOPhxYBUAi7BZ+j69jG83AseVdeoL+VTIg0s4Teye8nM75nligzzyCR54g0skpb93LEZ7cvsZnwOsCDg5ewG2qEndplo+2w7SHzMRTLPplKJEzXCktwnOglWYbhWiBs7aksLTyRJMYDP4PVPS8wMO9+oLGiSxCPZ31jsp1qKCwmXpTdjmgGGs+wZRH9mjXB8TxpV6QfZpN43HffFrz0Ug+687JtP3vuOG6/Y91CGokIcsyy0ZGeHCRXwbjR/JtI1GkxazaWy4iH4ErYJR5l2xqQy8g4emQMJ3uM42fT+L3UHp0XYzCy1hcOXPS8LXppuRZt0/ks8mlj8Qw8HmMsI+2lLL/V2FwW4DjYnXZoOkeJugN0/ZwJ1g6zBHH1Nbvw82eexc6b96x2UVYdK+nntVKwNphXNm6+uRM339yJhx56FTmZwSy7BHHNta0IBt14be8piJKA+963beFv5CQLAIpKbjboPONp84Iwncrhp08cgpOh0nU29PVMoKm1fFlEYC69s4ArAFt37cRwXz8mTo8WTrxCePvQk6tdBAsWLiu0tZVjbHTuslkUdq6twlU7mzA3m8bzz76DmRmaGX8hMCT3OOQYJ1FnwujpGZweiqJzfe2ylMGaMEsQgdoabNmyGS8++dPVLgoTnZvfs9pFsGDhkse6/CD+/HMnVrkky4cNm+qwa3crZmdTeOonh5Z1MeB02dC1rhovv9BTFON1JprEKy+fxK49HRfsfzkP60i2BOGuKMOed92Bv/0/f4FrN23FEGnPnT/cx6KtZMH/bCENne/iiQTHsOMCZ7AEMfGfT+1fTJ3PjHT/ns+SMucwCsnijmqajlde6wXPn1zMn3hRVdPA82eOjzdv/1isJ84cYosDVNUgFiz1R9TzRpOFsuts5/gCsQmodLqun/ORkoXLE5WVXlRUejE8HMUzTx/FXe/ZuNpFWhZ0rq1Be2cVfvDdfZgYn4Ovbfmimmze2oDJiRiGB6fR1l55xnS6rmPfawPYtr0R5asW3ovh4E8OdcWw5lmDG00yYzi7FhENhMy6mPKwkpBCBTqL9ENdFz6X14gCqQwCTcpehZpdd0KWvwRHUydqPPEFgzgHgBcFyPko5oIoAOAQsPP5Z3IAz0HkOXicTugwJh5N0xZWe6qmQVN16Jq2SELSjUgq2pJo5PPPVBT6ZXfv7DTqP/+7nMsZhvv832VVNSYZ3fB/E0R+wbF8/vsLAm+qpHmHbA4Gmy6XU+HxOMBxBklf13Ro+Wl5nlSgqpoRYWLJhJTLyZSyi00QwXEcVEWFrGoQ85OjrusYn5zFyGgUHW0GK3l+Aubzju0CD4DjwXOGSMJ8AFuOM8gnXL6uFEUFxwNZLf9a+VcTdX6hvMePn4aq6qh0mQlYCkk2YbAubZx5orUJ9KqZjCBiZ4gSkJGAdAbBTiMabxmDFJEm7G+SxChP/r75tieyIuaQwuCMTYlK7lQIUgtTTJz072R0SJJ/yBwuqD5L724onQAWsZH8iQPuuXcTvvedfRgbm4Oma9B1cyKmS2qBawC0cjrpb8okOhLvychYJG6TGO1C14FU1qgjv98JtYhxmkVcshOEHlXVIXAc2tsrcbI3jDVrKkEOn6rOQdM0HH57BNmsgtbOasq3VmJUarEhwKwdZolCnolAkiRokgOhGnrQy+bMLaXMQ+9avE6CLcrofGS4LJWhBiQzZF5aGs2rOyVrZo9miJtIB3FgfrJfBM/oWF6f2SlaZ6h0pJJmNnCGob4jEHHLRPvie9tsAkZGo2hvI9x4qBBvgM9vXq1qjNBwSWJwF7XFzth/KoxUKkveYuEKBc/zeO/dm/DkE4dw9OgYtm9duegfFwsT43P476ePwWYX4fdfuCsHifqGIPa/PoCR4SgamkMLvyuKihMnJnBg/yAAo1//5JE3jT8WeRJUCNaEWaKQguWwO52YPXkEaF672sW5rMFxfFEKLxYsXAyk8/FJfT7a7etSxOv7BuBy2fD+B7dflPwdDgnl5R68+EI3GpvKEAi6MBWOY3o6ifIKDzrWVpvMKwvWprz+Ig/OtJumAm6f5VjSmjBLFBzHwe72IhUJQ862Q7Jbn+pigTwStGBhJREMGv6rP3+pF20t5SsaAWS5oGkaXnyxFxMTccRjGWzb0XBR30MUebjdNoTKPZBlFY1NZbh+T3tR6mgreCR7dtIDwD67J+0xLNsj6XDKtP8RdkSeKYhOFahgEjJCOLAobTUP1jm8TpCMi/HzIQXZeZF+h5xmrDQlhwu6w4eZaALecvNRIE8M8jmGwaF3dNJ0LTGijLRWhUzXTonR4BT6TDZDiCLksuZv4/SanextpPg5AI0jxCEYx8E5gg2XTdIO9HLafMRpZ4g48Ly5qedyi8e2av4ZoVCTKY3XR8uWJef6Tdcc4/sliTIu7Yvztk2b22NKY3OZ246aYggiaOb6IW2RRiJzfUmMQStOHCOzCIfj0VnTdUcZQ8KN6BMZhriBJJpNBXJOpQZSqtewuhHFUis8XpBDES8wxp0iSA4sex+dTxHkCWKMm8834HOittaPsbE5PP74ITzwwNbFbBiVUYyTvUyMB1mZfDaLI2K+tjEmEXmJ0fCJnxzCzExqgbEqijxq6wK4/fa1qKlZlAlkiQlkiXGQ9U4i0bdsS7o1z3NwOiXs2GHus0xbNnHNOk0qls1rbVtKGDaHE5lUnEmUWA0cPfI0Nm66/FxKVlLd9UpVkp0fkC7F3dNK4O67N+Ff/uWXCIfj0DSt5OtpbHQW4XAcW7c1oG1NBRx2CW6PsdiWVkDqT9f1ZREiOFeU9le5wiFJNuSScTg8pWfbWLfjntUuwvJhhWcxy1pqgQV73uwyPb28Dv8XA93dEwCAqmofQiHPwmS5klgNxSxrwixhZOOzEJ0edrgjCxYuIVwmYjYXFbfe2gUAiMXOPUjySuPGmzpQVeXFc8++s2pKRasR+Kc0zvosUMimkxgfGUJ93fJIOlk4M7QV3GIKAoeZ2RQe+vbPiL8Qsg8sofCLWbAC2M/yByTpAihcxu/+4JcXXBZR5PHrH951wfmUGubtfuFwAm1tZ3bKLwXwPI9bb+/Cwz98E6pa+kfIy4WCEyaTWLAU1L6YER2B/InpQExE+mAdXBGGapIEBAC8QLwS26vXnISRRiack4sRSSAzIsUPAMBG+h6KNEGl2p3AocP70NjSglBNNTxOOo2cMZcvlkxQabxe8zGJ30sTN8jnp9O0jyDPiIoBmKNleHxlpr+57OZnpzJz1P0cYesgI1IAdGQUkdExJa+ZQEMKOwOAShBmwC15b10ABw6hylbzPWqKyidLkGpY4gFkm0svaShbdrajpSOJVJZbnKh1IB6LG8XKCztwem7xOp+l3+UwIvZwwMG3hxDwubCua8mCSgfcSyLS8Nz/a+87w+O4znPfqduxi94JEABBkCAJNlGkSFMUJUuiRElUty3LtlxjOzdxkie+SVxkWy5xublxnNx7ncQlbnJULMmSZRWrUIUUey9gAYjey2Kxfcr9sQtg55wD7BJE2QXnfR6VHZw5c+bMzCnf937vx0G20n3aG0ow+XHASHCij8fe82yLNZaFXouJUQzHY1snNKY4SKrRdFiU4wYPDrzIjRNaOAjGuhlkE0EUDJmIuIR0UBO+qlgbe3p9ePvd81RGE5YNhhQ70BnjjpBCQD9ZeSo7GxbRhfS5keQTWRYgijw6OoYTRFDo950M8qdEHRhlyM8mrNDtE4n2hMlULgkIBCL43ZOHYbNJsBOycwoxdkYY2XBEYmycTADBgIQiY31pkQhxA2bmFmPdrGcjMwQ+WDB3mGmKY3vfxaLSUuRU1wDom+/mLGiwJO9mC7zAIzvXBSlMMEUF46DCa/RA6UpIW8bzPCRJhDvLmFKLFKtgTZijonEgjHA0TdZFpOpS/fRCykLQa/NznVQZjjMOMTojRaAgGsvwDHbmWJorv58WpVgoCIUiUBQNeXl0P6YbDh9oga7p+OjHN853U+YU5oSZhtB1HcfefQcPfe7zkO0OmBOmCROJWJg+fZ7nIQg8Ght7kF/ggsUiQBQECEJMilEQYgIbscTLfGx3zHFQVHU8n6Su6VA1DZFITApT0xFn3XIxaUkttgOMRGL/CAIPTdOgKDFrgqpqUDUdmqpDUVUoigZR4HHtpipYrCIaz3Tj5PEO+HxhlJZ7MjL59ZXAnDDTEB1nT2NocBAN12+f76ZcFdA0PePGYDLZronMhyyLeODBtXj8Nwfx1u7z4+biCeF+YMzeP5VZODHJwlgCZhgOcXGN6NhEKor8hD4yz4GPuwV4ngMv8PAOB9F0sQ87dq7EnncuIr/Ahdq6QtSvnD9+xXz585NOmJI0dREy2JyVUZ0yRTPEDVSW0i9ZD/GWaAytT543mmxY4uakL4E98JCOC0YJwuZP+iwljtZ3JX2sLP/Did27UVVXh2AkAkQicNsZJjOH0fTGq/RNVBYb/Yr9fvomWrp7Db89DKWMbH7i2C9/9i94+JG/AADICSIHSsgYtD5E+FRFGyOJLJEglgxUBgBOIzRgRboejXCSs95Bjggsl/iJvuC5mMc84O83lLEw1JU4Qn16ZIQOAdBh/CZCLDMk4SsuJiKHrKJR+AEAsrImgsFF/iJEUYDdZjyRJ8QpWAEKFkuW4bcUGKTKDAeM/ttBHy1KkC0an5+TMA8DQDhsvHeO4acWeOMxRWX7zAFAH+MfEK8yy3VFCtEzR1myHlYh4hNlBscnHy4ogRTWpJftsSMvz4H+fj8+9anNTHEWUmyB9KuzQLYvwhgX7US8dyhuco9EFDz124N48fkTAICldYXjqckCjNyU5JBmYwimkKMVi3dAlkkUjxnzQ5LnSYwxhBwfWFEHqZKWrq79dIago7sLudkMZZU0Q/2GO+a7CVc15iNwe77BpcTFzWzs2tUAAPjpT/didJReqMw1ZFnEAx9aDyDGUK6oyE1yxuxD0/R50X82J8w0xPtu34kjBw7gnaefNHVO5wIZOv5maLOvCHoCT3ehQpZFbNhQgWhUxZNPHJ63OEcjYlPF3fetmReRAhL6PPkkzAkzDVGxfAX+x7e/i6d/8XO8+fOfIBKa3EQ112CF12Q8Fv4YvMAwkd91sn9mA3N1HQBYv74Cd9yxEsFgFG+8fm7WrpM6YvfK0mmeD8TCjeb+uibpJ02xuH4FvvD9f8IPv/g3sMgC7v7ozZDSQlN2AU6YJjIGiqJB14Gf/HzPfDdlztDY2AOfL4RbdyxHMBCFy22dc6EAURQhSQLe2X0eN++on9Nrs6DrbBH12UbSETgUnHD+s1ZUlMAAg9BDBgOz4t7InUsqPBzWBpl0/vOMwHKOanMqF2OILVC3TmYIp/srQJA9yKwoANAWjal88KUFeOAr/44nHvs0BNmCbQ/eAyFOwqqwGkk1w6OMXahuPGYRGVkDiEMBxqLZ7ZhwpKskcSGecSQSMpKtsvPyDL81xnOIRozEEotM9zGZ+UNjBL4rRJtZmXrI7A2JAc5K/N3r7TRmIsn2uEGCDFm0sEhIxHvJR2lihEAESlslI2Emz23sPwBQ+YQb5Tio0BEiGCkkYWZwlI5bHBo2UoFYpAzBbkzcLYv0i0ES7ESONtUpHPG+MzNFJCetjH3rkiiC4zh88mPvI/48ubDI+LjFzDikE7+JanmeGi+Y41cqC8l4g8aawxrwKZ6SpuHixX68+cY5/PQnewEAbrcVH/jQhvEyLLFzZgB/AlgCDRHiQyJJSoVFLrS2DiIQjI6Hk7CuYiXebVZbyEfByhpDXt8gOBAntnsJ4qDDQr+nAnGvLGJQREnlHTRNsmmP0rrV+OvvfB2P/+JX6DzflPyEWcZCNMlm6j1dlVbkadjheJ6f9j+zcQ1RTP0fSRJRV1eET35qC67ftgQA4PWGEApNrsIzW1i7bhF0XcehA5fm/NrpAnPCzADUrV6FssWVaDx4dL6bMj+Kx3OCq3L6yTjEmMEL9R2cHDwPHD/WAQAoLXVDlud+6M7Nd2FpXRHOnOrCm6+dnfPrJyKqqAiF537RYE6YGYLy6sXoaG2d72ZAB/CD7z82382YBVx9g3Am4iqMpAEAdHePYGgogGXLirDzzoZ5EzvfuLkaN9y4FJeaB/DsU4fnpQ1AzJydqv7rTCKpD1PVJx4MS3CAFgFgiegmz46eNAs7WILsrGBX0rHIElOexlfHDO8gbeyED4ARdEy2j+W/IQPmA5oN2bmFaDl3DgEtJljAcSOGMnYr7T8KEaLHuVk2qsxi3djvvUN0aqHhBFGCMKEfuuKau3Dgvadgl4w+SjKjezhAh9ArhI81FKb7WBJIYWeGP5ByJjPeQeK3P5BwTxEFuk77XoYGaMH4nFxjH4YUWmNVJPylQe8IVabEZRQPCESMfdHa30GdoyWY4RRFAafr4In+8BI+y+EI7duWrMb3S3bQcXV+r/F5eRiO4QBvFE3oH6WfsY04TWOIfpMJHkhhdQDgxnyU8bGE/G6mSUMACEELll+R9E9SYwxYhpfk4uusJRqZbGCsTEFRFkpK3Thzphuj/ghuvnWCeMNyKZDfHzm+RhlCJypRj50xIflDCkoX5eCOexrwwjPH8Pgv92HDdYtRWj4hkkImSCCFA1IG4ftMbJ4aVyki/ZztjPErSIgr1BS6qDIsXz8L5g4zQ1BUWoKeTnoQnWvMV6bz2UZG3tGCNY9Pjqs5N+xtO1fC7bahrXUQPoby0lzC7bbj3g+sR06uA++8cR7v7p670JehIT+GhgLIzqaVpWYb5oSZIVjcsAY9nZ1QIws3W8N8IWOnnQW4cEkGZvqtqwh37FoJUeLx5G8P4De/eg+d7UPz1harVcL1N9Xhfdtr0d4yBP8obW2ZDXS0DQMA1qwtn5PrJcKcMDME7sIiyFYr2o4dmdd2jOUoXFBYaPezgMFz3FX9uKxWGR986FpUVecjGIji3Lme+W4SSsqywXEczp3tnpPrdXXFXCViOvowDetvpn+Syg7NqCN5BlYyDodl9iMTRvM83WE6GafHdD3OzCqVjLskVx/suFVSQJ7h6wgbzS3deiwmLr+4HI3HTsNatx0FhCh+kZ2+VpBgkbkdtL80124UiI+wfBsJ4s52pw193cPGAoIAgfBhjviMvgSZkSibtK6FGYmqVcnYP5EAnSjb6TD6A1ni6wqRQNqaIAIhijzAASpxnmxlxPAS9znspf2cpCC0R6D9yxKM/V7kMOZA9AdpX4zqmbg2x1+ACo6Km7US4hYFDGWWXsKc5x8epspECUtGrov2f0cDxjZ2ddKDd1m+MQEA2ccAICZJ8ABM+DnHYvpS8ysmTzJNX4fhY50GLYJjjE20f5QVz0lwHBhttFlF3HhTHbo6h+FwyFQSbAAQiLGJDDNkja8hwtc3xNgxkvWOJX6WZAH+0QheffEkQoEoSso8aGgohyvLSiWvjrfA8IuVhII0v4/13/tvWYaf/scevPFaI3besdJQps9HX8lGfBMDPtpK52eMPSyYO8wMwuYdu/Di04+j+/T8sdOW1JejsrJg3q4/G2ANtmmPeVI6mW+YA1Yi0uf519UXo6N1EMODARQVZ6GjbQhPP3kIx4+2zfi1eJ6Hy2XB8HAgeeFpIDJFjGs6aK2ZSBFLb7oPO4JB/NdjX0D5t7+EZeuWzUs7li83+g66u4fhKi+cl7bMBDLRxKxpGgSWpNFCR/rMEfMOXdfTxqdbu7wYZRW5kCUeHpcN5xp7sOedC8yUfTOBnFwHOtppy8h08ParpzEyEoIkCRAEHj4vbd0Zw1X4xWU2Vt/xMLbe9wi+9+j3cPHkxXlrx4EDz4z//6FDF/HH14+mSVaFy4euZ94uU9evTsboQmRoTxe6roNPo0WT3SFDjJs/R7xB8DyH5StmPsn06ZOdaLk0iMrFM5NmbKBvFFkeG3ieg6br2Hjj0knLpk9vm0gZm+59BDfcdgO++9Xv4uyBs4imaH+fLfzgB9/EiC+AZ/94AANDDCeCCRMmZhwxAfL5bgUNTdNw5nQXSkrpJOhXCu9wAPv3XUJ+vhPbtk8+saUCTdPQ0TIAALC7rNj0/mW47v3L4PJMHq6S1CSrJzjpaeEAUCYSluZvSqtCMqiXEexKi7gzoE8e7Dp+qeStoc5jmT5IU14qwgoqI7M4CY0Q0A4rVqrM6g8+ivahb+Lf/uUneOgjH0XhnWsgEOYPcscXVOivy2k1ttmj0K9ET8jo/LeKRsLK6Chw8/a1OHjkPF7dfQKViwqwbmWl8dpBRjgM0RVZVvo+I6rx2oJMk0940Uiq4XSarGCxGPtGT9idSXKM9BOMGk0xToF+ViMB47EAI/WayBOZ6xnCzh5idxgi+9hmFD8HgGElcTGig9d08ETdutPYh1kWI5kIAKKaUWBAZOxSevqMBJ4hBtnKQYhl5NppcpNIiu4zPkjyq2EKF4z9d+x/UjCjU0IBLIIdKZjCEHEn31MWUY86whAkEQmRdOawSJKHGM1REsQNNI09ng37jd9b94iR6CUyrBPZduO7w3H0WBAgEglEg/Q43X6mBZqm4bpttQgpGlxWRoIC4vlJjHeQJDOpqoZXXz4DVdWxbXsteI6jxFlYYy4ptuKM74L37WlC26VB5Be6sGljNfV8WEjD9YmJVMBxHG7/7JfgKa/BU7/5Jd566dC8+uJEkcfGa5Zi1YpKtLT14Y+vH0UgMDdxWVeMDDXzpZQhY4EhQx/VVYWm871Yvb5yRuX7uru8+OlP9mB4OIgdt9cjO5teUKaKni4vXvzdEbRdGsSKNeW4/v3LU5osAXPCzGjwPI97//qb4Bw5+O1vnoB3aGIXoCgqutr7MTJMy5XNJspL87B960oIgoCX3jyGi5fmP05sIUKSBAQCV5+IRab5mq9GSLKAc2e6oCgzJ46+Z08TNFXHjTctRVlZdsrnnT/ZiTeeOYYzh2NsXU3TsOfNRoAD6hvKUFd/eT5Wc8LMcAiihAf/4X/B6/Xi77/wdQwNxuICzx5rxrH9F7Dn9RMY6qe1TGcTVquMm69fidrqYhw91YLde09DIZNWphMykCUrSSKi0dRy+JlYmIiRftJvAfH+21dCiap4+vGDODlDYSVDgwGIIo/FVXSe2ERomoaAP2bZ6m4bRNOZmJhCd8sg2i70YbjPD1XVcetdDVi2svSy25HUh2kMwGVLoht+MXyPpKkwla16KiLubIdp0qrp8ZHp6EzuLyX9C2SAM9NfSYoiMwTtdWIdw+m0nyyqTvgR+WgUDz/8MF5/ew8+eNen8eAXvo4STFCuFSkHfs0Bkad3JFHCB+ax0x0YDhtfE+8IXU+ETOKsqVi6pARFBR7sOXAOL7x5BGtWVCDHPWFKcTmN/jVWElmnxeiADzKkAVXC98joUgBGX1pEmahHift6RSKRssjwqQ6OGBcfFpHur0DQuKt3MZJnDw0YJc1y8o0DQVeonzonsTW6rkGSZGS5jf3T6jeawVt76HoiYWMZVaN3AksLjL5ih5U2gTX3Gu8hz0GTJXid6FOR4eekUlUxhE2INpIMYRZjmIxTZXEwUhkKyFKpTFEsPyedSJk5qhh+iYwJMZFPwYGjkqMDQIRYS2U7jO8yi9A+SgidsIbXgdHkGra8TcamW+tx5lArTh5rx8lj7Vi1vgJL6ooS6k7uwxwTRdA0DYqioaDAhXPne9Hd6cX5c73IznFAFHlseV8N3B4b9r7bhAsX+qBEVRSWedDb4YUg8th6cz0O7bmICyc6AQAutw1RzdgJpC97MphxmAsBzjw4Nj+InZvuQ+UL/4Vff+8fsGnTRmzevBkcx8Fqpwf+uYLbbcct21fhvQMXcPB4M8qLc7Cs9/BLRAAAIABJREFUZuap5leCTA1VyMT40SvF1RhKMxl0pCdLFohtiuqvqUR2vhNnj7Th+MEWnDvViS3b6+C+TNH0zni8ZW+vD729E8Q3XdcRDETwu6eOwGIREQ4rKCrPhigKaG+OLRQX1xbBmWXF9bfWQ4kqGBzwo6DIPe37MifMBQSOF7Dyzo+jbMPN+OGf7UJ9fT2ys7Nx9uBxLLumYcav99b+32HrhnuSluN5HmvrK9DVO4yT59rRP+TDNasWw0UTOOcFV+PEk6m4GtWNJoWuz1tezFRRUpmHpUuLEPSH8ebLp/GnP5xAfUMZai8jPvN8XKNWFHnc/4F1uHC+DzwPrFxVBl0HOjuG8cZrjahZUoCa1TFRlaIyD0RJhCd3wjIiSuIVTZaAOWEuSGTlFUJVVbhcsbxvI4PD6G3rQm1B/ry2q7jAg2yPAwePNeOt/eewpn4xqhbNv0KQrukZyr7MyEZfETLVGjBbyITuEEUeLrcNt+xqwNt/OoNTx9pRWVMAmRFuQsLnC6Gzw4st25agbmlsrGhYXWYoU1LqwUMfuRYA0BHPh5l3hRPjZEjv5YmJaSESCoLneViddmQX5CIajqCnrXNWr7l5866UylllCVuuqUVpoQdHTjXj3UON864QFNtgZsDIQyATBksTswmO6WdMV8iyiOqlMT9mmJHYnEQkrKDt0iAA4MjB1lltW6pILlyQaK5ifKBktnRm9u8UVPrJlSMzOJiqm6FwTzA+WLFq1G1Md+QhhQuIvuAYjmySFs9qH1mPptF6jKJmfOFG1YRHKWdj3U278NR/P4m//+H3kR2ITaC9g3RmDStBdCnIof0LxTlGAkg4QtcDAL6EwHpON6p8hCNGskxNZT6K8lw4cqYdL7x+COvqFyHfQ2dC513G9iga/aFxBNtKU+g+jaokoWGiHk1VoOs6ogTpYSBMa1UqUSPpwU6IOABAvsVIkIkwxA3cHiM1XiTuIYshIJHlnlg18xDAgwOIqsWwUZCaU2nBAfBGRohooft9NGLsw5Ic2g9uJ7LEdPjo/qoQjPdhsdCknzCRnYdjROuPWR7Jb2McrAB/gkWcCqGHNciRBBWBQfSiBAdYYwpxqTBD0EIUjN8jywSdWA0HQGbotea7jMfCBEt9lPFORonvxhei46j9BGFMYDDshnTjfeU6J76RyqpcHD/UgsN7m7D91hXjxyNEX7z49BFEwgoEgYdkEZFXnIX+UZrwRz1TRrdrRMfbZfrbCkZSC4Exd5gLFJsf/ls0XbyIkwcPw+ZywsJgMM43st0ObF2/BDZZwntHm3GxrW9e2pGJGzUdummevOqhZ9zL293pRTSiwuGcWDj19Xhx6XwvlPik2dEyiEhYwdotNdi+qwHb72xA3epF89VkA8wJc4HCYndgx87b8dP//SMo0ZkLIJ5piCKPDQ2VqCrPw+mLXdhz9OK8m2hNmMgE6Mg8IYe8Alc8CX3s9/kzXdj96lkcPdCCF544jLdfPYNoRAHHcejr8qYdqckk/Sxg3PbhD+DAe/vwu5/8HPd/5hPz3ZwpUVWeh9ICD/Yea8Ire85gU8NiuF1zsyvW9ZgLoKmlz5COiGXBi0YTTVk6JF6kSoowmsOUqDph9td1aLoOuyUAHTo0LfbbabcaBr9wJGB0Feg6bMPBcRN+MBSBpmtobuk1XGs4IQZUBxAM02a1KGEy4wQNvMiDF/iY3irHTWSz12OuEJnhcur3xk2pXMwVoigJ1453iRwWoes6dC3WclEQoOnxHtN16DqgapHxLlRUFaLIgQMPQeTH9UR5LmbmDMXN5u3tQ+P3qOvx3baux8xvWuy4psXq1xG7vqbRDhAuvlMf+0dRtNg1uYnJSCdsoLwQ+0vCIx3f6U1JuOYm/s5xQDRBE5aL34tAWA0EhmSbFk/rpSpaxjG8ZVnEmmsqcHj/JTzVsg8AULeiGHWrytDZNoSzJzpw9EALALam8HzjsiZMlv+AfGAsMxG9CmL4CbTk9dD1JgefQrByKgHEk0i9G0sQfih2fxmPCSId1E6ClY2cTFDCgd5FNiqLcOPnHsOvH/00FpVV4axdgifPg/qNK8dXbjmy0S8QDNDXshAC7RX57CwEJYUTvrD+AWN7FJURmEx0sd1iwQ3rl+LgqRa8degCahcVYFWdMfemLNGvLMcRYvAhOrGsqBrvy+2a8L8J3ABUVcOJ0+2G924ymQ6O+J0M5PvPcRPnjQ32RmFw8io0VE1DKBzFvoNXnuJNh3f8+npsvgRJsTg+hWjJVH1wGh0AuClpAol/GxP7EIT4LiSh8sSrvfynMxMB/JPUHfsz43mOC7hjfKbSERdn51hjD8tRpqfwmKauJ+HyCWekOknEFgPBsAJvkF7NhAmr0iiRFFlVGcktCH+pk+HrC8nG8YolOFCRZ4wXy7Iaz1m9qgTNF3oxNBj7Tv2+MLJsFmTVFqGutgi+kRAG+n0Q3FaD0Lw/TL9pJW4jv0IHPZ5GCN+sl5EIwk8qPUwCc4e5wJG/eDlW3ngPXn17H7717b9E08kL6GzqQFlNefKTU8BjX38AX3n0iRmpC4jFbG5YuRjNHX0419KLwZEAtq5fMqumGVmWIEsCPnDPFsNxp0wTXcIEESLAaJY+YiyTl51DlYlyxkEu5DeqFWXbjIQaABhNUCd6+uW9yPY4cPPWNYYyqm4cDDQGMS7EGQcHX4hOmDtIJNHNkWmyzqURI6HIJtID0aI8Y9iQwFACExIG6uf+cAxFhVnYsqnGUIbKFsSnslAnyTCsbCXG3yy1KZJcKDImEtKNwGKvkpuLEEMuUpYIZSTGhBSOLyoe/689kC3JF9zpBp7nsXPXagwMjOLF547D7TFOeq4sK1xZVnQMza0OdipILwOxiVnBlgc+g+bTR9Hc1Ax3rgfh4MxlEfn0pz89Y3UlYnFpPq5rqIZ3NIjn3zyOYR+9azRhwkTm4kJjLDGDzFiAJCISiuLCyQ60nOuB30dL82maFpfPUxAKReAfDcHrDWDUF8LQkB+jvtCMaVmbO8yrABabA9s/8lf4xy99G5/4+CfQsGVN8pOmgVV1u3D87LMzVp/LYcUd21bhrYPn8ae9Z7Cqtgz1Sy5fMDkZ0s9TYsJECsjAF/fC+V50tA+jubl/3Pxen0QEva/Ti5ZzMV/9ueMdV9yGmL86bpWI28Q1XR/3R0zlDjQnzKsEyzffjGPP/hinz57G9vtumu/mpAye57Ftw1KcaerC8XPt6B0cwfXXLJ1REy2fQMbIHGRcg1PCqD+MC019aG0fTPGMyb1+MeKPNr67EAQePJ84IOq4a2cDPO70C7lKBZqq48Deizh6qIX+o64bXKzJ3hZWWQ70gbHvhCqTgCNxE3skrODGHcuRVT7hkti/rxmBgNEd8dtf7qMrYXyTN96zGqFgFLzAged58DyPsuyYOXdsPEg8RVE0iCKPiKJD0zSEglEEAxEMjoSgqiqUqApN1cDxHHSehyAJUBUN0SliMi9LuIBN96cJDcnrTEFwgDmCkdHBSUswQWViT8HfMElFxDnG+1IZfuRUBnryyiziEnltgRHgbCH8Tg98/JP4t+/9I67/4Efgzom9xMWy0Velc7Svisy64nDQwfpjKM6JEX/CitF00u+jn7nNbhyoQgxnfDQau3ZNeRFys1zYc+wCnnvtKG7d0oAsZ+xj8StE9g2FNtu4nEafIC9N+H4kiwwdgKoZH1hbXzdVT47TSHhq7aEVlNy6sX88jBhYlfDBqbKxf0YitAk6KCZ8i5yOcDSKfq9xYinJNfoMA2HaDyQTwgBhFt+BEBOI2mjhX0U1Pq9FuXSeQqdk9LEFQvSzEQi/3aoVJTS5K+H1Hmenjv9rkglB5xAKRRBVNChRFU6nBVL8WhzH4eDhFgwMBQwZXxTW2ER8fzyDMENlKmI4MUk9DVYyI/Iz9gbpwXvs6qIkwGKVUFEVl7zUJ1jAgbBq6LOxUWeMnWxgG8U3WmNtHhsfGe5T6GpC7CcH2OLPKXE4GssycvhQG15/6TQ+/qnNsXYnzB8Vi3NRWOyBrmnjbObEGVvTdfhCMfa0rgE2p4yRkBpzOmuIO4lVdBJ8ASchxIIIMP64BB4WlxV2iRZ64PnU9o7mDvMqQtWqVWhYvRqP/+uP8GdffXS+m3PZyHY7cN8tG/DKu8fx3BsHsWl1LWrKr1yLVtNYiZ/SG5m3I04dq1aUUH4tcpFLLXqZMmRTs1QPH00PubXpIsttg64Dy1aWUX8bIFRx6AgNxoRObIgsjBmT3BTkOGlinMMSm5CamwYwNDSx8PvTK2cRCETB8xw2X7+UOo9Ez4hxMT8Smv94cpP0cxXB5snG3Y98AicP7se7zz6TcTFcACCLInZevxbLqkqx58g5vH3obMpCB6FIFIdOXcJzbxzBU3/Yi9feOQ5F1dDc2gOBtZxOc5hCP1c3PDkO+FPITznXUBQN//3bgxgaCmDN2gk2fl9vjFWdeCzTkHmjhIkrQkF1DT7/tW/g1//xYxx65Y9Mzd5MwPr6Kty0sR4tXf145a0TCKUg5rz7QCPONndBFgUIPIf2rgE8+fy76B0YwfpV1XPQ6plFBq53UsICva0ZR36xG2GGJux848knDsI3EkJNTT5kWcDxY+04ergNiqJClgUsX1E8302cNlLwYU69eiddcmzNYZ08QEFLcp1Y3bR3j1HIeKmURhW6DHlf7FqSKP+yYsOIQ6z2keYmlnABGV6nMwSryX4/r8R8HWLNrbjrCxx+8s9fgsNhw+qtE/GH15bRHyBPBAPrLOfLWNm4L9pDZHj3CqyYM2O9Vgvt64uGjaYlRZvom4K8XOzafi1e3nMEL71+DNs3LUdRfjasEh2bpioa7FYZgsDjputWwJXtQv/ACN7ZfwblJQ4sXVKGQNDo77PabFQ9gmS89/qKCqrMICFyH2UERct2o59TJ/xiGqO/wmribiKWkowMNlcJFR+eIY4dIVQvvMO0aHqO3eizHArTPlWHQIi4C/Rw4gsYz7MxxNephAQaB00zHiMtABrxDvIsCwHxTbBiLHVNhZZANuBYXzr5zTLMvxwxFik6/cxV4voKY7EaJe6LNT6MCYW7sh3QdaCrbwSyxdj3XiJ0jBRbdzOSylOxrqQ/EECpx3ieyFIiUmPvZkvLIFpaBsFxgKJq0FQdS5YWghNEyMS1WOILIUKQPcoYB0nRdo4RlyoRYvkeB/2e9g2nFrZm+jCvUlRdewvu/DM/fvSdb+Fv7DYsX79u2nV1d7yMotJbZrB1qcNqlbHrpvV452AjXn33JFbUlqNhGVuouXZxMVq7BuAPhuHKdiEvNwu7dlw7xy2eGZi7MBOiGGP9DvSMoHgRLY4xX/jAQxsMv33+CJ576jA0VU3LHfHlwDTJXsWouf4efORzn8U/Pfp1NJ1tnJE6v/e9781IPZcDnuexdcMybFxdg1Pn2/DK28cpAgMASHGdWNYuJxNhujBNWKwShvsZKdzSBAN9Pjz1+AFEoypy85zYuj052SedYU6YVzm27tyBuz/wAXznb76IxkOHr7i+737/jzPQqulhSWUxbt+2BsMjATz78gH4/EZChCtuJj53aXaTaZswMVewO60YHaGlDdMFl1piYU+ixOP2uxrSLvvI5SKzW2/iisFxHG5/+EN44JMfx//62mN46aXDGGHIT2UKst1O3HPLetitFjz/2mG0dPaP/43nefAcB2UKH2zGYAHcwmTI8DF1TuHOsSMUSE8z54F9l3D8aDsAYAUj9CUTkQLpJ5nhJ7kIQEp5P8gTmaIExi+JJWFEkoeYOiDEtdjtYR28vCLM/A4k/4lVCdm+FIQeWA5xDUaHuMtFt+jkSIziXXzjn2Ozz4ovfeUH+PRnP4Mtu24fL1Ofa1zBKtGpXxtOF2AhAvOzbDShJyfHbfjNCh4OBIzXFkSarCAR5ITgUD9u3LIch09ewjsHGtFdMYTVy2P36XRY0NrVh2t1mhVrsRpNtXaR7q9Q0EgO8DPIHf0g2szQsSzQ8oz1EpoNHCO1kS2hf3jEAv7tTiMxqWvUmISbV2jiRjhgXBDVuAuoMiBIJK4ovYiKEP2uMQQQ7Fbjc2eJiZOEHVGQKQKRrhtj8MidiqoyAvyJb2JyybOJd5UivjDaxxIl4HlCtIT5PU521QkEo8lJW66E7B+lJR40N3Yjl4iHtBDCD7kO49UZOicUgYe1bklMfzcZFE3HyEgQJ0/EZOy2bq9DaXkOognKDaMEq93HEC2RBOO1GBwkOIh4XRaxi3wUnYM+qozOeH9YMNdyJsaxbtcncdu9u/Dv//fH6O/tS35CmmPtikpcu7oaF1t78dqeM9A0DauXlWPUP3Pi8/OGjJTzMzHTSNf4Ybt9YvFZWp4+hKQrRXr2tol5w90f/iDWr1+PL37s02g9NTNEoPlEeUkO3v++FRgNhPHC68cRiG/lvCOZnv3EpPyYACKRaEq5g03MDMywEhMGWOw2/I/HvoxHdt6D0wcOY1F9ZrPaACDLacPt21bhzX1ncfBETKjaxZD0MpEuMNfxqSIaVdNuwhzo8+HF508AAOwOGcfHJAgTtGujqjau+K7rOsKKlmCjnigYCkSgKioEURiPYx27X47j0CXx4HgOPB8TZJclYTzYfczsrOnxBObxDCUjwUjMVcfFkoaLsgBdVcdFXKay3CSfMDnm/056jBIpSFbppIeSC46zRRVI8YAURNxZAc3UpVO5+6TVMsowhAtSOi8F/wxRT4SRKFiDMYC+dTQmLl5euxLtHZ1oHfWg3GG0+UfDtEnzzOnfY9nyOwEAPf3DGPUbd3C5ebRZxpllFESPhOh67TYHcW3a1xHwE7qZDF+obBFx29bVePZPh2J9pfKUzy0YNdLzNUaXSrKxvxSGmLiVMzpbwg5GEmDR6MOxE8+BFRwvixO+K56LefRF4rk7CMH9kEL3l53oH44hOBBSjc/CzRBxiIhEPVSJ1D5rnfADa4hAI/kKpEADkdmADGAHAIHwc7L8k1SjGM49kiTGcCtSIgSk/w0AIqQ4BcPpGyU4I2GF9q0l3uqQLwpwwIDfWC5K9A85LjNc5Mgh/NZZNvq9IMO1RKKPG890ob9/QgBEVTScP0snMdDH1dbj/2Xk1dB1QFFU6JoOySKOC+dDHxvadPjj5XRdj/2jJdxrwn8m5mJ9/HxNi03S4+If3Pi/JoW5wzTBRFX9alw6uBtqMP2ynl8JSgqycbGtB6FIBFZ58qwrmQDThWlCVbS02WF2tg9h77tN47/vuGcNnC4rAhF6YzMSIhe5DIJdVIWmaXjvjyfhyXdi/XU1VBkHwQRi9UUPkdFkTKls1BvAkbfPYdOtK8GT65uvUNUAMG0fJiZBVcM1aG9vh86iPibB2E4zHbFhVRUcdiueemEfIozVeyYhPYZJE/MJTVEpecT5wisvnQYAZHlsuP+ha+F0Xbnbg+d5cDwP+yy4UJzxtG6+odQ3BeaEaYKJ0sU1GB4exsHXXszIrCZTYef1DQAHvLP/7Hw35cqQJjuLTIWm6ThwqBWRKRIGpzvUeALkdMI11y5masxOF6qiIitndpJ8SxYR/V3e5AXjME2yJpiQLFZ84q/+Dk/97P/h6Gu/w5b3bYLbnYX8ghyUlhShqDgbkiwiElFgs8kAksdnpQt4nseSxcU4e6EDQ95RZLvp5Mhpj4W1hjFgroQLKity0d4xhKeeOYK7dq5CKKIgElVx9kw3Nm+uhsWS/sOjqqaPSVaSBOTkOlBQ5E5eOEUoEQXQAVeOI3nhacDhsmHkMnaYSd8Io6M8eUYMlqFoWt82i4hDkXzoa5FxSUxiEPmCsfhFpI5CCqs4KlY5BfYOK70WGaycSkYT1jdDHouQKd8ByJJxdd3rG7s2h4LN9+PTddfi0Au/wlvvnYR3aAgjQ/0Y9Q7DYrUiy+WCy+VClicbK9etNdQT5Y3kk6hOE45aulsMv0WZJpaER43+B5dErzTtDuOEJ1ppgpFvcMDwe0l5AVraevH7Vw+hfkkp1iyrhMthJCFxEt1f/rCR5DMapO9LshjNR4N+WuuzF8ZVbZZsvK9sZzZ1jkOYIP3oXOy7ihJNJHglzEDzKJFlRInSOywXIYgQ1VjCAEQ2EAbxxmI1+omZxBueCNbneVpCjbhPgSAcWTj6PiktFOIb3r5tGSKRKJ557gieeNooC3mpZQAfenAD7HYZHCHCwbLLkWIGUfJBgBYzYPntwkRmG5VRTzA88SyiUQXggCBBxEsWnhlhDE2DAWMdLNJPIGx8D2yyiOYLfdjz9gUAQHGpGxKxuxz10WQ+gXgP7BL9/EJRDb7hYDwrj0CJOgBAmHh3HRaal5BlNWYwiSSck1+UhaazXdBSdHCk/xLKxLxCzF2E7Z/4W8MxJRKA3zuE4d5ujAwNYLirDX/43X8DUBEbTdJjxTsV3C477r1lA/741jGcOt+BNcsq57tJJuYBsizi/nvX4WJTHxx2GeGIgiyXDc+9cAzP/+EY8vJcqFtaiJISz3w3lQlN1eZVn/W1l0+juzO2+Cstz0b9qpmVwBsdDoBPQV1ouiguy8b5kx3QFA18CmZkc8I0kRQ6Gf8EwOn2wJWdO15mx5034LO77kNs0hQQjSqQpPR9vdq7B3HgRBP8wTDqqkrmuzkm5hE8z2NJTWH8/2PveO2SAly42IfRln40X+oHz3PgOA6yJGBRRQ4uXuyD222DzxfC7bevhMszOz62ZNA0fd5MskpEGZ8sN72vGlU1DInFK4TfF4Ikz944YrXL4DgOgz0jyCtNvihK3xHNRHrAP4jA2dfBSVbwTg90VQU4QPNOSOfxnkLYllcitrvUAai44bp7YbPZkJXlgtPpxKqVdfjGNz6TFlJemqbh7UONsFok7Ny2Gp6s2fGPmMhcbN1Si61bagEAHZ1DaGruB8cBnV1eNDb2oKgoC5qmIxJR8dZb53HNtZXIyXXg1Mku1C4thCgbzYCapkFRtGmTYSIRBTJj4tC0+SH9aIqG9965OP57UWXeFKWnj5A/AquNTgo9k7BYRQz3+2ZmwjT4HKa5ktFIOzxL4JiMBma8BPRpTHlz4pzkzj1WLamZOcis78ll5il/JLNPkwvIp7KqJK/Fuqco4QOQJOLlFGTwuRWAIxtq69FYvaINEGVw8aB41VWCi6FKfOX3J/HYnSsB8Pjyr19DoPMi/IEgRv1+PP2jr2PFxm1YtvG68arr843iBlaGzzAQMPaFL0QLJytEeIglTK/25QR/zPOvHoCqath18yZ4Egg/GuGnCyu0f9JCPIuC7CyqDBnELkToZxUgfE7ka9Ey0g8SI0MTfs9gJAwxLKBpoNdQJt9unPxlRgD9oM/oPy3NoXcGESLRr8LRvjQlaoyls4m0/4gnAtxYIRCKEjs2JpauRTnq+08WOqEz/PM6R4p7ML7pFIa08kU5KE9I0KwkmEF3727E+fO9eP1PZ6EoGjRNx7EjbSgqccOVZUV3pxcbN1fj1T+eAgBsuK4Kp090YOmyYiyrn7BsKIqC0ye6wIs8ujuHMeINIhJWUFaZi94uLwL+CERJwMo15SiunLDsxET4ebjsxu+W9BF6iedJChsAQDhk7K8uLy3KkWWNfUcdncPo7RoBAOzYuQJ268T3RQ73qXBYWKLpAg9EQ1G4it0QeNpfGStDiFNEGGIQhLC6RhAUbS5b3FdqmmRNXClkB/iqWAZ13eKEHglCdxUBojzlh8Dbs+GsWQ8ngEIA1516B2/+4XnUXbsJQe8wbFkzx6S7XKiqBossGiZLE/MPJZ7VJd1zJia27/rrl8LnC6G7ewSyLGD7TctxYF8Tuju94+bKscmS44D9e2KB/Yf2X0JnxxAqF+fhyMFWhIgJLTvHgUhERWtzP3iOQ82yInS0DOLI/ku4eK4HdQ1lyCvMgq7pEKS576/BvhiztGZJAYqKZ+9bjkYVuNw0GXAm4cl3obWxK6Wy5oRpImVwnmJwADTGSo/E1+5ai689N8E8vOG2nXjsr/4CjQ/ei8rKSixZtgx5H7kFRUWzY8qZCrIsYsSX2XEZmd16NhQGyzYTsHNnA5SEHdIdu9agpW0AdpuMd3afg3c4iK031KKsIhdDA37YHDIO7m1GR/sgujpik+qqNeVYsaoU4ahiYAlHElLDrVyzCE3ne3DsQAv27z4PQeShqRqcntmdUEicPdU5LndHWqhmGpqqI2uWQkrGkFvkRvOpDmhacgKVOWGamBNU16/Af7zwEhqPHkbj6dPYv+89PPn44/jMZz6Ghx+5CxbL7PopEuHzBU2/ZRpCYYRQZCpKSmJhQbfd2QC/PwKXywodOrJzY+/dlhtqERgN48K5HqxaUz4+UIvi1ENy1ZJClC7OQ8uFXjSd7UEwEIFvKIhXnootTjmew+rrqlBUPHus3oHeiTCp9RsqZ+06oXiOTJtzdiUsbU4rwAHDfT7kFE69WzYnTBOzj7YjaGrsQfHylVixYSNWbNiIez/2cYRa9+MvP/9VXLjQhr/+20ewuGx2zbSapuHoqUvwB8NYvaJqVq81F0j/4J3Lg8JItJ3p4Hkerkkk4pwuK1avq5hWvRU1BaioKUAkpODNF0+M952u6ehsHpjVCdMfzycrSQKcLkuS0tOHbzAAjuPmxEQvWyQM9oxc+YQpGGJg6E+UUtxnOG9lgjHGykZOOm9Z2RpYivZJijCdySRfhqX8Rh5iBVyTbdQJsgfTbEbGQDPIDGSmeOYLQ90D6yaM9TB4ERDJLBBKlCrDCVbiN0Ek0XVwGh2cPNZlutWFSH8zWg7ug1q2BnpeNQBA9mzHIz9Ygl986ZP42qN+fObzH8GS5ZUGQpPFQty7Rr+yeWVGoYLAEC0UgAiH882dOHqqGTWLilBbXoCAj8jCEjXeA0WAAiDbjX0hWen2cIRghS1C96nkI8gKxHMQGJllbAmZW5p4HhwHyMR5g2EjkUpk7Npy7S7jtRn3ST7jIZVWQ+GITChOKz2y19eqAAAZTElEQVQxkKxQtspi7KCqqbHXmiHmQb7wlGgCo2Lyu2GVkYgYP50hNkKKEpCkLoB+5jIjdJAnxBVY4gapEF4T2yPIArbe0TD+e8/Lp8BL/HgqrDGQ2VzIewJAjSkRBjHIJllgs0oYQRDRqApJoEUmfIQ/NsJYCNF1099R0BeCKPGQ4p0STCE5FYvMpBIZYKIMDWmbQ4Zv0A9VndrEnN7edRPpj44TwOGngcHWSYtwBTVQy9ZCd+SCixgH9Jzicnzqfz+Ops4+/PD7/weNJ5tnr63xQaS2omj2rjGHYLGnMxnRqLbwts0LEDfvqB9fDI8wmLQzBb8vBGmO5AldOQ6EAvSin4Q5YZq4MuRVATmLAGFqP4OeVwV1yQ3QSlZSf3O4c/DId34CySrgsa/8I1qaO2alqYsXxYLTF57hb2FA09QFtwhYiOjr9Y1bCrLcs5eIPRSIwGqbmxR8OYVZUBWNsu6RMH2YJq4MFgeweAMwhSlDP/cWuJxK6DmVk5aRrXb84F+/hUf/7jt49Ivfws+f/D8z3tSxrBSvvHsMhTlu3Lq1IckZJuYS5g7zyqEqKrouDWKoJ8HdwLF0rsf+y43nTebiiZzHdo/jWrcJCl8nRB6ReKyjxSrOqn8xHIoiK3tuFJQc8dAV31AQ7tzJCYHJhQsSjOqs2Ze0ubN8jxrhS2PZ6VMJxOeIvYHOypBB1MMUX6e0AxhCCqRvj+m3IJ2qhCACy2FDiUqzRAkE8gBdD30SdYh8Fqx+J32fEVLNGwAvGH0SbDGI2H199bnD+MZdaw3HoCkQWg+CE3hwnuLxU0YjRsJAZzAXH/viY/jEju04cj6I3KJiXFNgvLZfpZ85+X658ulVb9ivIcclYcf21Tjf3I0Lzd3QYGQlugkRdzL4GwB00XgsEqZNUhLBg3Da6Y8+Svh1whGjOcjOM3y1ngnfo8gLsIkSigjB+KBK9NfICFWPlcgtqDO+6yx3ruF3Z9cAVUYk/GK8Tg+eOuFS0hj7+3HJxfjgzVKu0Yn+Ij8tkaGCQ8ahs+PSCd8o2WAAKnEtlg9TJt4L5rsz9aUBAFHiYiGG/4+8fjAhtIMTeMg2HrmJsZF63GeoGw5B1/Vx3oWu6+DBQYce61tdh3VMED1+nq7HhpkxM2w4pKCbYZIl+4v07wKARCh+BRgp1qIRFRaHjEjc12u3sATajc9LZxhNyXlLZ9mYOB6SLKC/cwjuvCuYME2YmC4evWM1vv78UaD6OuDEi9Cb9wO1W8E56EwcYxBFEUuWLMG+3a/jtgcfmvE28QKPvv74JJKCskc6Y6HFYtKZj0xcLjgA7nwnahuMIugkEYcFmSBolWfTE4cocAgFI3j6t4dgtc5uKJimauNJnucCnMBjoNOL6ikE5M0J08Ssg5PtwKrbgHAAsNFScokQJAn19fV4+8UXsOOBD01aTtd1KIqKcCQKtU9FKBRBKBRFKBxBNDr2/1GE4/8NBqPwB0Lj6ZLqqkshpoGurQkTmYYxv2IoFMXoSAjOrJn3Y47JXTpmWeUnEXXrK3D87QvwDkyeH9OcME3MCThBAuypxVluu/cDePbZZ3F+/x5YKu2xyS/+T8CvIByJIhyJguM4WGQJDocFVosMq1WC1SLDbheR7XHEf0uwWCToCocnf78XN29rQFVFIaLBzFSVSYTp7jMx3zh+sAXXbV864/X6vSGAo8OSZhMOtw2iJODSyc5Jy5gTpom0Q155BVZv2Ii9b+3G0pKb4XRYkJfrhNUiQlessFgkyLIIMR4rmFdgjCuUJNpHMTocixlsvNCBaFRBSV4OrIxksyZMmEgOt8cG73AQ/T20j3wm4PcG5yWzUd2GSpx89+Kkf086YUYTHPtMoQDCD6QySDaUA5zhO6Id6cnVBHgyEzoYGTpSIMywmF4qQZ5g12M8j+wLnXEOWYadbyWFrCfM4G6idQR5QidFJhjX4hhkE1Ljk5UpfjJ/oBoPJGZxr6y80dF/dmDCJ7Luvj/HL7/+eXz90c9CShC+cMv0PQx0G00onlzat5LnseHPP3YTLrb04uKlHuw5cA75uW7ULi7FksWlyM3Ogn/UKBbA0jZVCHIOS+hBkIwmKjXMIJIQZA6JEAqQnLT/SErIBsJxHERBgNNq9PFYQsb2ZTFUZjg9OdElODxo+F1uzaHLENlcQgymtE0liGcMop4afy/1eNYSMsAfAHTR2F8C1eTkGX0UjW4fRTBivMbkIYnKSgQoBNNFZ/ARybGJRSQkD7HGB5kQW4gkCiBwHHhw1HglE5OPN2QUnYjVa1xAskRVRoKx933dlmq8/sJJAMDuV85gxebq8TI2ydg+FkmKEq8higR8YQgiP349AHDb6QWunci5y2qzy2o8zxuk732MGJSMlWvuME3MOL7yzCE8dvc6fO4/X552HcXVdcgrW4w/vvga7tx164y0y2G3YNWycqxaVg5ds6Olowfnmjrw62deh8Uio7K0AFWLilGcnz1vSXkvC5nQRhNzirl6Iy6dn8iH686feV3mkD8CcQ71pRMxVX5Rc8I0MSv46rOHrriOLfd8DP/1s+/jjrtumfEJTBQFVFeUoLqiBLduW4+u3kGcaryE1/YcRSgcQVV5ESpKC1BelAeBkVPShIl0xWxzjTVNQ1NjDwBAlASU1868clYkFIV9Dgk/Y2ht7J7SemdOmCbSFkvWbcaeX30Xe/ccxHWbr5m163Ach5LCXLgddly3djmGRkbR1NqNwycv4NV3jmBRSQGqyouwqCQ/maDRHGLmh0VN0/DCG8cmgtgxFu+oI3HvwsUj3TVdM+5oOIDc41DeGMYeaCycxB8IM/VeTaQOXdcRHJ09uToStdMUj08GJaLAOstZSljwDQchTxEuk1x8PSFjOutlJo+k4t9iCYWnIoBAiabTV6J2Iuws2oS/geVg40hRZsaHTomkExneGfdA3idzgCDawxYKSJ6RnmwfK6iXag/Dz6MSAemk8DUAWK3kLozwk1FnAIQrBgGF3sldf+9H8aMfPwXLkhsAADeW0gH0UUL4XR2hQ1cODRpf9Vw37bdzxN8L0eFA7bJqrK0tRiAYRlNHPxovtuCN946hIM+NirJ8VJblI8tlh8VKZ2sg/TPhKMNfRCQk0An/HyvN09DohKi8qunQVA2hMF23EfR7YbcZTWiaFvMTDXlHMTQSQK7HCZfTPv6KcZjw8SS+rmOmq7HpVGEIXyf60nTo4DkeHMcZx4D4/7vsVuRmO9nfDeFbFwg/mQr6vVV04zGmcAfxZrISQ4iEhYG1ASG/Ywa9grovUhAdoAPxWQH9JBJ3RPmlHrRf6MOJwy0or5sQCbESavAW8uMDMBo2XotsCwD0DgZw/N0LAIDS6nxYPDaqjWHiPAuD6UryRhSi31VVg91tM4xrLN8jWY/E4KMECYc3wwUNjuehRBR4+0aRUzh56Ju5wzSR1th40w48/R//iraL51BeXXtFdf34X/8VDqcD99z/AHLdqa1e7TYLVtSUYkVNKaKKiqbeIbS09eHwiSbYbRZULSrA4kUFyM/NShu/p6pq2H/0YizmlKEkJQoTn31UUSDwsaE8EJ98h0b8uGZVNSpK88fvKcrKuEKQKfyMDCsyOaCJ9Oo9WYYIE6mjclkxVEVD16UBePKz4JpC5m06OPCnM9A0He5cB5asKmNOYjMCPSYyMpfwj8Te32XXTL5rNidME2kNSZZx4z0fwEv//St86h++Me16+np78cyTT2Dj5s144I6d+PBHH8JDH/kQPJ7U8wZKooDF5QVYXF4ATVuO3n4vWjp68epbx6EoGhYvysfiRYUoLPJQ6epmBZPMz6FIFM1tfdiwuhpghJtaCO2+cCQMSRShqCrKC3PR0TuEtw+ehdcXQMOyyplvt4lZRfXKUnS3DqKrqW/GJkxN03D6WMe4dalulkyxY+A4DmpkbmOlHVkxn+lwHyM9YBzmhGki7XHDXffh7x/ahY5LF4HS6SXG/cPvn8P299+ML375y2hrbcGTv/4Fbr3xNtz3wL1YtKgc7e0d6Glvw6aN6/Hg/XcxTaKJ4HkORQUelBZn47r1SzE4PIrm1l68d/g8vL4AKsryULmoAOUluVPWM20k8fWJgoCaykJAoWdVh5Vtkh1DQ10FvIEgnn5pHypK8+HJmnkWpIlZhq4jGpq5nXs4pOD86S4AwLa718xYvZOB44FoeG4tD6IswuqQceHE5NmSTG0wE2kPZ5Ybd3zkU/jNv/yAnSg7CTRNwx+efRZ33nM3AKB8UQW+9Y+P4enfP4VoNIrjx0/Cbrfj+vdtwvMvvIybb3sAr/xp92VdK8fjxLpVVbh/50bcf+cmFOS5cepsG37xxG68tvskLjR1IxxOrueZKnSklrBgunC77Gioq8DLbx9Da2c/MybVRPqiZEkBQv4wOhq7Z6S+Sxd6Y/UuzpuR+pKB4zkoc7zDBABZFqcMzUm6w0zMBMEaP+iPlkE+0afONADQ4gYsxz8Z6MtSwSebQ2ayYIHVQSR5iUkw4qcmM7HieeiML6x7INMsMAhQSTLQxxuUtD16CkIKFKGIUShETAZkNgKyrwCaTCRx9IqyeTjm86q64UN45Zmn8MSLB7D1hi2GMvlZxvv0DRtNKr19Axga9iKctwInBmJkh+ZWHkAZiu76h4n22DnctfpBnD3wFr707R/gR//uxmf/6m+wfOWq8TIr3Ma6AyrNSLRYOCxdUoilSwoRDkfR1N6H5rZevHfgPPLyXHA6LVBVbfzJc0j4jvSJY+QTTfzWwmEFvf1evH3grOE8keehKCo4DhAEjkl6U4n3ye6hxfDDQR/WNdTA4bBi37ELGPUHcev1q5CbPaGqFCGeucCI1qevT788MmEi1jh6oKS/iRS+IzJbDyM8iMyeojN8vmQGEZYKB3kWK1sJeVdRVtYTUmBApa8VJhYvKmNALazKx2CXF72tQyhZWoRgJLn4SI7D+BwSs6CcPx2beDmLiOHAhN+SpVxnlchxkS5D3rpG9DvP81AVxUDUIsU9AJpQlNjmMdiJ98vGyGwjx5lA4WAEuXlO6u9jME2yJjICgijhlk/+Hf75+9/Axs0bIMupU84L8nORV1SGCycPo7Zh6vAUjuOwbMP1qF23GUPv/Q5f/qu/xKq16/Dpv/gCSsomz2IwGSwWCdVVBaiuKkA0qqKraxihUIRiBfLgDesixlrQsOiwWWXwPAcxzhYdO9cSJ/RUVxZedltJ8DyH5bXlWF5bjvcOncVLu4/j5vetRH7u1AL6JtIDOaXZ6DjbjUsnOlC5snTa9bQ19Y8nLcgtnzzT0EyCF/h52WGGQwqcWZPHf5oTpomMQc3azWh5owK//dVT+MjHJ89kwsL6G27FwTdfSjphjkEQROy8517ceOsO/Oe//Qu++7Wv4If/+bPpNHsckiRg0aKYTzNMsE5F3rh65pmRToQkGmM17ZBmJ3ZtdX0FHA4LXnzjKKorCrFp7ZK5ITaZmDYKK3PR29yPwY7hK5owC0qycArA0lUls5owOhGCwEOdBzeAbBHR2TY06d/NCdNERuELf/t5fOLDn8Ntd9yMvPzU/Snrrr8V3/2Lh/Dg5/8OAiO0YTLY7HZct3UbLjQ2Tqe5CwpLKotQXODB6++exuGTl7B+ZXXahNKYYCOnxIOe5n5oigb+CjN/NB7vhHy+H0hwJjDdYvFE1IlWclXRIFtFrNmWWmYTXuShMZJnA4ASVXB6T1Ms/jQusjHmDtNjDUhISp5gHufGtIpjZuLxc+IJs8d+j/omF35IOmEm+uVSWV2wBAdIqSHmN8al4JNL4dsk7eUcI2SebCNL+kwjhcqZwgVT3xfrPmnxAJYYRHJ/LiVuwPKyTqGJOHFesgN0UDbHEp4gfb6k24d1jkYKNNDXjmjGg/1ZDdhw6z147Hu/wEf/7psAgNsqjGIGEZXOoLC2qgwlxcUYObcXDevWoz1IpxobDhrbuDdGCsTpziCCnA17u4DlhAY5pzIaTURGSwzfXogItA+pxng2kcHHI0XcJYmuVyD8M6HRMFUmGjb2jyAz/HbEDnjMJGezyNhyTS127zuL3v5hbFpdPd4Okn0LABohaDE06qXK5GcbmcSiSLcnHCVF78nvk/7ONWIwjzAGYJJfwfS1E985yyfHE9diDfVR4vqsgP4RgtnK8k+Sbk3WUDnmCg0HYv0mSqT4An2SnXh3xgQJdE5AbqELoizGvtGxx6MTovPx4wLHxSey8WLoaR2CElXHhf7JfheJ8UOUOChhDXaD6yV2Tl+LF8HRMArKsyHEJ7+xsWOsbzQtNmHHxDLi7YirVvHxCZUbm1i5WGzyWB2tTf1U34y3a9K/mDCRprjt4c/g0Yd3ouXsSVTUrUj5vOraWrRdakbDuvWXdT0lEpkzU1QmwO2y4/YbVuONvafw7GtHUZjrwtrli5gTpon5RWg0ApFBcrkciCKPNVtqANCLBz+D+U0Sl1RdQ0/rECz21C07giggHGCHlUhx1SKbXUZNfbHhb1HGAlYkZJdkgV4siAmal+TiIhHmKGBi1vDNe6/BN++9Bt/61hdntF6bw4k7Pv7nePLfvndZoR+FxSXo7po8OexkqKxfi+aTh+D3Tu7buNogCDyuW1ON27augCyL+OPbp3CmafL4NRNzD2+/DyF/GIVVcxMKMhl6WmOp4lZuqUr5HFHkocW3i5qq4dT+Jlw60wVd11FYnoOyJfloaezBsfeaZ7y9NXXFk/7NnDBNzDr0w2/MeJ2bd9yNYGAUh3e/mvI5RcUl6JnGhJmVm4+V77sZe37/m8s+d6HDYbdgY0MVNq+txqFTzWhq653vJpmIo+lwGySLiMLKWRLPSBE5RTFWdePBtpTPESRh3C3X0zaIkQE/2i/2IxzPj1m1vAQ2pwXe/slVeaaLqcTXzQnTREaCFwTc/7kv4pkf/xPCSQXIYygsKUFPV9e0rrf13kew94Xfwh+g9VJNACUFHmxsWIKmdnPCTBfomg5XzvybySVZRG6xC77BAPq7Yj5sPYFkEw0rGBkMwNsfSwSvqhr8fj+8Q16EQxH4hgMoWZwX23EmWFxDgQiViF1VNQR8IQz1+XDpQjuOHTyFSxfbZ+xekhq3EwknqWT+YMWPaVQGESbrhyiTrASY3neyDNNBz5NlWGQAKmycUU8SAg+z3mS10uexCARkH+qMLCMgMjywszWQhAa6w0iTPquMTogQUIRwVnZ5MsME46FLRBB76/CEr8FevQnZZTX44b8/jw8/8vD48cUuOo5qYHAUlYVu9HR2wKaOQtHoWEK7aGzjcHjixqX8apQtX4d//tmLuP+hD44fX5FLP52ARmS6UWnijdVKiC0ECJIN40MKK8YyUZHODu8f8Rl+uxn5yGSr8b2IhmlWoBI1XotjBPRnuY3EqbCm490j53Cppw+lxTF2FBckxA0YgtpDvmHjtRipPnjimCAZ70FlkN4EglTDIqtp5HtLihSA/m5IPx5AJWRCmEEwIl9vVmYNkrzHIrbyEpEZhfFdjwmJF5Q4YZd1eIhn7mTsolzEsZZB+r3giPAnu0z7+1pHjPKVAq8ip96D4cEDuHi8B8iuwLnX96Lp/Hk0t7VhZGgIo6Oj8I+Owu/3IxAIwGq1Qtd1/NM/ReHxeJBTsgjZniy8+94+lDZsgNvpgL+1DSMjI9h/6hyG+3sx3NcL7/AQRkZGMOrzwWazI8udBa/Xi9y8fGzY9n6svmkXKitkavzMs05O9EmESfoxkdHY/rG/xS+/9CHcduftyMnNmbJsVlYWNE2Dz+ebstxkuPbuT+Lxf/4C7n7w/qRas1cjXE4btl67FG/va8Rdt66DzZo2yUOvOthcMjgOGB4IIK+UZoTPB9xlRbh48Bhef/Q7OHzgIBwuF+pqa1G9ZCnsFgnuRTWwhn1wOByQnG4IWXkYbW2E1+uFdzSAof5eDA8PY//zT2J4eBi6rsOTX4Ds/CJ48otRsWoDnEWLkV1YjKycAohxhq0WDeLU7pfw3kvP4A9P/AoNa1bj/ffdjbpr1l72PZhfvYlZQ+2N9+Lca0/P6jVySyuxY+dt+PGP/i/+/mtfmrIsx3GoXVqLP7zwIrJvTS0eLBGlSxtQXFKC119+FTffvmO6TV7QKCvJRUFeFvoGRrCodH7JJlczxqxf/uH0cCGoigI1HMGTTz4Jm82GP/vy11BzzUYEejqhKQqCXj/ksiXQ/MOIegegjQ5BcHrgWbkFuU431OAoJMUPXrZAcrrBW2zgOA6kPntYpac0UZLRcNOdaLjpTgx2d+LYiz/DP3/1G9hywzY88OefgWyfXNmHhOnDNDFruPez/3NOrvOJz34K7+x+G2dOnU5a9n/+/Rfx9JNP4+LBN6d1rQ9//GP42Y//A+EwbWY1EUMwHEHUFGufV/R2eKHrgDM79clgthANhND05j5427txxwP3oq+vD9xAD/oO74PkcMFZugi81Q7/kdch5ZXCXr0KzobrIRdWQMorAW91QMouhL2kEta8YghW+7QFM3KKSvChv/gcvvXzf8eRQ4fw029+D97ObsoXOhm4qWj5HEvGwYQJEyZMmFjYaNF1vZI8OOWEacKECRMmTJiIwTTJmjBhwoQJEynAnDBNmDBhwoSJFGBOmCZMmDBhwkQKMCdMEyZMmDBhIgWYE6YJEyZMmDCRAv4/bU58OBqlxTAAAAAASUVORK5CYII=\n",
      "text/plain": [
       "<Figure size 576x576 with 1 Axes>"
      ]
     },
     "metadata": {
      "needs_background": "light"
     },
     "output_type": "display_data"
    }
   ],
   "source": [
    "fig = plt.figure(figsize=(8, 8))\n",
    "ax = plt.axes(projection=ccrs.PlateCarree())\n",
    "ax.set_extent([-135,-85, 30, 49])\n",
    "ax.stock_img()\n",
    "states_gdf.plot(ax=ax, facecolor='none', edgecolor='gray')\n",
    "gdf.plot(ax=ax, column='h_li', cmap='inferno', markersize=.5)\n",
    "ax.coastlines()"
   ]
  },
  {
   "cell_type": "code",
   "execution_count": null,
   "metadata": {},
   "outputs": [],
   "source": []
  }
 ],
 "metadata": {
  "kernelspec": {
   "display_name": "Python 3",
   "language": "python",
   "name": "python3"
  },
  "language_info": {
   "codemirror_mode": {
    "name": "ipython",
    "version": 3
   },
   "file_extension": ".py",
   "mimetype": "text/x-python",
   "name": "python",
   "nbconvert_exporter": "python",
   "pygments_lexer": "ipython3",
   "version": "3.6.7"
  }
 },
 "nbformat": 4,
 "nbformat_minor": 2
}
