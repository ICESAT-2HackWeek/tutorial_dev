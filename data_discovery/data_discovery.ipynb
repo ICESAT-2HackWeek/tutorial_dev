{
 "cells": [
  {
   "cell_type": "markdown",
   "metadata": {},
   "source": [
    "### Script to acquire ICESat-2 data into your Pangeo workspace for initial tutorial development\n",
    "\n",
    "* Scott Henderson, Anthony Arendt, David Shean, University of Washington"
   ]
  },
  {
   "cell_type": "code",
   "execution_count": 1,
   "metadata": {},
   "outputs": [],
   "source": [
    "%matplotlib inline\n",
    "import os\n",
    "import s3fs\n",
    "import xarray as xr\n",
    "import h5py\n",
    "import matplotlib.pyplot as plt\n",
    "import geopandas as gpd\n",
    "from shapely.geometry import Point, Polygon\n",
    "import fiona\n",
    "import cartopy.crs as ccrs\n",
    "from mpl_toolkits.mplot3d import Axes3D"
   ]
  },
  {
   "cell_type": "markdown",
   "metadata": {},
   "source": [
    "## Connect to S3 bucket containing sample ICESat-2 data"
   ]
  },
  {
   "cell_type": "code",
   "execution_count": 2,
   "metadata": {},
   "outputs": [],
   "source": [
    "bucket = 'pangeo-data-upload-oregon'\n",
    "fs = s3fs.S3FileSystem()"
   ]
  },
  {
   "cell_type": "markdown",
   "metadata": {},
   "source": [
    "## List contents of the bucket"
   ]
  },
  {
   "cell_type": "code",
   "execution_count": 18,
   "metadata": {},
   "outputs": [
    {
     "name": "stdout",
     "output_type": "stream",
     "text": [
      "['pangeo-data-upload-oregon/icesat2/atl06/ATL06_20181014113520_02420106_205_01.h5', 'pangeo-data-upload-oregon/icesat2/atl06/ATL06_20181017101822_02870106_205_01.h5', 'pangeo-data-upload-oregon/icesat2/atl06/ATL06_20181019051247_03140110_203_01.h5']\n"
     ]
    }
   ],
   "source": [
    "dataDir = 'pangeo-data-upload-oregon/icesat2/atl06'\n",
    "s3List = fs.ls(dataDir)\n",
    "print(s3List)"
   ]
  },
  {
   "cell_type": "markdown",
   "metadata": {},
   "source": [
    "## Pick some data to work with\n",
    "In this case, the first file contains data over Mt. Rainier"
   ]
  },
  {
   "cell_type": "code",
   "execution_count": 20,
   "metadata": {},
   "outputs": [],
   "source": [
    "s3File = s3List[0]\n",
    "dataFile = format(s3File.split('/')[3])"
   ]
  },
  {
   "cell_type": "markdown",
   "metadata": {},
   "source": [
    "## Download an HDF5 to home directory\n",
    "Data will be in your git directory. Be sure to .gitignore .h5 files so they are not pushed to GitHub."
   ]
  },
  {
   "cell_type": "code",
   "execution_count": 21,
   "metadata": {},
   "outputs": [],
   "source": [
    "fs.get(s3File, dataFile)"
   ]
  },
  {
   "cell_type": "markdown",
   "metadata": {},
   "source": [
    "### Using h5py to look at the dataset structure\n",
    "\n",
    "ICESat-2 data are structured in h5 files with multiple group levels. To find what you need it helps to view these groups. "
   ]
  },
  {
   "cell_type": "code",
   "execution_count": 22,
   "metadata": {},
   "outputs": [],
   "source": [
    "f = h5py.File(dataFile,'r')"
   ]
  },
  {
   "cell_type": "code",
   "execution_count": 23,
   "metadata": {},
   "outputs": [
    {
     "name": "stdout",
     "output_type": "stream",
     "text": [
      "---\n",
      "Group: METADATA\n",
      "---\n",
      "<HDF5 group \"/METADATA/AcquisitionInformation\" (4 members)>\n",
      "<HDF5 group \"/METADATA/DataQuality\" (2 members)>\n",
      "<HDF5 group \"/METADATA/DatasetIdentification\" (0 members)>\n",
      "<HDF5 group \"/METADATA/Extent\" (0 members)>\n",
      "<HDF5 group \"/METADATA/Lineage\" (13 members)>\n",
      "<HDF5 group \"/METADATA/ProcessStep\" (4 members)>\n",
      "<HDF5 group \"/METADATA/ProductSpecificationDocument\" (0 members)>\n",
      "<HDF5 group \"/METADATA/QADatasetIdentification\" (0 members)>\n",
      "<HDF5 group \"/METADATA/SeriesIdentification\" (0 members)>\n",
      "---\n",
      "Group: ancillary_data\n",
      "---\n",
      "<HDF5 dataset \"atlas_sdp_gps_epoch\": shape (1,), type \"<f8\">\n",
      "<HDF5 dataset \"control\": shape (1,), type \"|S10000\">\n",
      "<HDF5 dataset \"data_end_utc\": shape (1,), type \"|S27\">\n",
      "<HDF5 dataset \"data_start_utc\": shape (1,), type \"|S27\">\n",
      "<HDF5 dataset \"end_cycle\": shape (1,), type \"<i4\">\n",
      "<HDF5 dataset \"end_delta_time\": shape (1,), type \"<f8\">\n",
      "<HDF5 dataset \"end_geoseg\": shape (1,), type \"<i4\">\n",
      "<HDF5 dataset \"end_gpssow\": shape (1,), type \"<f8\">\n",
      "<HDF5 dataset \"end_gpsweek\": shape (1,), type \"<i4\">\n",
      "<HDF5 dataset \"end_orbit\": shape (1,), type \"<i4\">\n",
      "<HDF5 dataset \"end_region\": shape (1,), type \"<i4\">\n",
      "<HDF5 dataset \"end_rgt\": shape (1,), type \"<i4\">\n",
      "<HDF5 dataset \"granule_end_utc\": shape (1,), type \"|S27\">\n",
      "<HDF5 dataset \"granule_start_utc\": shape (1,), type \"|S27\">\n",
      "<HDF5 dataset \"qa_at_interval\": shape (1,), type \"<f8\">\n",
      "<HDF5 dataset \"release\": shape (1,), type \"|S80\">\n",
      "<HDF5 dataset \"start_cycle\": shape (1,), type \"<i4\">\n",
      "<HDF5 dataset \"start_delta_time\": shape (1,), type \"<f8\">\n",
      "<HDF5 dataset \"start_geoseg\": shape (1,), type \"<i4\">\n",
      "<HDF5 dataset \"start_gpssow\": shape (1,), type \"<f8\">\n",
      "<HDF5 dataset \"start_gpsweek\": shape (1,), type \"<i4\">\n",
      "<HDF5 dataset \"start_orbit\": shape (1,), type \"<i4\">\n",
      "<HDF5 dataset \"start_region\": shape (1,), type \"<i4\">\n",
      "<HDF5 dataset \"start_rgt\": shape (1,), type \"<i4\">\n",
      "<HDF5 dataset \"version\": shape (1,), type \"|S80\">\n",
      "<HDF5 group \"/ancillary_data/land_ice\" (19 members)>\n",
      "---\n",
      "Group: gt1l\n",
      "---\n",
      "<HDF5 group \"/gt1l/land_ice_segments\" (13 members)>\n",
      "<HDF5 group \"/gt1l/residual_histogram\" (10 members)>\n",
      "<HDF5 group \"/gt1l/segment_quality\" (7 members)>\n",
      "---\n",
      "Group: gt1r\n",
      "---\n",
      "<HDF5 group \"/gt1r/land_ice_segments\" (13 members)>\n",
      "<HDF5 group \"/gt1r/residual_histogram\" (10 members)>\n",
      "<HDF5 group \"/gt1r/segment_quality\" (7 members)>\n",
      "---\n",
      "Group: gt2l\n",
      "---\n",
      "<HDF5 group \"/gt2l/land_ice_segments\" (13 members)>\n",
      "<HDF5 group \"/gt2l/residual_histogram\" (10 members)>\n",
      "<HDF5 group \"/gt2l/segment_quality\" (7 members)>\n",
      "---\n",
      "Group: gt2r\n",
      "---\n",
      "<HDF5 group \"/gt2r/land_ice_segments\" (13 members)>\n",
      "<HDF5 group \"/gt2r/residual_histogram\" (10 members)>\n",
      "<HDF5 group \"/gt2r/segment_quality\" (7 members)>\n",
      "---\n",
      "Group: gt3l\n",
      "---\n",
      "<HDF5 group \"/gt3l/land_ice_segments\" (13 members)>\n",
      "<HDF5 group \"/gt3l/residual_histogram\" (10 members)>\n",
      "<HDF5 group \"/gt3l/segment_quality\" (7 members)>\n",
      "---\n",
      "Group: gt3r\n",
      "---\n",
      "<HDF5 group \"/gt3r/land_ice_segments\" (13 members)>\n",
      "<HDF5 group \"/gt3r/residual_histogram\" (10 members)>\n",
      "<HDF5 group \"/gt3r/segment_quality\" (7 members)>\n",
      "---\n",
      "Group: orbit_info\n",
      "---\n",
      "<HDF5 dataset \"crossing_time\": shape (1,), type \"<f8\">\n",
      "<HDF5 dataset \"cycle_number\": shape (1,), type \"|i1\">\n",
      "<HDF5 dataset \"lan\": shape (1,), type \"<f8\">\n",
      "<HDF5 dataset \"orbit_number\": shape (1,), type \"<u2\">\n",
      "<HDF5 dataset \"rgt\": shape (1,), type \"<i2\">\n",
      "<HDF5 dataset \"sc_orient\": shape (1,), type \"|i1\">\n",
      "<HDF5 dataset \"sc_orient_time\": shape (1,), type \"<f8\">\n",
      "---\n",
      "Group: quality_assessment\n",
      "---\n",
      "<HDF5 dataset \"qa_granule_fail_reason\": shape (1,), type \"<i4\">\n",
      "<HDF5 dataset \"qa_granule_pass_fail\": shape (1,), type \"<i4\">\n",
      "<HDF5 group \"/quality_assessment/gt1l\" (7 members)>\n",
      "<HDF5 group \"/quality_assessment/gt1r\" (7 members)>\n",
      "<HDF5 group \"/quality_assessment/gt2l\" (7 members)>\n",
      "<HDF5 group \"/quality_assessment/gt2r\" (7 members)>\n",
      "<HDF5 group \"/quality_assessment/gt3l\" (7 members)>\n",
      "<HDF5 group \"/quality_assessment/gt3r\" (7 members)>\n"
     ]
    }
   ],
   "source": [
    "printGroups = True\n",
    "groups = list(f.keys())\n",
    "for g in groups:\n",
    "    group = f[g]\n",
    "    if printGroups:\n",
    "        print('---')\n",
    "        print('Group: {}'.format(g))\n",
    "        print('---')\n",
    "        for d in group.keys():\n",
    "            print(group[d])"
   ]
  },
  {
   "cell_type": "code",
   "execution_count": 24,
   "metadata": {},
   "outputs": [],
   "source": [
    "f.close()"
   ]
  },
  {
   "cell_type": "markdown",
   "metadata": {},
   "source": [
    "### Open the data using xarray\n",
    "\n",
    "From above we decided to work with gt3r/land_ice_segments.\n",
    "\n",
    "Xarray provides simple tools for accessing the data."
   ]
  },
  {
   "cell_type": "code",
   "execution_count": 25,
   "metadata": {},
   "outputs": [
    {
     "name": "stdout",
     "output_type": "stream",
     "text": [
      "<xarray.Dataset>\n",
      "Dimensions:                (delta_time: 114193)\n",
      "Coordinates:\n",
      "  * delta_time             (delta_time) datetime64[ns] 2018-10-14T11:35:20.653233164 ... 2018-10-14T11:42:23.401819260\n",
      "    latitude               (delta_time) float64 ...\n",
      "    longitude              (delta_time) float64 ...\n",
      "Data variables:\n",
      "    atl06_quality_summary  (delta_time) int8 ...\n",
      "    h_li                   (delta_time) float32 ...\n",
      "    h_li_sigma             (delta_time) float32 ...\n",
      "    segment_id             (delta_time) float64 ...\n",
      "    sigma_geo_h            (delta_time) float32 ...\n",
      "Attributes:\n",
      "    Description:  The land_ice_height group contains the primary set of deriv...\n",
      "    data_rate:    Data within this group are sparse.  Data values are provide...\n"
     ]
    }
   ],
   "source": [
    "ds = xr.open_dataset(dataFile,group='/gt3r/land_ice_segments')\n",
    "print(ds)"
   ]
  },
  {
   "cell_type": "markdown",
   "metadata": {},
   "source": [
    "### Convert to Pandas dataframe"
   ]
  },
  {
   "cell_type": "code",
   "execution_count": 26,
   "metadata": {},
   "outputs": [
    {
     "data": {
      "text/html": [
       "<div>\n",
       "<style scoped>\n",
       "    .dataframe tbody tr th:only-of-type {\n",
       "        vertical-align: middle;\n",
       "    }\n",
       "\n",
       "    .dataframe tbody tr th {\n",
       "        vertical-align: top;\n",
       "    }\n",
       "\n",
       "    .dataframe thead th {\n",
       "        text-align: right;\n",
       "    }\n",
       "</style>\n",
       "<table border=\"1\" class=\"dataframe\">\n",
       "  <thead>\n",
       "    <tr style=\"text-align: right;\">\n",
       "      <th></th>\n",
       "      <th>atl06_quality_summary</th>\n",
       "      <th>h_li</th>\n",
       "      <th>h_li_sigma</th>\n",
       "      <th>latitude</th>\n",
       "      <th>longitude</th>\n",
       "      <th>segment_id</th>\n",
       "      <th>sigma_geo_h</th>\n",
       "    </tr>\n",
       "    <tr>\n",
       "      <th>delta_time</th>\n",
       "      <th></th>\n",
       "      <th></th>\n",
       "      <th></th>\n",
       "      <th></th>\n",
       "      <th></th>\n",
       "      <th></th>\n",
       "      <th></th>\n",
       "    </tr>\n",
       "  </thead>\n",
       "  <tbody>\n",
       "    <tr>\n",
       "      <th>2018-10-14 11:35:20.653233164</th>\n",
       "      <td>1</td>\n",
       "      <td>327.243286</td>\n",
       "      <td>0.653657</td>\n",
       "      <td>59.502253</td>\n",
       "      <td>-116.951166</td>\n",
       "      <td>671085.0</td>\n",
       "      <td>0.057640</td>\n",
       "    </tr>\n",
       "    <tr>\n",
       "      <th>2018-10-14 11:35:20.656065164</th>\n",
       "      <td>1</td>\n",
       "      <td>325.670044</td>\n",
       "      <td>1.047462</td>\n",
       "      <td>59.502075</td>\n",
       "      <td>-116.951202</td>\n",
       "      <td>671086.0</td>\n",
       "      <td>0.024585</td>\n",
       "    </tr>\n",
       "    <tr>\n",
       "      <th>2018-10-14 11:35:20.667385872</th>\n",
       "      <td>1</td>\n",
       "      <td>327.828369</td>\n",
       "      <td>2.733043</td>\n",
       "      <td>59.501360</td>\n",
       "      <td>-116.951347</td>\n",
       "      <td>671090.0</td>\n",
       "      <td>0.021911</td>\n",
       "    </tr>\n",
       "    <tr>\n",
       "      <th>2018-10-14 11:35:20.670206308</th>\n",
       "      <td>1</td>\n",
       "      <td>329.161957</td>\n",
       "      <td>1.432616</td>\n",
       "      <td>59.501181</td>\n",
       "      <td>-116.951383</td>\n",
       "      <td>671091.0</td>\n",
       "      <td>0.021599</td>\n",
       "    </tr>\n",
       "    <tr>\n",
       "      <th>2018-10-14 11:35:20.673025584</th>\n",
       "      <td>1</td>\n",
       "      <td>326.039276</td>\n",
       "      <td>0.412333</td>\n",
       "      <td>59.501002</td>\n",
       "      <td>-116.951419</td>\n",
       "      <td>671092.0</td>\n",
       "      <td>0.021670</td>\n",
       "    </tr>\n",
       "  </tbody>\n",
       "</table>\n",
       "</div>"
      ],
      "text/plain": [
       "                               atl06_quality_summary        h_li  h_li_sigma  \\\n",
       "delta_time                                                                     \n",
       "2018-10-14 11:35:20.653233164                      1  327.243286    0.653657   \n",
       "2018-10-14 11:35:20.656065164                      1  325.670044    1.047462   \n",
       "2018-10-14 11:35:20.667385872                      1  327.828369    2.733043   \n",
       "2018-10-14 11:35:20.670206308                      1  329.161957    1.432616   \n",
       "2018-10-14 11:35:20.673025584                      1  326.039276    0.412333   \n",
       "\n",
       "                                latitude   longitude  segment_id  sigma_geo_h  \n",
       "delta_time                                                                     \n",
       "2018-10-14 11:35:20.653233164  59.502253 -116.951166    671085.0     0.057640  \n",
       "2018-10-14 11:35:20.656065164  59.502075 -116.951202    671086.0     0.024585  \n",
       "2018-10-14 11:35:20.667385872  59.501360 -116.951347    671090.0     0.021911  \n",
       "2018-10-14 11:35:20.670206308  59.501181 -116.951383    671091.0     0.021599  \n",
       "2018-10-14 11:35:20.673025584  59.501002 -116.951419    671092.0     0.021670  "
      ]
     },
     "execution_count": 26,
     "metadata": {},
     "output_type": "execute_result"
    }
   ],
   "source": [
    "df = ds.to_dataframe()\n",
    "df.head()"
   ]
  },
  {
   "cell_type": "markdown",
   "metadata": {},
   "source": [
    "## Make a simple 3D scatter plot"
   ]
  },
  {
   "cell_type": "code",
   "execution_count": 27,
   "metadata": {},
   "outputs": [
    {
     "data": {
      "image/png": "[encoded data removed]",
      "text/plain": [
       "<Figure size 432x288 with 1 Axes>"
      ]
     },
     "metadata": {
      "needs_background": "light"
     },
     "output_type": "display_data"
    }
   ],
   "source": [
    "f = plt.figure()\n",
    "ax3D = f.add_subplot(111, projection='3d')\n",
    "sc = ax3D.scatter(df['latitude'], df['longitude'], df['h_li'], c=df['h_li'], marker='.')"
   ]
  },
  {
   "cell_type": "markdown",
   "metadata": {},
   "source": [
    "## Convert the Pandas dataframe to a Geopandas dataframe\n",
    "\n",
    "This mean the latitude and longitude columns are converted from just numbers into a geometry so Python knows where the data are in space."
   ]
  },
  {
   "cell_type": "code",
   "execution_count": 28,
   "metadata": {},
   "outputs": [
    {
     "data": {
      "text/html": [
       "<div>\n",
       "<style scoped>\n",
       "    .dataframe tbody tr th:only-of-type {\n",
       "        vertical-align: middle;\n",
       "    }\n",
       "\n",
       "    .dataframe tbody tr th {\n",
       "        vertical-align: top;\n",
       "    }\n",
       "\n",
       "    .dataframe thead th {\n",
       "        text-align: right;\n",
       "    }\n",
       "</style>\n",
       "<table border=\"1\" class=\"dataframe\">\n",
       "  <thead>\n",
       "    <tr style=\"text-align: right;\">\n",
       "      <th></th>\n",
       "      <th>atl06_quality_summary</th>\n",
       "      <th>h_li</th>\n",
       "      <th>h_li_sigma</th>\n",
       "      <th>latitude</th>\n",
       "      <th>longitude</th>\n",
       "      <th>segment_id</th>\n",
       "      <th>sigma_geo_h</th>\n",
       "      <th>geometry</th>\n",
       "    </tr>\n",
       "    <tr>\n",
       "      <th>delta_time</th>\n",
       "      <th></th>\n",
       "      <th></th>\n",
       "      <th></th>\n",
       "      <th></th>\n",
       "      <th></th>\n",
       "      <th></th>\n",
       "      <th></th>\n",
       "      <th></th>\n",
       "    </tr>\n",
       "  </thead>\n",
       "  <tbody>\n",
       "    <tr>\n",
       "      <th>2018-10-14 11:35:20.653233164</th>\n",
       "      <td>1</td>\n",
       "      <td>327.243286</td>\n",
       "      <td>0.653657</td>\n",
       "      <td>59.502253</td>\n",
       "      <td>-116.951166</td>\n",
       "      <td>671085.0</td>\n",
       "      <td>0.057640</td>\n",
       "      <td>POINT (-116.9511655451136 59.50225349899778)</td>\n",
       "    </tr>\n",
       "    <tr>\n",
       "      <th>2018-10-14 11:35:20.656065164</th>\n",
       "      <td>1</td>\n",
       "      <td>325.670044</td>\n",
       "      <td>1.047462</td>\n",
       "      <td>59.502075</td>\n",
       "      <td>-116.951202</td>\n",
       "      <td>671086.0</td>\n",
       "      <td>0.024585</td>\n",
       "      <td>POINT (-116.9512017593071 59.50207472236904)</td>\n",
       "    </tr>\n",
       "    <tr>\n",
       "      <th>2018-10-14 11:35:20.667385872</th>\n",
       "      <td>1</td>\n",
       "      <td>327.828369</td>\n",
       "      <td>2.733043</td>\n",
       "      <td>59.501360</td>\n",
       "      <td>-116.951347</td>\n",
       "      <td>671090.0</td>\n",
       "      <td>0.021911</td>\n",
       "      <td>POINT (-116.9513470237097 59.5013596369711)</td>\n",
       "    </tr>\n",
       "    <tr>\n",
       "      <th>2018-10-14 11:35:20.670206308</th>\n",
       "      <td>1</td>\n",
       "      <td>329.161957</td>\n",
       "      <td>1.432616</td>\n",
       "      <td>59.501181</td>\n",
       "      <td>-116.951383</td>\n",
       "      <td>671091.0</td>\n",
       "      <td>0.021599</td>\n",
       "      <td>POINT (-116.9513831494835 59.50118085567001)</td>\n",
       "    </tr>\n",
       "    <tr>\n",
       "      <th>2018-10-14 11:35:20.673025584</th>\n",
       "      <td>1</td>\n",
       "      <td>326.039276</td>\n",
       "      <td>0.412333</td>\n",
       "      <td>59.501002</td>\n",
       "      <td>-116.951419</td>\n",
       "      <td>671092.0</td>\n",
       "      <td>0.021670</td>\n",
       "      <td>POINT (-116.9514194251804 59.50100208192521)</td>\n",
       "    </tr>\n",
       "  </tbody>\n",
       "</table>\n",
       "</div>"
      ],
      "text/plain": [
       "                               atl06_quality_summary        h_li  h_li_sigma  \\\n",
       "delta_time                                                                     \n",
       "2018-10-14 11:35:20.653233164                      1  327.243286    0.653657   \n",
       "2018-10-14 11:35:20.656065164                      1  325.670044    1.047462   \n",
       "2018-10-14 11:35:20.667385872                      1  327.828369    2.733043   \n",
       "2018-10-14 11:35:20.670206308                      1  329.161957    1.432616   \n",
       "2018-10-14 11:35:20.673025584                      1  326.039276    0.412333   \n",
       "\n",
       "                                latitude   longitude  segment_id  sigma_geo_h  \\\n",
       "delta_time                                                                      \n",
       "2018-10-14 11:35:20.653233164  59.502253 -116.951166    671085.0     0.057640   \n",
       "2018-10-14 11:35:20.656065164  59.502075 -116.951202    671086.0     0.024585   \n",
       "2018-10-14 11:35:20.667385872  59.501360 -116.951347    671090.0     0.021911   \n",
       "2018-10-14 11:35:20.670206308  59.501181 -116.951383    671091.0     0.021599   \n",
       "2018-10-14 11:35:20.673025584  59.501002 -116.951419    671092.0     0.021670   \n",
       "\n",
       "                                                                   geometry  \n",
       "delta_time                                                                   \n",
       "2018-10-14 11:35:20.653233164  POINT (-116.9511655451136 59.50225349899778)  \n",
       "2018-10-14 11:35:20.656065164  POINT (-116.9512017593071 59.50207472236904)  \n",
       "2018-10-14 11:35:20.667385872   POINT (-116.9513470237097 59.5013596369711)  \n",
       "2018-10-14 11:35:20.670206308  POINT (-116.9513831494835 59.50118085567001)  \n",
       "2018-10-14 11:35:20.673025584  POINT (-116.9514194251804 59.50100208192521)  "
      ]
     },
     "execution_count": 28,
     "metadata": {},
     "output_type": "execute_result"
    }
   ],
   "source": [
    "df['geometry'] = list(zip(df['longitude'], df['latitude']))\n",
    "df['geometry'] = df['geometry'].apply(Point)\n",
    "gdf = gpd.GeoDataFrame(df)\n",
    "df.head()"
   ]
  },
  {
   "cell_type": "markdown",
   "metadata": {},
   "source": [
    "### make a simple map\n",
    "\n",
    "* get a geojson file with US state polygons\n",
    "* use Cartopy to make a very simple map"
   ]
  },
  {
   "cell_type": "code",
   "execution_count": 29,
   "metadata": {},
   "outputs": [],
   "source": [
    "states_url = 'http://eric.clst.org/assets/wiki/uploads/Stuff/gz_2010_us_040_00_5m.json'\n",
    "states_gdf = gpd.read_file(states_url)"
   ]
  },
  {
   "cell_type": "code",
   "execution_count": 32,
   "metadata": {},
   "outputs": [
    {
     "data": {
      "text/plain": [
       "<cartopy.mpl.feature_artist.FeatureArtist at 0x7fba6eae9c88>"
      ]
     },
     "execution_count": 32,
     "metadata": {},
     "output_type": "execute_result"
    },
    {
     "data": {
      "image/png": "[encoded data removed]",
      "text/plain": [
       "<Figure size 576x576 with 1 Axes>"
      ]
     },
     "metadata": {
      "needs_background": "light"
     },
     "output_type": "display_data"
    }
   ],
   "source": [
    "fig = plt.figure(figsize=(8, 8))\n",
    "ax = plt.axes(projection=ccrs.PlateCarree())\n",
    "ax.set_extent([-135,-85, 30, 49])\n",
    "ax.stock_img()\n",
    "states_gdf.plot(ax=ax, facecolor='none', edgecolor='gray')\n",
    "gdf.plot(ax=ax, column='h_li', cmap='inferno', markersize=.5)\n",
    "ax.coastlines()"
   ]
  },
  {
   "cell_type": "code",
   "execution_count": null,
   "metadata": {},
   "outputs": [],
   "source": []
  }
 ],
 "metadata": {
  "kernelspec": {
   "display_name": "Python 3",
   "language": "python",
   "name": "python3"
  },
  "language_info": {
   "codemirror_mode": {
    "name": "ipython",
    "version": 3
   },
   "file_extension": ".py",
   "mimetype": "text/x-python",
   "name": "python",
   "nbconvert_exporter": "python",
   "pygments_lexer": "ipython3",
   "version": "3.6.7"
  }
 },
 "nbformat": 4,
 "nbformat_minor": 2
}
