{
 "cells": [
  {
   "cell_type": "code",
   "execution_count": 2,
   "metadata": {},
   "outputs": [],
   "source": [
    "import getpass\n",
    "import socket\n",
    "import requests\n",
    "import json\n",
    "import zipfile\n",
    "import os\n",
    "import io\n",
    "import s3fs"
   ]
  },
  {
   "cell_type": "code",
   "execution_count": 7,
   "metadata": {},
   "outputs": [],
   "source": [
    "with open('.cred') as json_file:  \n",
    "    data = json.load(json_file)"
   ]
  },
  {
   "cell_type": "code",
   "execution_count": 8,
   "metadata": {},
   "outputs": [],
   "source": [
    "# Request token from Common Metadata Repository using Earthdata credentials\n",
    "token_api_url = 'https://api.echo.nasa.gov/echo-rest/tokens'\n",
    "hostname = socket.gethostname()\n",
    "ip = socket.gethostbyname(hostname)\n",
    "\n",
    "data = {\n",
    "    'token': {\n",
    "        'username': data['uid'],\n",
    "        'password': data['pwd'],\n",
    "        'client_id': 'NSIDC_client_id',\n",
    "        'user_ip_address': ip\n",
    "    }\n",
    "}\n",
    "headers={'Accept': 'application/json'}\n",
    "response = requests.post(token_api_url, json=data, headers=headers)\n",
    "token = json.loads(response.content)['token']['id']"
   ]
  },
  {
   "cell_type": "code",
   "execution_count": 14,
   "metadata": {},
   "outputs": [],
   "source": [
    "response = requests.get(\"https://n5eil02u.ecs.nsidc.org/egi/request?short_name=ATL03&version=205&temporal=2018-10-17T00:00:00,2018-10-17T23:59:59&bounding_box=-115,35,-99,42&agent=NO&token={}&page_size=1&email=arendta@uw.edu\".format(token))              "
   ]
  },
  {
   "cell_type": "code",
   "execution_count": 15,
   "metadata": {},
   "outputs": [],
   "source": [
    "with zipfile.ZipFile(io.BytesIO(response.content)) as z:\n",
    "    z.extractall(os.getcwd())"
   ]
  },
  {
   "cell_type": "code",
   "execution_count": null,
   "metadata": {},
   "outputs": [],
   "source": [
    "# Connect to bucket\n",
    "import s3fs\n",
    "bucket = 'pangeo-data-upload-oregon'\n",
    "fs = s3fs.S3FileSystem()\n",
    "# List contents\n",
    "dataDir = 'pangeo-data-upload-oregon/icesat2/atl03'\n",
    "fs.ls(dataDir)"
   ]
  },
  {
   "cell_type": "code",
   "execution_count": null,
   "metadata": {},
   "outputs": [],
   "source": [
    "# Download an HDF5 to home directory\n",
    "filename = 'ATL06_20181019051247_03140110_203_01.h5'\n",
    "data = dataDir + '/' + filename\n",
    "fs.get(data, filename)"
   ]
  },
  {
   "cell_type": "code",
   "execution_count": 7,
   "metadata": {},
   "outputs": [],
   "source": [
    "import xarray as xr"
   ]
  },
  {
   "cell_type": "code",
   "execution_count": 10,
   "metadata": {},
   "outputs": [],
   "source": [
    "ds = xr.open_dataset('ATL03_20181017101822_02870106_205_01.h5')"
   ]
  },
  {
   "cell_type": "code",
   "execution_count": 11,
   "metadata": {},
   "outputs": [
    {
     "data": {
      "text/plain": [
       "<xarray.Dataset>\n",
       "Dimensions:       (ds_surf_type: 5, ds_xyz: 3)\n",
       "Coordinates:\n",
       "  * ds_surf_type  (ds_surf_type) int32 1 2 3 4 5\n",
       "  * ds_xyz        (ds_xyz) int32 1 2 3\n",
       "Data variables:\n",
       "    *empty*\n",
       "Attributes:\n",
       "    granule_type:                       ATL03\n",
       "    short_name:                         ATL03\n",
       "    level:                              L2\n",
       "    description:                        Photon heights determined by ATBD Alg...\n",
       "    contributor_name:                   Thomas E Neumann (thomas.neumann@nasa...\n",
       "    contributor_role:                   Instrument Engineer, Investigator, Pr...\n",
       "    Conventions:                        CF-1.6\n",
       "    date_type:                          UTC\n",
       "    featureType:                        trajectory\n",
       "    geospatial_lat_units:               degrees_north\n",
       "    geospatial_lon_units:               degrees_east\n",
       "    identifier_product_doi:             10.5067/ATLAS/ATL03.001\n",
       "    identifier_product_doi_authority:   http://dx.doi.org\n",
       "    identifier_product_type:            ATL03\n",
       "    license:                            Data may not be reproduced or distrib...\n",
       "    naming_authority:                   http://dx.doi.org\n",
       "    spatial_coverage_type:              Horizontal\n",
       "    standard_name_vocabulary:           CF-1.6\n",
       "    time_type:                          CCSDS UTC-A\n",
       "    date_created:                       2019-02-22T21:36:26.000000Z\n",
       "    hdfversion:                         HDF5 1.10.3\n",
       "    history:                            2019-02-22T21:36:26.000000Z;7d7d1217-...\n",
       "    identifier_file_uuid:               7d7d1217-0a51-32c7-9668-76f9cb6f5abd\n",
       "    identifier_product_format_version:   3.0\n",
       "    time_coverage_duration:             511.0\n",
       "    time_coverage_end:                  2018-10-17T10:26:53.000000Z\n",
       "    time_coverage_start:                2018-10-17T10:18:22.000000Z\n",
       "    geospatial_lat_min:                 27.165281074967876\n",
       "    geospatial_lon_min:                 -104.25776485626916\n",
       "    geospatial_lat_max:                 59.45914367107108\n",
       "    geospatial_lon_max:                 -99.71800465595649\n",
       "    publisher_name:                     NSIDC DAAC > NASA National Snow and I...\n",
       "    publisher_email:                    nsidc@nsidc.org\n",
       "    publisher_url:                      http://nsidc.org/daac/\n",
       "    title:                              ATLAS/ICESat-2 L2A Global Geolocated ...\n",
       "    identifier_file_product_type:       ATL03\n",
       "    institution:                        National Aeronautics and Space Admini...\n",
       "    creator_name:                       GSFC I-SIPS > ICESat-2 Science Invest...\n",
       "    summary:                            The purpose of ATL03 is to provide al...\n",
       "    keywords:                           EARTH SCIENCE > CRYOSPHERE > SEA ICE ...\n",
       "    keywords_vocabulary:                NASA/GCMD Science Keywords\n",
       "    citation:                           Cite these data in publications as fo...\n",
       "    processing_level:                   2A\n",
       "    references:                         http://nsidc.org/data/icesat2/data.html\n",
       "    project:                            ICESat-2 > Ice, Cloud, and land Eleva...\n",
       "    instrument:                         ATLAS > Advanced Topographic Laser Al...\n",
       "    platform:                           ICESat-2 > Ice, Cloud, and land Eleva...\n",
       "    source:                             Spacecraft"
      ]
     },
     "execution_count": 11,
     "metadata": {},
     "output_type": "execute_result"
    }
   ],
   "source": [
    "ds"
   ]
  }
 ],
 "metadata": {
  "kernelspec": {
   "display_name": "Python 3",
   "language": "python",
   "name": "python3"
  },
  "language_info": {
   "codemirror_mode": {
    "name": "ipython",
    "version": 3
   },
   "file_extension": ".py",
   "mimetype": "text/x-python",
   "name": "python",
   "nbconvert_exporter": "python",
   "pygments_lexer": "ipython3",
   "version": "3.6.7"
  }
 },
 "nbformat": 4,
 "nbformat_minor": 2
}
