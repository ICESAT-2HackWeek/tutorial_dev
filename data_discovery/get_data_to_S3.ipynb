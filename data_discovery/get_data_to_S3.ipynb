{
 "cells": [
  {
   "cell_type": "markdown",
   "metadata": {},
   "source": [
    "### Script to access and move ICESat-2 data to Pangeo for initial tutorial development\n",
    "\n",
    "This is a simple test to move one ATL03 dataset to our Pangeo instance for testing and tutorial development\n",
    "\n",
    "Amy Steiker, NSIDC;\n",
    "Anthony Arendt, UW"
   ]
  },
  {
   "cell_type": "markdown",
   "metadata": {},
   "source": [
    "### Import libraries"
   ]
  },
  {
   "cell_type": "code",
   "execution_count": 16,
   "metadata": {},
   "outputs": [],
   "source": [
    "import getpass\n",
    "import socket\n",
    "import requests\n",
    "import json\n",
    "import zipfile\n",
    "import os\n",
    "import io\n",
    "import s3fs"
   ]
  },
  {
   "cell_type": "markdown",
   "metadata": {},
   "source": [
    "### Earthdata login\n",
    "\n",
    "Store your unique credentials in a separate .cred json file that is in .gitignore and not pushed to GitHub."
   ]
  },
  {
   "cell_type": "code",
   "execution_count": 17,
   "metadata": {},
   "outputs": [],
   "source": [
    "with open('../.cred') as json_file:  \n",
    "    creds = json.load(json_file)"
   ]
  },
  {
   "cell_type": "markdown",
   "metadata": {},
   "source": [
    "## Request token from Common Metadata Repository using Earthdata credentials"
   ]
  },
  {
   "cell_type": "code",
   "execution_count": 18,
   "metadata": {},
   "outputs": [],
   "source": [
    "token_api_url = 'https://api.echo.nasa.gov/echo-rest/tokens'\n",
    "hostname = socket.gethostname()\n",
    "ip = socket.gethostbyname(hostname)\n",
    "\n",
    "data = {\n",
    "    'token': {\n",
    "        'username': creds['uid'],\n",
    "        'password': creds['pwd'],\n",
    "        'client_id': 'NSIDC_client_id',\n",
    "        'user_ip_address': ip\n",
    "    }\n",
    "}\n",
    "headers={'Accept': 'application/json'}\n",
    "response = requests.post(token_api_url, json=data, headers=headers)\n",
    "token = json.loads(response.content)['token']['id']"
   ]
  },
  {
   "cell_type": "markdown",
   "metadata": {},
   "source": [
    "### A sample API call for a specific region"
   ]
  },
  {
   "cell_type": "code",
   "execution_count": 25,
   "metadata": {},
   "outputs": [],
   "source": [
    "response = requests.get(\"https://n5eil02u.ecs.nsidc.org/egi/request? \\\n",
    "                         short_name=ATL06&version=205&temporal=2018-10-17T00:00:00,2019-10-17T23:59:59 \\\n",
    "                         &bounding_box=-121.481,46.7015,-112.036,47.0365&agent=NO&token={}&page_size=10&email={}\".format(token,creds['email']))      "
   ]
  },
  {
   "cell_type": "markdown",
   "metadata": {},
   "source": [
    "### This acquires the data and unzips it"
   ]
  },
  {
   "cell_type": "code",
   "execution_count": 10,
   "metadata": {},
   "outputs": [],
   "source": [
    "with zipfile.ZipFile(io.BytesIO(response.content)) as z:\n",
    "    z.extractall(os.getcwd())"
   ]
  },
  {
   "cell_type": "markdown",
   "metadata": {},
   "source": [
    "### Upload data to S3\n",
    "\n",
    "After conda installing the awscli, I ran this on the command line to push to the bucket that @Scott created"
   ]
  },
  {
   "cell_type": "raw",
   "metadata": {},
   "source": [
    "aws s3 cp ATL06_20181014113520_02420106_205_01.h5 s3://pangeo-data-upload-oregon/icesat2/atl06/ATL06_20181014113520_02420106_205_01.h5"
   ]
  }
 ],
 "metadata": {
  "kernelspec": {
   "display_name": "Python 3",
   "language": "python",
   "name": "python3"
  },
  "language_info": {
   "codemirror_mode": {
    "name": "ipython",
    "version": 3
   },
   "file_extension": ".py",
   "mimetype": "text/x-python",
   "name": "python",
   "nbconvert_exporter": "python",
   "pygments_lexer": "ipython3",
   "version": "3.6.7"
  }
 },
 "nbformat": 4,
 "nbformat_minor": 2
}
