{
 "cells": [
  {
   "cell_type": "markdown",
   "metadata": {},
   "source": [
    "## Exploring ATL07 sea ice heights with ICESat-2\n",
    "    \n",
    "Description: Script for reading in needed parameters for ATL07 sea ice elevation retrievals   \n",
    "Input requirements: ATL07 data file\n"
   ]
  },
  {
   "cell_type": "code",
   "execution_count": 5,
   "metadata": {},
   "outputs": [],
   "source": [
    "%matplotlib inline\n",
    "import h5py\n",
    "import numpy as np\n",
    "import matplotlib    \n",
    "import matplotlib.pyplot as plt\n",
    "import convert_GPS_time as cGPS\n",
    "import seaborn as sns\n",
    "import pandas as pd\n",
    "sns.set()\n",
    "\n",
    "file_path = '/users/aapetty/DATA/ICESat2/ATL07/'"
   ]
  },
  {
   "cell_type": "code",
   "execution_count": 6,
   "metadata": {},
   "outputs": [],
   "source": [
    "def getATL07(fileT, beamT='gt1l'):\n",
    "    \n",
    "    hf = h5py.File(fileT, 'r')\t#Open the file\n",
    "\n",
    "    #Beam 1 left\n",
    "    #list(hf.keys())\n",
    "    gt1l = hf.get(beamT)\n",
    "    #list(gt1l.items())\n",
    "    lat_1l = gt1l.get('sea_ice_segments/latitude').value\n",
    "    lon_1l = gt1l.get('sea_ice_segments/longitude').value\n",
    "    delta_time_1l = hf.get('gt1l/sea_ice_segments/delta_time').value\t#Number of seconds since the GPS epoch on midnight Jan. 6, 1980 \n",
    "    atlas_epoch = hf.get('/ancillary_data/atlas_sdp_gps_epoch').value\t#Add this value to delta time parameters to compute full gps_seconds\n",
    "\n",
    "    #Test conversion of delta_time to a calendar date\n",
    "    temp = cGPS.convert_GPS_time(atlas_epoch[0] + delta_time_1l, OFFSET=0.0)\n",
    "\n",
    "    year = temp['year'][:]\n",
    "    month = temp['month'][:]\n",
    "    day = temp['day'][:]\n",
    "    hour = temp['hour'][:]\n",
    "    minute = temp['minute'][:]\n",
    "    second = temp['second'][:]\n",
    "\n",
    "\n",
    "    dac_1l = hf.get('gt1l/sea_ice_segments/geophysical/height_segment_dac').value\t#AVISO dynamic atmospheric correction\n",
    "    earth_1l = hf.get('gt1l/sea_ice_segments/geophysical/height_segment_earth').value #solid earth tide\n",
    "    geoid_1l = hf.get('gt1l/sea_ice_segments/geophysical/height_segment_geoid').value\t#geoid\n",
    "    load_1l = hf.get('gt1l/sea_ice_segments/geophysical/height_segment_load').value\t#load tide\n",
    "    mss_1l = hf.get('gt1l/sea_ice_segments/geophysical/height_segment_mss').value\t#mean sea surface\n",
    "    ocean_1l = hf.get('gt1l/sea_ice_segments/geophysical/height_segment_ocean').value\t#ocean tide\t#Alternatively ocean_1l=hf['gt1l']['sea_ice_segments']['geophysical']['height_segment_ocean'][:]\n",
    "    pole_1l = hf.get('gt1l/sea_ice_segments/geophysical/height_segment_pole').value\t#pole tide\n",
    "\n",
    "    height1l = hf.get('gt1l/sea_ice_segments/heights')\n",
    "    elev_1l = height1l.get('height_segment_height').value\t#Retreived surface elevation\n",
    "    quality_1l = height1l.get('height_segment_quality').value\t#1 for good fit, 0 for bad\n",
    "    elev_rms_1l = height1l.get('height_segment_rms').value\t#RMS difference between modeled and observed photon height distribution\n",
    "    seg_length_1l = height1l.get('height_segment_length_seg').value\t#along track length of segment\n",
    "    height_confidence = height1l.get('height_segment_confidence').value\t#Height segment confidence flag\n",
    "    reflectance = height1l.get('height_segment_asr_calc').value\t#apparent surface reflectance\n",
    "    ssh_flag = height1l.get('height_segment_ssh_flag').value\t#Flag for potential leads, 0=sea ice, 1 = sea surface\n",
    "    seg_type = height1l.get('height_segment_type').value\t#0=cloud covered\n",
    "    gauss_width = height1l.get('height_segment_w_gaussian').value\t#Width of Gaussian fit\n",
    "\n",
    "    hf.close()\n",
    "\n",
    "    return delta_time_1l, elev_1l\n",
    "\n"
   ]
  },
  {
   "cell_type": "code",
   "execution_count": 8,
   "metadata": {},
   "outputs": [],
   "source": [
    "ATL07_filename = 'ATL07_20181122151513_08400105_203_01.h5'\t\n",
    "ATL07_file = file_path + ATL07_filename\n",
    "\n",
    "# Get data\n",
    "delta_time_1l, elev_1l=getATL07(ATL07_file)\n"
   ]
  },
  {
   "cell_type": "code",
   "execution_count": 9,
   "metadata": {},
   "outputs": [
    {
     "data": {
      "text/plain": [
       "array([7815253.62003905, 7815253.62003905, 7815253.62003905, ...,\n",
       "       7815299.29897178, 7815299.29926344, 7815299.29940099])"
      ]
     },
     "execution_count": 9,
     "metadata": {},
     "output_type": "execute_result"
    }
   ],
   "source": [
    "delta_time_1l/3.600"
   ]
  },
  {
   "cell_type": "code",
   "execution_count": 10,
   "metadata": {
    "scrolled": true
   },
   "outputs": [
    {
     "data": {
      "image/png": "[encoded data removed]",
      "text/plain": [
       "<Figure size 720x360 with 1 Axes>"
      ]
     },
     "metadata": {},
     "output_type": "display_data"
    }
   ],
   "source": [
    "good = np.where((elev_1l < 100) )\t#& (quality_1l == 1)\n",
    "plt.figure(figsize=(10, 5))\n",
    "plt.plot((delta_time_1l[good]-delta_time_1l[0])/(1.), elev_1l[good]) #delta_time_1l\n",
    "plt.xlabel('Delta time (s)')\n",
    "plt.ylabel('Elevation (m)')\n",
    "plt.show()"
   ]
  },
  {
   "cell_type": "code",
   "execution_count": 11,
   "metadata": {},
   "outputs": [
    {
     "data": {
      "text/html": [
       "<div>\n",
       "<style scoped>\n",
       "    .dataframe tbody tr th:only-of-type {\n",
       "        vertical-align: middle;\n",
       "    }\n",
       "\n",
       "    .dataframe tbody tr th {\n",
       "        vertical-align: top;\n",
       "    }\n",
       "\n",
       "    .dataframe thead th {\n",
       "        text-align: right;\n",
       "    }\n",
       "</style>\n",
       "<table border=\"1\" class=\"dataframe\">\n",
       "  <thead>\n",
       "    <tr style=\"text-align: right;\">\n",
       "      <th></th>\n",
       "      <th>elev</th>\n",
       "      <th>lons</th>\n",
       "      <th>lats</th>\n",
       "      <th>ssh_flag</th>\n",
       "      <th>quality_flag</th>\n",
       "      <th>deltaTime</th>\n",
       "      <th>year</th>\n",
       "      <th>month</th>\n",
       "      <th>day</th>\n",
       "      <th>hour</th>\n",
       "      <th>second</th>\n",
       "    </tr>\n",
       "  </thead>\n",
       "  <tbody>\n",
       "    <tr>\n",
       "      <th>0</th>\n",
       "      <td>0.417146</td>\n",
       "      <td>168.261055</td>\n",
       "      <td>79.993832</td>\n",
       "      <td>0</td>\n",
       "      <td>0</td>\n",
       "      <td>2.813491e+07</td>\n",
       "      <td>2018</td>\n",
       "      <td>11</td>\n",
       "      <td>22</td>\n",
       "      <td>15</td>\n",
       "      <td>13</td>\n",
       "    </tr>\n",
       "    <tr>\n",
       "      <th>1</th>\n",
       "      <td>0.417146</td>\n",
       "      <td>168.261055</td>\n",
       "      <td>79.993832</td>\n",
       "      <td>0</td>\n",
       "      <td>0</td>\n",
       "      <td>2.813491e+07</td>\n",
       "      <td>2018</td>\n",
       "      <td>11</td>\n",
       "      <td>22</td>\n",
       "      <td>15</td>\n",
       "      <td>13</td>\n",
       "    </tr>\n",
       "    <tr>\n",
       "      <th>2</th>\n",
       "      <td>0.417146</td>\n",
       "      <td>168.261055</td>\n",
       "      <td>79.993832</td>\n",
       "      <td>0</td>\n",
       "      <td>0</td>\n",
       "      <td>2.813491e+07</td>\n",
       "      <td>2018</td>\n",
       "      <td>11</td>\n",
       "      <td>22</td>\n",
       "      <td>15</td>\n",
       "      <td>13</td>\n",
       "    </tr>\n",
       "    <tr>\n",
       "      <th>3</th>\n",
       "      <td>0.417139</td>\n",
       "      <td>168.261055</td>\n",
       "      <td>79.993832</td>\n",
       "      <td>0</td>\n",
       "      <td>0</td>\n",
       "      <td>2.813491e+07</td>\n",
       "      <td>2018</td>\n",
       "      <td>11</td>\n",
       "      <td>22</td>\n",
       "      <td>15</td>\n",
       "      <td>13</td>\n",
       "    </tr>\n",
       "    <tr>\n",
       "      <th>4</th>\n",
       "      <td>0.408681</td>\n",
       "      <td>168.260999</td>\n",
       "      <td>79.993788</td>\n",
       "      <td>0</td>\n",
       "      <td>0</td>\n",
       "      <td>2.813491e+07</td>\n",
       "      <td>2018</td>\n",
       "      <td>11</td>\n",
       "      <td>22</td>\n",
       "      <td>15</td>\n",
       "      <td>13</td>\n",
       "    </tr>\n",
       "  </tbody>\n",
       "</table>\n",
       "</div>"
      ],
      "text/plain": [
       "       elev        lons       lats  ssh_flag  quality_flag     deltaTime  \\\n",
       "0  0.417146  168.261055  79.993832         0             0  2.813491e+07   \n",
       "1  0.417146  168.261055  79.993832         0             0  2.813491e+07   \n",
       "2  0.417146  168.261055  79.993832         0             0  2.813491e+07   \n",
       "3  0.417139  168.261055  79.993832         0             0  2.813491e+07   \n",
       "4  0.408681  168.260999  79.993788         0             0  2.813491e+07   \n",
       "\n",
       "   year  month  day  hour  second  \n",
       "0  2018     11   22    15      13  \n",
       "1  2018     11   22    15      13  \n",
       "2  2018     11   22    15      13  \n",
       "3  2018     11   22    15      13  \n",
       "4  2018     11   22    15      13  "
      ]
     },
     "execution_count": 11,
     "metadata": {},
     "output_type": "execute_result"
    }
   ],
   "source": [
    "def getATL07pd(fileT, beamT='gt1l'):\n",
    "    # Beams: \n",
    "    f1 = h5py.File(fileT, 'r')\n",
    "    #freeboard=f1['gt1l']['sea_ice_segments']['fbswath_fb_height'][:]\n",
    "    lons=f1[beamT+'/sea_ice_segments/longitude'][:]\n",
    "    lats=f1[beamT+'/sea_ice_segments/latitude'][:]\n",
    "\n",
    "    delta_time_1l=f1[beamT+'/sea_ice_segments/delta_time'][:] #Number of seconds since the GPS epoch on midnight Jan. 6, 1980 \n",
    "    atlas_epoch=f1['/ancillary_data/atlas_sdp_gps_epoch'][:] #Add this value to delta time parameters to compute full gps_seconds\n",
    "\n",
    "    #Test conversion of delta_time to a calendar date\n",
    "    temp = cGPS.convert_GPS_time(atlas_epoch[0] + delta_time_1l, OFFSET=0.0)\n",
    "\n",
    "    year = temp['year'][:].astype('int')\n",
    "    month = temp['month'][:].astype('int')\n",
    "    day = temp['day'][:].astype('int')\n",
    "    hour = temp['hour'][:].astype('int')\n",
    "    minute = temp['minute'][:].astype('int')\n",
    "    second = temp['second'][:].astype('int')\n",
    "\n",
    "\n",
    "\n",
    "    elev=f1[beamT+'/sea_ice_segments/heights/height_segment_height'][:]\n",
    "    ssh_flag=f1[beamT+'/sea_ice_segments/heights/height_segment_ssh_flag'][:] #Flag for potential leads, 0=sea ice, 1 = sea surface\n",
    "    quality_1l=f1[beamT+'/sea_ice_segments/heights/height_segment_quality'][:] #1 for good fit, 0 for bad\n",
    "\n",
    "    dF = pd.DataFrame({'elev':elev, 'lons':lons, 'lats':lats, 'ssh_flag':ssh_flag, \n",
    "                       'quality_flag':quality_1l, 'deltaTime':delta_time_1l, 'year':year, 'month':month, 'day':day, 'hour':hour, 'second':second},\n",
    "                         columns=['elev','lons','lats', 'ssh_flag', 'quality_flag', 'deltaTime', 'year', 'month', 'day', 'hour', 'second'])\n",
    "    return dF\n",
    "\n",
    "\n",
    "dF=getATL07pd(ATL07_file, beamT='gt1l')\n",
    "dF2=getATL07pd(ATL07_file, beamT='gt2l')\n",
    "\n",
    "#dF['freeboard']>0)]\n",
    "#dF = dF[(dF['freeboard']<10)]\n",
    "\n",
    "# Reset row indexing\n",
    "#dF=dF.reset_index(drop=True)\n",
    "\n",
    "dF.head(5)"
   ]
  },
  {
   "cell_type": "code",
   "execution_count": 13,
   "metadata": {},
   "outputs": [
    {
     "data": {
      "text/plain": [
       "<xarray.Dataset>\n",
       "Dimensions:       (dim_0: 110713)\n",
       "Coordinates:\n",
       "  * dim_0         (dim_0) int64 0 1 2 3 4 ... 110708 110709 110710 110711 110712\n",
       "Data variables:\n",
       "    elev          (dim_0) float32 0.39585683 0.39585683 ... 0.4437879 0.443385\n",
       "    lons          (dim_0) float64 168.1 168.1 168.1 168.1 ... 161.4 161.4 161.4\n",
       "    lats          (dim_0) float64 80.0 80.0 80.0 80.0 ... 69.66 69.66 69.66\n",
       "    ssh_flag      (dim_0) int8 0 0 0 0 0 0 0 0 0 0 0 0 ... 0 0 0 0 0 0 0 0 0 0 0\n",
       "    quality_flag  (dim_0) int8 0 0 0 0 0 0 0 0 0 0 0 0 ... 0 0 0 0 0 0 0 0 0 0 0\n",
       "    deltaTime     (dim_0) float64 2.813e+07 2.813e+07 ... 2.814e+07 2.814e+07\n",
       "    year          (dim_0) int64 2018 2018 2018 2018 2018 ... 2018 2018 2018 2018\n",
       "    month         (dim_0) int64 11 11 11 11 11 11 11 11 ... 11 11 11 11 11 11 11\n",
       "    day           (dim_0) int64 22 22 22 22 22 22 22 22 ... 22 22 22 22 22 22 22\n",
       "    hour          (dim_0) int64 15 15 15 15 15 15 15 15 ... 15 15 15 15 15 15 15\n",
       "    second        (dim_0) int64 13 13 13 13 13 13 13 13 ... 57 57 57 57 57 57 57"
      ]
     },
     "execution_count": 13,
     "metadata": {},
     "output_type": "execute_result"
    }
   ],
   "source": [
    "import xarray as xr\n",
    "xr.Dataset(dF)\n",
    "xr.Dataset(dF2)\n",
    "#xr.merge([dF, dF2], compat='no_conflicts')"
   ]
  },
  {
   "cell_type": "code",
   "execution_count": null,
   "metadata": {},
   "outputs": [],
   "source": [
    "# The different beams have different number of dimensions. \n",
    "# How do we merge them into a joint array? \n",
    "# What value do we use to tag each beam to the same intiial pulse?\n"
   ]
  }
 ],
 "metadata": {
  "kernelspec": {
   "display_name": "Python [conda env:py36]",
   "language": "python",
   "name": "conda-env-py36-py"
  },
  "language_info": {
   "codemirror_mode": {
    "name": "ipython",
    "version": 3
   },
   "file_extension": ".py",
   "mimetype": "text/x-python",
   "name": "python",
   "nbconvert_exporter": "python",
   "pygments_lexer": "ipython3",
   "version": "3.6.5"
  }
 },
 "nbformat": 4,
 "nbformat_minor": 2
}
