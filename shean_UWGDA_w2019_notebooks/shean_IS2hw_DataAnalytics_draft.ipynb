{
 "cells": [
  {
   "cell_type": "markdown",
   "metadata": {},
   "source": [
    "# A subset of high-level geospatial data science strategies*:\n",
    "## Relevant core concepts and existing tools for analysis, visualization, and interpretation\n",
    "*Not intended for trillions of ATL03 points\n",
    "\n",
    "ICESat-2 hackweek  \n",
    "June 18, 2019  \n",
    "David Shean"
   ]
  },
  {
   "cell_type": "markdown",
   "metadata": {},
   "source": [
    "# Updated rough outline after call on 5/28/19"
   ]
  },
  {
   "cell_type": "markdown",
   "metadata": {},
   "source": [
    "# Introduction\n",
    "## Two pathways\n",
    "1. Efficient data processing, scalable workflows\n",
    "2. High-level data science - *analysis, interpetation, and visualization*\n",
    "\n",
    "## ICESat GLAS review?\n",
    "\n",
    "## Core geospatial concepts\n",
    "### Datums and projections\n",
    "An essential, but often overlooked decision\n",
    "\n",
    "#### Datum selection\n",
    "* Background on ECEF, ellipsoid, and geoid heights\n",
    "* Satellites use ECEF, ellipsoid is simple shape model - limited error\n",
    "* Geoid models are coarse and *always* introduce error, but provide elevations \n",
    "* Sea ice, freeboard height - need to use a geoid (talk to your community on best practices)\n",
    "* Careful about incorporating other datesets, geoid to ellipsoid offsets are +/-100 m\n",
    "* In practice - pick one, and use it consistently for relative elevation change\n",
    "\n",
    "#### Projection selection\n",
    "* Do you need to measure distances?\n",
    "* Do you need to calculate areas?  Volume change?\n",
    "* In practice - community knows best practices, South Polar Stereographic (EPSG:3031), North Polar Stereographic (EPSG:3413)\n",
    "* Understand the limitations - not equidistant, so velocities will contain error depending on location\n",
    "\n",
    "## Core geospatial data operations\n",
    "### Scatterplots, chloropleth maps, histograms\n",
    "### Spatial selection by arbitrary polygons\n",
    "### Spatial aggregation and statistics\n",
    "\n",
    "## The Python geospatial landscape\n",
    "### Existing tools: geopandas, rasterio, GDAL, cartopy?\n",
    "#### Geohackweek overview in 5 minutes\n",
    "\n",
    "### Saving point cloud data\n",
    "* NumPy csv output\n",
    "* Geopandas/fiona - shp, geopackage, database formats, strategies\n",
    "### Visualizing\n",
    "\n",
    "## Integrating Raster and Point data\n",
    "### Loading raster DEM, basic point sampling, difference maps\n",
    "### Filtering bad shots - simple cloud filter\n",
    "\n"
   ]
  },
  {
   "cell_type": "markdown",
   "metadata": {},
   "source": [
    "## Objectives (pulled from GDA course notebooks, need to be refined and updated to reflect content)\n",
    "\n",
    "* Apply some of the core NumPy, Pandas, and Matplotlib functionality\n",
    "* Learn basic data manipulation and exploration with a relatively small, clean point dataset\n",
    "\n",
    "* Review some fundamental concepts that are common to most geospatial analysis\n",
    "* Explore coordinate systems, projections and transformations, geometry types\n",
    "* Create more sophisticated visualizations involving multiple layers and data types\n",
    "\n",
    "* Continue to explore GeoPandas functionality, including spatial joins\n",
    "* Explore geospatial hexbin plots\n",
    "\n",
    "* Sampling a raster at discrete point locations"
   ]
  },
  {
   "cell_type": "code",
   "execution_count": null,
   "metadata": {},
   "outputs": [],
   "source": []
  }
 ],
 "metadata": {
  "kernelspec": {
   "display_name": "Python 3",
   "language": "python",
   "name": "python3"
  },
  "language_info": {
   "codemirror_mode": {
    "name": "ipython",
    "version": 3
   },
   "file_extension": ".py",
   "mimetype": "text/x-python",
   "name": "python",
   "nbconvert_exporter": "python",
   "pygments_lexer": "ipython3",
   "version": "3.6.7"
  }
 },
 "nbformat": 4,
 "nbformat_minor": 2
}
